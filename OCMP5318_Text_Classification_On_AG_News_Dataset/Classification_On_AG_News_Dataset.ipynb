{
  "cells": [
    {
      "cell_type": "markdown",
      "metadata": {
        "id": "bkw1J_zO_4bH"
      },
      "source": [
        "# OCMP5318 - Machine Learning and Data Mining: Assignment 2\n",
        "**Deadline**: The last day of Week 6, at 11:59PM"
      ]
    },
    {
      "cell_type": "markdown",
      "metadata": {
        "id": "F81fUHLD_4bL"
      },
      "source": [
        "Full Name: Ayra Islam\n",
        "\n",
        "Student ID: 490470589"
      ]
    },
    {
      "cell_type": "markdown",
      "metadata": {
        "id": "ge-xSUO2_4bL"
      },
      "source": [
        "## 1. Objective"
      ]
    },
    {
      "cell_type": "markdown",
      "metadata": {
        "id": "kf5NaVJ8_4bM"
      },
      "source": [
        "In this assignment, you are required to develop deep learning and clustering models for natural language processing applications. The dataset to be used is the **AG News Classification Dataset**, which is a collection of more than 1 million news articles. The goal is to classify or cluster these articles accurately into their corresponding class of World, Sports, Business, Sci/Tech\n",
        "\n",
        "You are required to build, train, and evaluate **four machine learning methods** including:\n",
        "\n",
        "- Two supervised methods from the following list:\n",
        "    - Deep Neural Network (DNN)\n",
        "    - Convolutional Neural Network (CNN)\n",
        "    - Recurrent Neural Network (RNN) or its variant such as Long-Short Term Memory (LSTM), Gated Recurrent Unit (GRU), etc.\n",
        "    - Transformer\n",
        "- Two unsupervised methods from the following list:\n",
        "    - K-Means Clustering\n",
        "    - Gaussian Mixture Models (GMM)\n",
        "    - Agglomerative Hierarchical Clustering (AHC)"
      ]
    },
    {
      "cell_type": "markdown",
      "metadata": {
        "id": "K__Bytlt_4bM"
      },
      "source": [
        "### *Important Notes*\n",
        "1)\tPlease refer to lecture notes and lab materials for different machine learning methods and evaluation methods.\n",
        "2)\tPlease proceed your own way if we do not specify it in the assignment details.\n",
        "3)\tYou can use packages or code from the tutorial. If you use any other package or code, please put the reference at the bottom of the code. Otherwise, it will be considered as plagiarism and the relevant section will not be marked.\n"
      ]
    },
    {
      "cell_type": "markdown",
      "metadata": {
        "id": "4ucjiWJU_4bM"
      },
      "source": [
        "## 2. Dataset"
      ]
    },
    {
      "cell_type": "markdown",
      "metadata": {
        "id": "_CEdtvWo_4bN"
      },
      "source": [
        "### 2.1. Description"
      ]
    },
    {
      "cell_type": "markdown",
      "metadata": {
        "id": "Go-Grody_4bN"
      },
      "source": [
        "AG is a collection of more than 1 million news articles. News articles have been gathered from more than 2000 news sources by ComeToMyHead in more than 1 year of activity. ComeToMyHead is an academic news search engine which has been running since July, 2004. The dataset is provided by the academic comunity for research purposes in data mining (clustering, classification, etc), information retrieval (ranking, search, etc), xml, data compression, data streaming, and any other non-commercial activity. For more information, please refer to the link http://www.di.unipi.it/~gulli/AG_corpus_of_news_articles.html .\n",
        "\n",
        "The AG's news topic classification dataset is constructed by Xiang Zhang (xiang.zhang@nyu.edu) from the dataset above. It is used as a text classification benchmark in the following paper: Xiang Zhang, Junbo Zhao, Yann LeCun. Character-level Convolutional Networks for Text Classification. Advances in Neural Information Processing Systems 28 (NIPS 2015).\n",
        "\n",
        "The AG's news topic classification dataset is constructed by choosing 4 largest classes from the original corpus. Each class contains 30,000 training samples and 1,900 testing samples. The total number of training samples is 120,000 and testing 7,600."
      ]
    },
    {
      "cell_type": "markdown",
      "metadata": {
        "id": "gYHHTR-w_4bN"
      },
      "source": [
        "### 2.2. Data Structure"
      ]
    },
    {
      "cell_type": "markdown",
      "metadata": {
        "id": "y1UFw-3B_4bO"
      },
      "source": [
        "The files train.csv and test.csv contain all the training samples as comma-sparated values.\n",
        "Each article in the dataset is a article with the following sections:\n",
        "\n",
        "1. **Class index**: The class ids are numbered 1-4 where 1 represents World, 2 represents Sports, 3 represents Business and 4 represents Sci/Tech.\n",
        "2. **Title**: Title of the article.\n",
        "3. **Description**: This is the main content of the article.\n",
        "\n",
        "The title and description are escaped using double quotes (\"), and any internal double quote is escaped by 2 double quotes (\"\"). New lines are escaped by a backslash followed with an \"n\" character, that is \"\\n\"."
      ]
    },
    {
      "cell_type": "markdown",
      "metadata": {
        "id": "p3k7W5JM_4bO"
      },
      "source": [
        "### 2.3. Load and analyze the data\n"
      ]
    },
    {
      "cell_type": "code",
      "execution_count": null,
      "metadata": {
        "colab": {
          "base_uri": "https://localhost:8080/"
        },
        "id": "v-91jPClwXja",
        "outputId": "2f4fedac-4314-4330-d47d-e3b930ea4b53"
      },
      "outputs": [
        {
          "output_type": "stream",
          "name": "stdout",
          "text": [
            "Mounted at /content/drive\n"
          ]
        }
      ],
      "source": [
        "# Set directory\n",
        "from google.colab import drive\n",
        "drive.mount('/content/drive')"
      ]
    },
    {
      "cell_type": "code",
      "execution_count": null,
      "metadata": {
        "id": "utCAZ2FEui_N"
      },
      "outputs": [],
      "source": [
        "data_path = '/content/drive/My Drive/data_asg2'"
      ]
    },
    {
      "cell_type": "markdown",
      "metadata": {
        "id": "YCdHJKLC_4bO"
      },
      "source": [
        "In this assignment, you can load the dataset using the code below."
      ]
    },
    {
      "cell_type": "code",
      "execution_count": null,
      "metadata": {
        "id": "_S6dxfrN_4bO"
      },
      "outputs": [],
      "source": [
        "# Import library\n",
        "import os\n",
        "import numpy as np\n",
        "import pandas as pd\n",
        "import scipy.io"
      ]
    },
    {
      "cell_type": "code",
      "execution_count": null,
      "metadata": {
        "id": "vPvHQgFh_4bQ"
      },
      "outputs": [],
      "source": [
        "train_data = pd.read_csv(data_path+ \"/\"+ \"train.csv\", header = 0, names = ['ClassLabel','Title','Desc'])\n",
        "test_data = pd.read_csv(data_path+ \"/\"+ \"test.csv\",header = 0, names = ['ClassLabel','Title','Desc'])"
      ]
    },
    {
      "cell_type": "code",
      "execution_count": null,
      "metadata": {
        "colab": {
          "base_uri": "https://localhost:8080/",
          "height": 293
        },
        "id": "n4kDrSAf_4bQ",
        "outputId": "c6d79e2d-d537-43ed-a7ec-9d55ba3ebb66"
      },
      "outputs": [
        {
          "output_type": "execute_result",
          "data": {
            "text/plain": [
              "   ClassLabel                                              Title  \\\n",
              "0           3  Wall St. Bears Claw Back Into the Black (Reuters)   \n",
              "1           3  Carlyle Looks Toward Commercial Aerospace (Reu...   \n",
              "2           3    Oil and Economy Cloud Stocks' Outlook (Reuters)   \n",
              "3           3  Iraq Halts Oil Exports from Main Southern Pipe...   \n",
              "4           3  Oil prices soar to all-time record, posing new...   \n",
              "\n",
              "                                                Desc  \n",
              "0  Reuters - Short-sellers, Wall Street's dwindli...  \n",
              "1  Reuters - Private investment firm Carlyle Grou...  \n",
              "2  Reuters - Soaring crude prices plus worries\\ab...  \n",
              "3  Reuters - Authorities have halted oil export\\f...  \n",
              "4  AFP - Tearaway world oil prices, toppling reco...  "
            ],
            "text/html": [
              "\n",
              "  <div id=\"df-fc78b7e3-d9b6-4643-9400-1585cdaa5eaa\" class=\"colab-df-container\">\n",
              "    <div>\n",
              "<style scoped>\n",
              "    .dataframe tbody tr th:only-of-type {\n",
              "        vertical-align: middle;\n",
              "    }\n",
              "\n",
              "    .dataframe tbody tr th {\n",
              "        vertical-align: top;\n",
              "    }\n",
              "\n",
              "    .dataframe thead th {\n",
              "        text-align: right;\n",
              "    }\n",
              "</style>\n",
              "<table border=\"1\" class=\"dataframe\">\n",
              "  <thead>\n",
              "    <tr style=\"text-align: right;\">\n",
              "      <th></th>\n",
              "      <th>ClassLabel</th>\n",
              "      <th>Title</th>\n",
              "      <th>Desc</th>\n",
              "    </tr>\n",
              "  </thead>\n",
              "  <tbody>\n",
              "    <tr>\n",
              "      <th>0</th>\n",
              "      <td>3</td>\n",
              "      <td>Wall St. Bears Claw Back Into the Black (Reuters)</td>\n",
              "      <td>Reuters - Short-sellers, Wall Street's dwindli...</td>\n",
              "    </tr>\n",
              "    <tr>\n",
              "      <th>1</th>\n",
              "      <td>3</td>\n",
              "      <td>Carlyle Looks Toward Commercial Aerospace (Reu...</td>\n",
              "      <td>Reuters - Private investment firm Carlyle Grou...</td>\n",
              "    </tr>\n",
              "    <tr>\n",
              "      <th>2</th>\n",
              "      <td>3</td>\n",
              "      <td>Oil and Economy Cloud Stocks' Outlook (Reuters)</td>\n",
              "      <td>Reuters - Soaring crude prices plus worries\\ab...</td>\n",
              "    </tr>\n",
              "    <tr>\n",
              "      <th>3</th>\n",
              "      <td>3</td>\n",
              "      <td>Iraq Halts Oil Exports from Main Southern Pipe...</td>\n",
              "      <td>Reuters - Authorities have halted oil export\\f...</td>\n",
              "    </tr>\n",
              "    <tr>\n",
              "      <th>4</th>\n",
              "      <td>3</td>\n",
              "      <td>Oil prices soar to all-time record, posing new...</td>\n",
              "      <td>AFP - Tearaway world oil prices, toppling reco...</td>\n",
              "    </tr>\n",
              "  </tbody>\n",
              "</table>\n",
              "</div>\n",
              "    <div class=\"colab-df-buttons\">\n",
              "\n",
              "  <div class=\"colab-df-container\">\n",
              "    <button class=\"colab-df-convert\" onclick=\"convertToInteractive('df-fc78b7e3-d9b6-4643-9400-1585cdaa5eaa')\"\n",
              "            title=\"Convert this dataframe to an interactive table.\"\n",
              "            style=\"display:none;\">\n",
              "\n",
              "  <svg xmlns=\"http://www.w3.org/2000/svg\" height=\"24px\" viewBox=\"0 -960 960 960\">\n",
              "    <path d=\"M120-120v-720h720v720H120Zm60-500h600v-160H180v160Zm220 220h160v-160H400v160Zm0 220h160v-160H400v160ZM180-400h160v-160H180v160Zm440 0h160v-160H620v160ZM180-180h160v-160H180v160Zm440 0h160v-160H620v160Z\"/>\n",
              "  </svg>\n",
              "    </button>\n",
              "\n",
              "  <style>\n",
              "    .colab-df-container {\n",
              "      display:flex;\n",
              "      gap: 12px;\n",
              "    }\n",
              "\n",
              "    .colab-df-convert {\n",
              "      background-color: #E8F0FE;\n",
              "      border: none;\n",
              "      border-radius: 50%;\n",
              "      cursor: pointer;\n",
              "      display: none;\n",
              "      fill: #1967D2;\n",
              "      height: 32px;\n",
              "      padding: 0 0 0 0;\n",
              "      width: 32px;\n",
              "    }\n",
              "\n",
              "    .colab-df-convert:hover {\n",
              "      background-color: #E2EBFA;\n",
              "      box-shadow: 0px 1px 2px rgba(60, 64, 67, 0.3), 0px 1px 3px 1px rgba(60, 64, 67, 0.15);\n",
              "      fill: #174EA6;\n",
              "    }\n",
              "\n",
              "    .colab-df-buttons div {\n",
              "      margin-bottom: 4px;\n",
              "    }\n",
              "\n",
              "    [theme=dark] .colab-df-convert {\n",
              "      background-color: #3B4455;\n",
              "      fill: #D2E3FC;\n",
              "    }\n",
              "\n",
              "    [theme=dark] .colab-df-convert:hover {\n",
              "      background-color: #434B5C;\n",
              "      box-shadow: 0px 1px 3px 1px rgba(0, 0, 0, 0.15);\n",
              "      filter: drop-shadow(0px 1px 2px rgba(0, 0, 0, 0.3));\n",
              "      fill: #FFFFFF;\n",
              "    }\n",
              "  </style>\n",
              "\n",
              "    <script>\n",
              "      const buttonEl =\n",
              "        document.querySelector('#df-fc78b7e3-d9b6-4643-9400-1585cdaa5eaa button.colab-df-convert');\n",
              "      buttonEl.style.display =\n",
              "        google.colab.kernel.accessAllowed ? 'block' : 'none';\n",
              "\n",
              "      async function convertToInteractive(key) {\n",
              "        const element = document.querySelector('#df-fc78b7e3-d9b6-4643-9400-1585cdaa5eaa');\n",
              "        const dataTable =\n",
              "          await google.colab.kernel.invokeFunction('convertToInteractive',\n",
              "                                                    [key], {});\n",
              "        if (!dataTable) return;\n",
              "\n",
              "        const docLinkHtml = 'Like what you see? Visit the ' +\n",
              "          '<a target=\"_blank\" href=https://colab.research.google.com/notebooks/data_table.ipynb>data table notebook</a>'\n",
              "          + ' to learn more about interactive tables.';\n",
              "        element.innerHTML = '';\n",
              "        dataTable['output_type'] = 'display_data';\n",
              "        await google.colab.output.renderOutput(dataTable, element);\n",
              "        const docLink = document.createElement('div');\n",
              "        docLink.innerHTML = docLinkHtml;\n",
              "        element.appendChild(docLink);\n",
              "      }\n",
              "    </script>\n",
              "  </div>\n",
              "\n",
              "\n",
              "<div id=\"df-9aaa9818-3d14-4af1-9428-009ab86422ac\">\n",
              "  <button class=\"colab-df-quickchart\" onclick=\"quickchart('df-9aaa9818-3d14-4af1-9428-009ab86422ac')\"\n",
              "            title=\"Suggest charts\"\n",
              "            style=\"display:none;\">\n",
              "\n",
              "<svg xmlns=\"http://www.w3.org/2000/svg\" height=\"24px\"viewBox=\"0 0 24 24\"\n",
              "     width=\"24px\">\n",
              "    <g>\n",
              "        <path d=\"M19 3H5c-1.1 0-2 .9-2 2v14c0 1.1.9 2 2 2h14c1.1 0 2-.9 2-2V5c0-1.1-.9-2-2-2zM9 17H7v-7h2v7zm4 0h-2V7h2v10zm4 0h-2v-4h2v4z\"/>\n",
              "    </g>\n",
              "</svg>\n",
              "  </button>\n",
              "\n",
              "<style>\n",
              "  .colab-df-quickchart {\n",
              "      --bg-color: #E8F0FE;\n",
              "      --fill-color: #1967D2;\n",
              "      --hover-bg-color: #E2EBFA;\n",
              "      --hover-fill-color: #174EA6;\n",
              "      --disabled-fill-color: #AAA;\n",
              "      --disabled-bg-color: #DDD;\n",
              "  }\n",
              "\n",
              "  [theme=dark] .colab-df-quickchart {\n",
              "      --bg-color: #3B4455;\n",
              "      --fill-color: #D2E3FC;\n",
              "      --hover-bg-color: #434B5C;\n",
              "      --hover-fill-color: #FFFFFF;\n",
              "      --disabled-bg-color: #3B4455;\n",
              "      --disabled-fill-color: #666;\n",
              "  }\n",
              "\n",
              "  .colab-df-quickchart {\n",
              "    background-color: var(--bg-color);\n",
              "    border: none;\n",
              "    border-radius: 50%;\n",
              "    cursor: pointer;\n",
              "    display: none;\n",
              "    fill: var(--fill-color);\n",
              "    height: 32px;\n",
              "    padding: 0;\n",
              "    width: 32px;\n",
              "  }\n",
              "\n",
              "  .colab-df-quickchart:hover {\n",
              "    background-color: var(--hover-bg-color);\n",
              "    box-shadow: 0 1px 2px rgba(60, 64, 67, 0.3), 0 1px 3px 1px rgba(60, 64, 67, 0.15);\n",
              "    fill: var(--button-hover-fill-color);\n",
              "  }\n",
              "\n",
              "  .colab-df-quickchart-complete:disabled,\n",
              "  .colab-df-quickchart-complete:disabled:hover {\n",
              "    background-color: var(--disabled-bg-color);\n",
              "    fill: var(--disabled-fill-color);\n",
              "    box-shadow: none;\n",
              "  }\n",
              "\n",
              "  .colab-df-spinner {\n",
              "    border: 2px solid var(--fill-color);\n",
              "    border-color: transparent;\n",
              "    border-bottom-color: var(--fill-color);\n",
              "    animation:\n",
              "      spin 1s steps(1) infinite;\n",
              "  }\n",
              "\n",
              "  @keyframes spin {\n",
              "    0% {\n",
              "      border-color: transparent;\n",
              "      border-bottom-color: var(--fill-color);\n",
              "      border-left-color: var(--fill-color);\n",
              "    }\n",
              "    20% {\n",
              "      border-color: transparent;\n",
              "      border-left-color: var(--fill-color);\n",
              "      border-top-color: var(--fill-color);\n",
              "    }\n",
              "    30% {\n",
              "      border-color: transparent;\n",
              "      border-left-color: var(--fill-color);\n",
              "      border-top-color: var(--fill-color);\n",
              "      border-right-color: var(--fill-color);\n",
              "    }\n",
              "    40% {\n",
              "      border-color: transparent;\n",
              "      border-right-color: var(--fill-color);\n",
              "      border-top-color: var(--fill-color);\n",
              "    }\n",
              "    60% {\n",
              "      border-color: transparent;\n",
              "      border-right-color: var(--fill-color);\n",
              "    }\n",
              "    80% {\n",
              "      border-color: transparent;\n",
              "      border-right-color: var(--fill-color);\n",
              "      border-bottom-color: var(--fill-color);\n",
              "    }\n",
              "    90% {\n",
              "      border-color: transparent;\n",
              "      border-bottom-color: var(--fill-color);\n",
              "    }\n",
              "  }\n",
              "</style>\n",
              "\n",
              "  <script>\n",
              "    async function quickchart(key) {\n",
              "      const quickchartButtonEl =\n",
              "        document.querySelector('#' + key + ' button');\n",
              "      quickchartButtonEl.disabled = true;  // To prevent multiple clicks.\n",
              "      quickchartButtonEl.classList.add('colab-df-spinner');\n",
              "      try {\n",
              "        const charts = await google.colab.kernel.invokeFunction(\n",
              "            'suggestCharts', [key], {});\n",
              "      } catch (error) {\n",
              "        console.error('Error during call to suggestCharts:', error);\n",
              "      }\n",
              "      quickchartButtonEl.classList.remove('colab-df-spinner');\n",
              "      quickchartButtonEl.classList.add('colab-df-quickchart-complete');\n",
              "    }\n",
              "    (() => {\n",
              "      let quickchartButtonEl =\n",
              "        document.querySelector('#df-9aaa9818-3d14-4af1-9428-009ab86422ac button');\n",
              "      quickchartButtonEl.style.display =\n",
              "        google.colab.kernel.accessAllowed ? 'block' : 'none';\n",
              "    })();\n",
              "  </script>\n",
              "</div>\n",
              "\n",
              "    </div>\n",
              "  </div>\n"
            ],
            "application/vnd.google.colaboratory.intrinsic+json": {
              "type": "dataframe",
              "variable_name": "train_data"
            }
          },
          "metadata": {},
          "execution_count": 12
        }
      ],
      "source": [
        "train_data.head(5)"
      ]
    },
    {
      "cell_type": "code",
      "execution_count": null,
      "metadata": {
        "colab": {
          "base_uri": "https://localhost:8080/"
        },
        "id": "KViQyqnORhMK",
        "outputId": "0e1b617c-a103-485d-d674-78c0024c94ae"
      },
      "outputs": [
        {
          "output_type": "execute_result",
          "data": {
            "text/plain": [
              "(120000, 3)"
            ]
          },
          "metadata": {},
          "execution_count": 13
        }
      ],
      "source": [
        "train_data.shape"
      ]
    },
    {
      "cell_type": "markdown",
      "metadata": {
        "id": "uHV0pugd_4bQ"
      },
      "source": [
        "The data is stored as raw text. This means that you'll likely need to perform preprocessing steps, such as removing headers and footers, tokenizing the text, removing stop words, stemming or lemmatizing words, and converting the text into a numerical format suitable for machine learning algorithms."
      ]
    },
    {
      "cell_type": "code",
      "execution_count": null,
      "metadata": {
        "colab": {
          "base_uri": "https://localhost:8080/",
          "height": 449
        },
        "id": "-l0CG9b6KYJ2",
        "outputId": "30381918-c47c-4f86-d6f8-f7fd82be1947"
      },
      "outputs": [
        {
          "output_type": "display_data",
          "data": {
            "text/plain": [
              "<Figure size 640x480 with 1 Axes>"
            ],
            "image/png": "[encoded data removed]"
          },
          "metadata": {}
        }
      ],
      "source": [
        "# There are no imbalances here\n",
        "import seaborn as sns\n",
        "import matplotlib.pyplot as plt\n",
        "sns.countplot(x = 'ClassLabel', data = train_data)\n",
        "plt.show()"
      ]
    },
    {
      "cell_type": "code",
      "execution_count": null,
      "metadata": {
        "colab": {
          "base_uri": "https://localhost:8080/",
          "height": 449
        },
        "id": "_7u6vnlBLGsm",
        "outputId": "7b482a75-4233-4732-d5b5-336095316b74"
      },
      "outputs": [
        {
          "output_type": "display_data",
          "data": {
            "text/plain": [
              "<Figure size 640x480 with 1 Axes>"
            ],
            "image/png": "[encoded data removed]"
          },
          "metadata": {}
        }
      ],
      "source": [
        "# There are no imbalances here\n",
        "sns.countplot(x = 'ClassLabel', data = test_data)\n",
        "plt.show()"
      ]
    },
    {
      "cell_type": "code",
      "execution_count": null,
      "metadata": {
        "colab": {
          "base_uri": "https://localhost:8080/"
        },
        "id": "PLz90VmPKTwD",
        "outputId": "2dfab765-a9f1-478b-d250-67bbd6b8a31b"
      },
      "outputs": [
        {
          "output_type": "stream",
          "name": "stdout",
          "text": [
            "(120000, 3)\n",
            "(7600, 3)\n"
          ]
        }
      ],
      "source": [
        "# There are 120000 samples in training data and 7600 in test data\n",
        "print(train_data.shape)\n",
        "print(test_data.shape)"
      ]
    },
    {
      "cell_type": "code",
      "execution_count": null,
      "metadata": {
        "colab": {
          "base_uri": "https://localhost:8080/"
        },
        "id": "h61vWF2XOFmp",
        "outputId": "2dc18996-6e6e-4b4b-e20c-0a0fcda56cbe"
      },
      "outputs": [
        {
          "output_type": "execute_result",
          "data": {
            "text/plain": [
              "array([3, 4, 2, 1])"
            ]
          },
          "metadata": {},
          "execution_count": 10
        }
      ],
      "source": [
        "## Unique Labels\n",
        "train_data['ClassLabel'].unique()\n",
        "test_data['ClassLabel'].unique()"
      ]
    },
    {
      "cell_type": "markdown",
      "metadata": {
        "id": "jrmb3qnQ_4bQ"
      },
      "source": [
        "## 3. Submission Details\n",
        "    "
      ]
    },
    {
      "cell_type": "markdown",
      "metadata": {
        "id": "qP_KuPqy_4bR"
      },
      "source": [
        "As part of the submission requirements, you are required to provide an `.ipynb` file containing your code and a `.pdf` document for the report.\n",
        "\n",
        "1.\t**Code (60%)**: `.ipynb` file that can be successfully run on Colab and contain all sections of the given template. The file name should be your SID. For example: '123123123.ipynb'. Students auditing the class (not registered) are NOT allowed to upload a submission.\n",
        "**IMPORTANT**: Run all cells, and do not clear out the outputs, before submitting. You will only get credit for code that has been run.\n",
        "\n",
        "2. **Report (40%)**: `.pdf` file with a maximum of 10 pages (appendix and reference excluded). The file name should be your SID. For example: '123123123.pdf'"
      ]
    },
    {
      "cell_type": "markdown",
      "metadata": {
        "id": "gGohmhYh_4bR"
      },
      "source": [
        "## 4. Code\n"
      ]
    },
    {
      "cell_type": "markdown",
      "metadata": {
        "id": "5-vkuHqH_4bR"
      },
      "source": [
        "### Your code should clearly demonstrate the following elements:"
      ]
    },
    {
      "cell_type": "markdown",
      "metadata": {
        "id": "uyr6RnPy_4bR"
      },
      "source": [
        "1. **Data Pre-processing Techniques**: Implement and provide a clear explanation of at least one data pre-processing technique utilized on the dataset.\n",
        "\n",
        "2. **Machine Learning Algorithms**: Include detailed implementations of four machine learning algorithms.:\n",
        "\n",
        "     - Select two supervised methods from the following list:\n",
        "        - Deep Neural Network (DNN)\n",
        "        - Convolutional Neural Network (CNN)\n",
        "        - Recurrent Neural Network (RNN) or its variant such as Long-Short Term Memory (LSTM), Gated Recurrent Unit (GRU), etc.\n",
        "        - Transformer\n",
        "    - And two unsupervised methods from the following list:\n",
        "        - K-Means Clustering\n",
        "        - Gaussian Mixture Models (GMM)\n",
        "        - Agglomerative Hierarchical Clustering (AHC)\n",
        "\n",
        "   Make sure to justify your choice of algorithms, and your code should clearly convey your comprehension of these algorithms' operations. These algorithms can be implemented using `sklearn`, `pytorch`, `keras` or built from scratch.\n",
        "\n",
        "3. **Hyperparameter Tuning**: Illustrate the process of fine-tuning hyperparameters for each selected algorithm. This includes a clear explanation of your choice of hyperparameters and any employed techniques for tuning them.\n",
        "\n",
        "4. **Evaluation Metrics**: Evaluate each method using relevant metrics. Use charts or tables to intuitively visualize the results.\n",
        "\n",
        "5. **Algorithm Comparison**: Compare the results from four implemented algorithms using charts or tables.\n",
        "\n",
        "6. **Coding Environment**: Please specify the details of the hardware and software environments used for performance evaluation in both code and report. This information should encompass your operating system, Python version, and any major libraries or frameworks utilized."
      ]
    },
    {
      "cell_type": "markdown",
      "metadata": {
        "id": "bZ9tL90k_4bR"
      },
      "source": [
        "Note that your final code submission should be well-organized, readable, and properly commented."
      ]
    },
    {
      "cell_type": "markdown",
      "metadata": {
        "id": "HA9abl1H_4bR"
      },
      "source": [
        "### 4.0. Setup"
      ]
    },
    {
      "cell_type": "markdown",
      "metadata": {
        "id": "oBiR0CQM_4bR"
      },
      "source": [
        "Import and install all the necessaries libraries"
      ]
    },
    {
      "cell_type": "code",
      "source": [
        "! pip install keras_tuner"
      ],
      "metadata": {
        "colab": {
          "base_uri": "https://localhost:8080/"
        },
        "id": "ogAYcSgbdnBv",
        "outputId": "a7857e86-50e2-4b05-bdc6-f7f44f5494c4"
      },
      "execution_count": null,
      "outputs": [
        {
          "output_type": "stream",
          "name": "stdout",
          "text": [
            "Collecting keras_tuner\n",
            "  Downloading keras_tuner-1.4.7-py3-none-any.whl.metadata (5.4 kB)\n",
            "Requirement already satisfied: keras in /usr/local/lib/python3.11/dist-packages (from keras_tuner) (3.8.0)\n",
            "Requirement already satisfied: packaging in /usr/local/lib/python3.11/dist-packages (from keras_tuner) (24.2)\n",
            "Requirement already satisfied: requests in /usr/local/lib/python3.11/dist-packages (from keras_tuner) (2.32.3)\n",
            "Collecting kt-legacy (from keras_tuner)\n",
            "  Downloading kt_legacy-1.0.5-py3-none-any.whl.metadata (221 bytes)\n",
            "Requirement already satisfied: absl-py in /usr/local/lib/python3.11/dist-packages (from keras->keras_tuner) (1.4.0)\n",
            "Requirement already satisfied: numpy in /usr/local/lib/python3.11/dist-packages (from keras->keras_tuner) (2.0.2)\n",
            "Requirement already satisfied: rich in /usr/local/lib/python3.11/dist-packages (from keras->keras_tuner) (13.9.4)\n",
            "Requirement already satisfied: namex in /usr/local/lib/python3.11/dist-packages (from keras->keras_tuner) (0.0.8)\n",
            "Requirement already satisfied: h5py in /usr/local/lib/python3.11/dist-packages (from keras->keras_tuner) (3.13.0)\n",
            "Requirement already satisfied: optree in /usr/local/lib/python3.11/dist-packages (from keras->keras_tuner) (0.14.1)\n",
            "Requirement already satisfied: ml-dtypes in /usr/local/lib/python3.11/dist-packages (from keras->keras_tuner) (0.4.1)\n",
            "Requirement already satisfied: charset-normalizer<4,>=2 in /usr/local/lib/python3.11/dist-packages (from requests->keras_tuner) (3.4.1)\n",
            "Requirement already satisfied: idna<4,>=2.5 in /usr/local/lib/python3.11/dist-packages (from requests->keras_tuner) (3.10)\n",
            "Requirement already satisfied: urllib3<3,>=1.21.1 in /usr/local/lib/python3.11/dist-packages (from requests->keras_tuner) (2.3.0)\n",
            "Requirement already satisfied: certifi>=2017.4.17 in /usr/local/lib/python3.11/dist-packages (from requests->keras_tuner) (2025.1.31)\n",
            "Requirement already satisfied: typing-extensions>=4.5.0 in /usr/local/lib/python3.11/dist-packages (from optree->keras->keras_tuner) (4.13.0)\n",
            "Requirement already satisfied: markdown-it-py>=2.2.0 in /usr/local/lib/python3.11/dist-packages (from rich->keras->keras_tuner) (3.0.0)\n",
            "Requirement already satisfied: pygments<3.0.0,>=2.13.0 in /usr/local/lib/python3.11/dist-packages (from rich->keras->keras_tuner) (2.18.0)\n",
            "Requirement already satisfied: mdurl~=0.1 in /usr/local/lib/python3.11/dist-packages (from markdown-it-py>=2.2.0->rich->keras->keras_tuner) (0.1.2)\n",
            "Downloading keras_tuner-1.4.7-py3-none-any.whl (129 kB)\n",
            "\u001b[2K   \u001b[90m━━━━━━━━━━━━━━━━━━━━━━━━━━━━━━━━━━━━━━━━\u001b[0m \u001b[32m129.1/129.1 kB\u001b[0m \u001b[31m5.3 MB/s\u001b[0m eta \u001b[36m0:00:00\u001b[0m\n",
            "\u001b[?25hDownloading kt_legacy-1.0.5-py3-none-any.whl (9.6 kB)\n",
            "Installing collected packages: kt-legacy, keras_tuner\n",
            "Successfully installed keras_tuner-1.4.7 kt-legacy-1.0.5\n"
          ]
        }
      ]
    },
    {
      "cell_type": "code",
      "execution_count": null,
      "metadata": {
        "id": "sr_Bxzuh_4bR",
        "colab": {
          "base_uri": "https://localhost:8080/"
        },
        "outputId": "a2192fa1-5dfa-4d85-c012-051213026d58"
      },
      "outputs": [
        {
          "output_type": "stream",
          "name": "stderr",
          "text": [
            "[nltk_data] Downloading package stopwords to /root/nltk_data...\n",
            "[nltk_data]   Package stopwords is already up-to-date!\n",
            "[nltk_data] Downloading package wordnet to /root/nltk_data...\n",
            "[nltk_data]   Package wordnet is already up-to-date!\n"
          ]
        }
      ],
      "source": [
        "########################################\n",
        "#       TODO: Import libraries         #\n",
        "########################################\n",
        "\n",
        "# ========================\n",
        "# Standard Libraries\n",
        "# ========================\n",
        "import re\n",
        "import html\n",
        "import string as s\n",
        "import pickle\n",
        "import joblib\n",
        "import numpy as np\n",
        "import pandas as pd\n",
        "import matplotlib.pyplot as plt\n",
        "import seaborn as sns\n",
        "\n",
        "# ========================\n",
        "# Natural Language Processing (NLTK)\n",
        "# ========================\n",
        "import nltk\n",
        "nltk.download('stopwords')  # Required for stopword list\n",
        "nltk.download('wordnet')    # Required for lemmatization\n",
        "from nltk.corpus import stopwords, wordnet\n",
        "from nltk.stem import WordNetLemmatizer\n",
        "from nltk.tokenize import word_tokenize\n",
        "\n",
        "# ========================\n",
        "# TensorFlow/Keras Deep Learning\n",
        "# ========================\n",
        "import tensorflow as tf\n",
        "from tensorflow import keras\n",
        "import keras_tuner as kt\n",
        "from tensorflow.keras import layers, regularizers\n",
        "from tensorflow.keras.preprocessing.text import Tokenizer\n",
        "from tensorflow.keras.preprocessing.sequence import pad_sequences\n",
        "from tensorflow.keras.models import Model, Sequential, load_model\n",
        "from tensorflow.keras.layers import (Embedding, LSTM, Dense,\n",
        "                                   Dropout, GlobalMaxPooling1D,\n",
        "                                   Bidirectional)\n",
        "from tensorflow.keras.optimizers import Adam\n",
        "from tensorflow.keras.callbacks import EarlyStopping, ModelCheckpoint\n",
        "from tensorflow.keras.utils import plot_model\n",
        "\n",
        "# ========================\n",
        "# Machine Learning (scikit-learn)\n",
        "# ========================\n",
        "from sklearn.model_selection import train_test_split, GridSearchCV\n",
        "from sklearn.feature_extraction.text import TfidfVectorizer\n",
        "from sklearn.cluster import KMeans, MiniBatchKMeans\n",
        "from sklearn.mixture import GaussianMixture\n",
        "from sklearn.decomposition import TruncatedSVD\n",
        "from sklearn.metrics import (adjusted_rand_score,\n",
        "                             silhouette_score,\n",
        "                             classification_report,\n",
        "                             confusion_matrix)\n",
        "from sklearn.pipeline import make_pipeline\n"
      ]
    },
    {
      "cell_type": "markdown",
      "metadata": {
        "id": "9ulEmtMh_4bR"
      },
      "source": [
        "### 4.1. Data Pre-processing"
      ]
    },
    {
      "cell_type": "markdown",
      "metadata": {
        "id": "4Rxl_QuX_4bR"
      },
      "source": [
        "The purpose of data preprocessing is to eliminate the redundancies (e.g., punctuations, stopwords, etc.) and to bring text components in the dataset to some standard numerical format. This is one of the key steps before going into the process of building text classification or text clustering models. You are required to apply preprocessing techique before you can apply the algorithms.\n",
        "\n",
        "*Hint*: Preprocessing techiques for text data can be used such as *Data cleaning*, *Tokenization*, *Lemmatization*, *Normalization*, *PCA*, etc."
      ]
    },
    {
      "cell_type": "markdown",
      "metadata": {
        "id": "sG-kmV17M48y"
      },
      "source": [
        "##### Sources used for Preprocessing\n",
        "https://www.kaggle.com/code/ishandutta/ag-news-classification-lstm#Data-Preprocessing\n",
        "\n",
        "https://www.kaggle.com/code/mohsinsial/ag-news-classifications#-Import-Libraries"
      ]
    },
    {
      "cell_type": "code",
      "execution_count": null,
      "metadata": {
        "colab": {
          "base_uri": "https://localhost:8080/",
          "height": 311
        },
        "id": "4M5iybi__4bR",
        "outputId": "283a5468-adb3-4543-d148-67dbab419ecc"
      },
      "outputs": [
        {
          "output_type": "stream",
          "name": "stdout",
          "text": [
            "Original training data\n"
          ]
        },
        {
          "output_type": "execute_result",
          "data": {
            "text/plain": [
              "   ClassLabel                                              Title  \\\n",
              "0           3  Wall St. Bears Claw Back Into the Black (Reuters)   \n",
              "1           3  Carlyle Looks Toward Commercial Aerospace (Reu...   \n",
              "2           3    Oil and Economy Cloud Stocks' Outlook (Reuters)   \n",
              "3           3  Iraq Halts Oil Exports from Main Southern Pipe...   \n",
              "4           3  Oil prices soar to all-time record, posing new...   \n",
              "\n",
              "                                                Desc  \n",
              "0  Reuters - Short-sellers, Wall Street's dwindli...  \n",
              "1  Reuters - Private investment firm Carlyle Grou...  \n",
              "2  Reuters - Soaring crude prices plus worries\\ab...  \n",
              "3  Reuters - Authorities have halted oil export\\f...  \n",
              "4  AFP - Tearaway world oil prices, toppling reco...  "
            ],
            "text/html": [
              "\n",
              "  <div id=\"df-d757e098-d075-42c5-a574-c4b39b9b0b01\" class=\"colab-df-container\">\n",
              "    <div>\n",
              "<style scoped>\n",
              "    .dataframe tbody tr th:only-of-type {\n",
              "        vertical-align: middle;\n",
              "    }\n",
              "\n",
              "    .dataframe tbody tr th {\n",
              "        vertical-align: top;\n",
              "    }\n",
              "\n",
              "    .dataframe thead th {\n",
              "        text-align: right;\n",
              "    }\n",
              "</style>\n",
              "<table border=\"1\" class=\"dataframe\">\n",
              "  <thead>\n",
              "    <tr style=\"text-align: right;\">\n",
              "      <th></th>\n",
              "      <th>ClassLabel</th>\n",
              "      <th>Title</th>\n",
              "      <th>Desc</th>\n",
              "    </tr>\n",
              "  </thead>\n",
              "  <tbody>\n",
              "    <tr>\n",
              "      <th>0</th>\n",
              "      <td>3</td>\n",
              "      <td>Wall St. Bears Claw Back Into the Black (Reuters)</td>\n",
              "      <td>Reuters - Short-sellers, Wall Street's dwindli...</td>\n",
              "    </tr>\n",
              "    <tr>\n",
              "      <th>1</th>\n",
              "      <td>3</td>\n",
              "      <td>Carlyle Looks Toward Commercial Aerospace (Reu...</td>\n",
              "      <td>Reuters - Private investment firm Carlyle Grou...</td>\n",
              "    </tr>\n",
              "    <tr>\n",
              "      <th>2</th>\n",
              "      <td>3</td>\n",
              "      <td>Oil and Economy Cloud Stocks' Outlook (Reuters)</td>\n",
              "      <td>Reuters - Soaring crude prices plus worries\\ab...</td>\n",
              "    </tr>\n",
              "    <tr>\n",
              "      <th>3</th>\n",
              "      <td>3</td>\n",
              "      <td>Iraq Halts Oil Exports from Main Southern Pipe...</td>\n",
              "      <td>Reuters - Authorities have halted oil export\\f...</td>\n",
              "    </tr>\n",
              "    <tr>\n",
              "      <th>4</th>\n",
              "      <td>3</td>\n",
              "      <td>Oil prices soar to all-time record, posing new...</td>\n",
              "      <td>AFP - Tearaway world oil prices, toppling reco...</td>\n",
              "    </tr>\n",
              "  </tbody>\n",
              "</table>\n",
              "</div>\n",
              "    <div class=\"colab-df-buttons\">\n",
              "\n",
              "  <div class=\"colab-df-container\">\n",
              "    <button class=\"colab-df-convert\" onclick=\"convertToInteractive('df-d757e098-d075-42c5-a574-c4b39b9b0b01')\"\n",
              "            title=\"Convert this dataframe to an interactive table.\"\n",
              "            style=\"display:none;\">\n",
              "\n",
              "  <svg xmlns=\"http://www.w3.org/2000/svg\" height=\"24px\" viewBox=\"0 -960 960 960\">\n",
              "    <path d=\"M120-120v-720h720v720H120Zm60-500h600v-160H180v160Zm220 220h160v-160H400v160Zm0 220h160v-160H400v160ZM180-400h160v-160H180v160Zm440 0h160v-160H620v160ZM180-180h160v-160H180v160Zm440 0h160v-160H620v160Z\"/>\n",
              "  </svg>\n",
              "    </button>\n",
              "\n",
              "  <style>\n",
              "    .colab-df-container {\n",
              "      display:flex;\n",
              "      gap: 12px;\n",
              "    }\n",
              "\n",
              "    .colab-df-convert {\n",
              "      background-color: #E8F0FE;\n",
              "      border: none;\n",
              "      border-radius: 50%;\n",
              "      cursor: pointer;\n",
              "      display: none;\n",
              "      fill: #1967D2;\n",
              "      height: 32px;\n",
              "      padding: 0 0 0 0;\n",
              "      width: 32px;\n",
              "    }\n",
              "\n",
              "    .colab-df-convert:hover {\n",
              "      background-color: #E2EBFA;\n",
              "      box-shadow: 0px 1px 2px rgba(60, 64, 67, 0.3), 0px 1px 3px 1px rgba(60, 64, 67, 0.15);\n",
              "      fill: #174EA6;\n",
              "    }\n",
              "\n",
              "    .colab-df-buttons div {\n",
              "      margin-bottom: 4px;\n",
              "    }\n",
              "\n",
              "    [theme=dark] .colab-df-convert {\n",
              "      background-color: #3B4455;\n",
              "      fill: #D2E3FC;\n",
              "    }\n",
              "\n",
              "    [theme=dark] .colab-df-convert:hover {\n",
              "      background-color: #434B5C;\n",
              "      box-shadow: 0px 1px 3px 1px rgba(0, 0, 0, 0.15);\n",
              "      filter: drop-shadow(0px 1px 2px rgba(0, 0, 0, 0.3));\n",
              "      fill: #FFFFFF;\n",
              "    }\n",
              "  </style>\n",
              "\n",
              "    <script>\n",
              "      const buttonEl =\n",
              "        document.querySelector('#df-d757e098-d075-42c5-a574-c4b39b9b0b01 button.colab-df-convert');\n",
              "      buttonEl.style.display =\n",
              "        google.colab.kernel.accessAllowed ? 'block' : 'none';\n",
              "\n",
              "      async function convertToInteractive(key) {\n",
              "        const element = document.querySelector('#df-d757e098-d075-42c5-a574-c4b39b9b0b01');\n",
              "        const dataTable =\n",
              "          await google.colab.kernel.invokeFunction('convertToInteractive',\n",
              "                                                    [key], {});\n",
              "        if (!dataTable) return;\n",
              "\n",
              "        const docLinkHtml = 'Like what you see? Visit the ' +\n",
              "          '<a target=\"_blank\" href=https://colab.research.google.com/notebooks/data_table.ipynb>data table notebook</a>'\n",
              "          + ' to learn more about interactive tables.';\n",
              "        element.innerHTML = '';\n",
              "        dataTable['output_type'] = 'display_data';\n",
              "        await google.colab.output.renderOutput(dataTable, element);\n",
              "        const docLink = document.createElement('div');\n",
              "        docLink.innerHTML = docLinkHtml;\n",
              "        element.appendChild(docLink);\n",
              "      }\n",
              "    </script>\n",
              "  </div>\n",
              "\n",
              "\n",
              "<div id=\"df-0df9b8f5-756d-4348-9e21-d51ad61f4bee\">\n",
              "  <button class=\"colab-df-quickchart\" onclick=\"quickchart('df-0df9b8f5-756d-4348-9e21-d51ad61f4bee')\"\n",
              "            title=\"Suggest charts\"\n",
              "            style=\"display:none;\">\n",
              "\n",
              "<svg xmlns=\"http://www.w3.org/2000/svg\" height=\"24px\"viewBox=\"0 0 24 24\"\n",
              "     width=\"24px\">\n",
              "    <g>\n",
              "        <path d=\"M19 3H5c-1.1 0-2 .9-2 2v14c0 1.1.9 2 2 2h14c1.1 0 2-.9 2-2V5c0-1.1-.9-2-2-2zM9 17H7v-7h2v7zm4 0h-2V7h2v10zm4 0h-2v-4h2v4z\"/>\n",
              "    </g>\n",
              "</svg>\n",
              "  </button>\n",
              "\n",
              "<style>\n",
              "  .colab-df-quickchart {\n",
              "      --bg-color: #E8F0FE;\n",
              "      --fill-color: #1967D2;\n",
              "      --hover-bg-color: #E2EBFA;\n",
              "      --hover-fill-color: #174EA6;\n",
              "      --disabled-fill-color: #AAA;\n",
              "      --disabled-bg-color: #DDD;\n",
              "  }\n",
              "\n",
              "  [theme=dark] .colab-df-quickchart {\n",
              "      --bg-color: #3B4455;\n",
              "      --fill-color: #D2E3FC;\n",
              "      --hover-bg-color: #434B5C;\n",
              "      --hover-fill-color: #FFFFFF;\n",
              "      --disabled-bg-color: #3B4455;\n",
              "      --disabled-fill-color: #666;\n",
              "  }\n",
              "\n",
              "  .colab-df-quickchart {\n",
              "    background-color: var(--bg-color);\n",
              "    border: none;\n",
              "    border-radius: 50%;\n",
              "    cursor: pointer;\n",
              "    display: none;\n",
              "    fill: var(--fill-color);\n",
              "    height: 32px;\n",
              "    padding: 0;\n",
              "    width: 32px;\n",
              "  }\n",
              "\n",
              "  .colab-df-quickchart:hover {\n",
              "    background-color: var(--hover-bg-color);\n",
              "    box-shadow: 0 1px 2px rgba(60, 64, 67, 0.3), 0 1px 3px 1px rgba(60, 64, 67, 0.15);\n",
              "    fill: var(--button-hover-fill-color);\n",
              "  }\n",
              "\n",
              "  .colab-df-quickchart-complete:disabled,\n",
              "  .colab-df-quickchart-complete:disabled:hover {\n",
              "    background-color: var(--disabled-bg-color);\n",
              "    fill: var(--disabled-fill-color);\n",
              "    box-shadow: none;\n",
              "  }\n",
              "\n",
              "  .colab-df-spinner {\n",
              "    border: 2px solid var(--fill-color);\n",
              "    border-color: transparent;\n",
              "    border-bottom-color: var(--fill-color);\n",
              "    animation:\n",
              "      spin 1s steps(1) infinite;\n",
              "  }\n",
              "\n",
              "  @keyframes spin {\n",
              "    0% {\n",
              "      border-color: transparent;\n",
              "      border-bottom-color: var(--fill-color);\n",
              "      border-left-color: var(--fill-color);\n",
              "    }\n",
              "    20% {\n",
              "      border-color: transparent;\n",
              "      border-left-color: var(--fill-color);\n",
              "      border-top-color: var(--fill-color);\n",
              "    }\n",
              "    30% {\n",
              "      border-color: transparent;\n",
              "      border-left-color: var(--fill-color);\n",
              "      border-top-color: var(--fill-color);\n",
              "      border-right-color: var(--fill-color);\n",
              "    }\n",
              "    40% {\n",
              "      border-color: transparent;\n",
              "      border-right-color: var(--fill-color);\n",
              "      border-top-color: var(--fill-color);\n",
              "    }\n",
              "    60% {\n",
              "      border-color: transparent;\n",
              "      border-right-color: var(--fill-color);\n",
              "    }\n",
              "    80% {\n",
              "      border-color: transparent;\n",
              "      border-right-color: var(--fill-color);\n",
              "      border-bottom-color: var(--fill-color);\n",
              "    }\n",
              "    90% {\n",
              "      border-color: transparent;\n",
              "      border-bottom-color: var(--fill-color);\n",
              "    }\n",
              "  }\n",
              "</style>\n",
              "\n",
              "  <script>\n",
              "    async function quickchart(key) {\n",
              "      const quickchartButtonEl =\n",
              "        document.querySelector('#' + key + ' button');\n",
              "      quickchartButtonEl.disabled = true;  // To prevent multiple clicks.\n",
              "      quickchartButtonEl.classList.add('colab-df-spinner');\n",
              "      try {\n",
              "        const charts = await google.colab.kernel.invokeFunction(\n",
              "            'suggestCharts', [key], {});\n",
              "      } catch (error) {\n",
              "        console.error('Error during call to suggestCharts:', error);\n",
              "      }\n",
              "      quickchartButtonEl.classList.remove('colab-df-spinner');\n",
              "      quickchartButtonEl.classList.add('colab-df-quickchart-complete');\n",
              "    }\n",
              "    (() => {\n",
              "      let quickchartButtonEl =\n",
              "        document.querySelector('#df-0df9b8f5-756d-4348-9e21-d51ad61f4bee button');\n",
              "      quickchartButtonEl.style.display =\n",
              "        google.colab.kernel.accessAllowed ? 'block' : 'none';\n",
              "    })();\n",
              "  </script>\n",
              "</div>\n",
              "\n",
              "    </div>\n",
              "  </div>\n"
            ],
            "application/vnd.google.colaboratory.intrinsic+json": {
              "type": "dataframe",
              "variable_name": "train_data"
            }
          },
          "metadata": {},
          "execution_count": 16
        }
      ],
      "source": [
        "####################################################\n",
        "#      TODO: Implement Preprocessing Techniques   #\n",
        "####################################################\n",
        "\n",
        "# Combine title and description (better accuracy than using them as separate features)\n",
        "X_train = train_data['Title'] + \" \" + train_data['Desc']\n",
        "# Class labels need to begin from 0\n",
        "y_train = train_data['ClassLabel'].apply(lambda x: x-1).values\n",
        "# {0: 'World News', 1: 'Sports News', 2: 'Business News', 3: 'Science-Technology News'}\n",
        "\n",
        "# Do the same for test data\n",
        "X_test = test_data['Title'] + \" \" + test_data['Desc']\n",
        "y_test = test_data['ClassLabel'].apply(lambda x: x-1).values\n",
        "\n",
        "#Max Length of sentences in Train Dataset\n",
        "print(\"Original training data\")\n",
        "train_data.head()\n"
      ]
    },
    {
      "cell_type": "code",
      "execution_count": null,
      "metadata": {
        "colab": {
          "base_uri": "https://localhost:8080/",
          "height": 259
        },
        "id": "vMCY-K2GOUyb",
        "outputId": "58fcffac-0068-436d-e57c-82e7c004918f"
      },
      "outputs": [
        {
          "output_type": "stream",
          "name": "stdout",
          "text": [
            "Revised training data - X_train\n"
          ]
        },
        {
          "output_type": "execute_result",
          "data": {
            "text/plain": [
              "0    Wall St. Bears Claw Back Into the Black (Reute...\n",
              "1    Carlyle Looks Toward Commercial Aerospace (Reu...\n",
              "2    Oil and Economy Cloud Stocks' Outlook (Reuters...\n",
              "3    Iraq Halts Oil Exports from Main Southern Pipe...\n",
              "4    Oil prices soar to all-time record, posing new...\n",
              "dtype: object"
            ],
            "text/html": [
              "<div>\n",
              "<style scoped>\n",
              "    .dataframe tbody tr th:only-of-type {\n",
              "        vertical-align: middle;\n",
              "    }\n",
              "\n",
              "    .dataframe tbody tr th {\n",
              "        vertical-align: top;\n",
              "    }\n",
              "\n",
              "    .dataframe thead th {\n",
              "        text-align: right;\n",
              "    }\n",
              "</style>\n",
              "<table border=\"1\" class=\"dataframe\">\n",
              "  <thead>\n",
              "    <tr style=\"text-align: right;\">\n",
              "      <th></th>\n",
              "      <th>0</th>\n",
              "    </tr>\n",
              "  </thead>\n",
              "  <tbody>\n",
              "    <tr>\n",
              "      <th>0</th>\n",
              "      <td>Wall St. Bears Claw Back Into the Black (Reute...</td>\n",
              "    </tr>\n",
              "    <tr>\n",
              "      <th>1</th>\n",
              "      <td>Carlyle Looks Toward Commercial Aerospace (Reu...</td>\n",
              "    </tr>\n",
              "    <tr>\n",
              "      <th>2</th>\n",
              "      <td>Oil and Economy Cloud Stocks' Outlook (Reuters...</td>\n",
              "    </tr>\n",
              "    <tr>\n",
              "      <th>3</th>\n",
              "      <td>Iraq Halts Oil Exports from Main Southern Pipe...</td>\n",
              "    </tr>\n",
              "    <tr>\n",
              "      <th>4</th>\n",
              "      <td>Oil prices soar to all-time record, posing new...</td>\n",
              "    </tr>\n",
              "  </tbody>\n",
              "</table>\n",
              "</div><br><label><b>dtype:</b> object</label>"
            ]
          },
          "metadata": {},
          "execution_count": 15
        }
      ],
      "source": [
        "print(\"Revised training data - X_train\")\n",
        "X_train.head()"
      ]
    },
    {
      "cell_type": "code",
      "execution_count": null,
      "metadata": {
        "colab": {
          "base_uri": "https://localhost:8080/"
        },
        "id": "uRCKNlY9PC1D",
        "outputId": "fb2aafa2-ca43-4e64-a0d3-ffe2c13ef86e"
      },
      "outputs": [
        {
          "output_type": "stream",
          "name": "stdout",
          "text": [
            "Revised training data - y_train\n"
          ]
        },
        {
          "output_type": "execute_result",
          "data": {
            "text/plain": [
              "array([2, 2, 2, ..., 1, 1, 1])"
            ]
          },
          "metadata": {},
          "execution_count": 16
        }
      ],
      "source": [
        "print(\"Revised training data - y_train\")\n",
        "y_train"
      ]
    },
    {
      "cell_type": "code",
      "source": [
        "np.unique(y_train)"
      ],
      "metadata": {
        "colab": {
          "base_uri": "https://localhost:8080/"
        },
        "id": "yb2vOCH7jjmW",
        "outputId": "79a847aa-adce-4462-944b-478034284606"
      },
      "execution_count": null,
      "outputs": [
        {
          "output_type": "execute_result",
          "data": {
            "text/plain": [
              "array([0, 1, 2, 3])"
            ]
          },
          "metadata": {},
          "execution_count": 17
        }
      ]
    },
    {
      "cell_type": "markdown",
      "source": [
        "Preview key words for different labels"
      ],
      "metadata": {
        "id": "37lFcZfLBZpd"
      }
    },
    {
      "cell_type": "code",
      "source": [
        "# Define labels\n",
        "labels = {0: 'World', 1: 'Sports', 2: 'Business', 3: 'Science'}\n",
        "\n",
        "# Vectorize text data\n",
        "# Note we will reassign this vectorizer later in the script but with different parameters\n",
        "# For now, we will preview which words are potentially important and less common\n",
        "vectorizer = TfidfVectorizer(stop_words='english', max_features=5000)\n",
        "X_train_tfidf = vectorizer.fit_transform(X_train)\n",
        "\n",
        "# Get feature names (words)\n",
        "feature_names = vectorizer.get_feature_names_out()\n",
        "\n",
        "# Create a DataFrame with TF-IDF scores\n",
        "tfidf_df = pd.DataFrame(X_train_tfidf.toarray(), columns=feature_names)\n",
        "tfidf_df['Class'] = y_train  # Add class labels\n",
        "\n",
        "# Function to get top words per class\n",
        "def get_top_words_per_class(tfidf_df, feature_names, labels, top_n=10):\n",
        "    top_words = {}\n",
        "    for class_label, class_name in labels.items():\n",
        "        # Compute mean TF-IDF for words in this class\n",
        "        class_words = tfidf_df[tfidf_df['Class'] == class_label].drop(columns=['Class']).mean().sort_values(ascending=False)\n",
        "        top_words[class_name] = class_words.head(top_n).index.tolist()\n",
        "\n",
        "    return top_words\n",
        "\n",
        "# Get top words per category\n",
        "top_words_per_class = get_top_words_per_class(tfidf_df, feature_names, labels, top_n=10)\n",
        "\n",
        "# Display results\n",
        "for category, words in top_words_per_class.items():\n",
        "    print(f\"Top words for {category}: {', '.join(words)}\")"
      ],
      "metadata": {
        "colab": {
          "base_uri": "https://localhost:8080/"
        },
        "id": "BtP5hHBKBxjB",
        "outputId": "0b3bd669-048d-470b-c8bb-2558b7f7a9da"
      },
      "execution_count": null,
      "outputs": [
        {
          "output_type": "stream",
          "name": "stdout",
          "text": [
            "Top words for World: iraq, 39, said, ap, president, reuters, afp, killed, minister, bush\n",
            "Top words for Sports: 39, ap, game, season, team, win, cup, night, league, victory\n",
            "Top words for Business: 39, oil, reuters, said, prices, new, stocks, company, gt, lt\n",
            "Top words for Science: microsoft, 39, new, software, internet, gt, lt, ap, space, company\n"
          ]
        }
      ]
    },
    {
      "cell_type": "markdown",
      "source": [
        "Some words/numbers we can remove include 39, ap, reuters, gt, lt and said."
      ],
      "metadata": {
        "id": "PvqlB4uHCVyB"
      }
    },
    {
      "cell_type": "markdown",
      "metadata": {
        "id": "b4WRiPf6QlOy"
      },
      "source": [
        "#### Data Cleaning"
      ]
    },
    {
      "cell_type": "markdown",
      "metadata": {
        "id": "zDUUzORtNupo"
      },
      "source": [
        "Popular NLP Preprocessing Steps include:\n",
        "- Converting To LowerCase\n",
        "- Removing URLs/HTML tags\n",
        "- Removing non-work and non-whitespace characters.\n",
        "- Removing digits\n",
        "- Tokenisation\n",
        "- Stopword Removal\n",
        "- Stemming/Lemmatization\n",
        "\n",
        "From Website: https://medium.com/@maleeshadesilva21/preprocessing-steps-for-natural-language-processing-nlp-a-beginners-guide-d6d9bf7689c9"
      ]
    },
    {
      "cell_type": "markdown",
      "metadata": {
        "id": "ipLPEQg-J-zx"
      },
      "source": [
        "#### Define Preprocessing Functions"
      ]
    },
    {
      "cell_type": "code",
      "source": [
        "\n",
        "# Convert to lower case\n",
        "def lower_case(text):\n",
        "    return text.lower()\n",
        "\n",
        "# Remove URLs\n",
        "def remove_urls(text):\n",
        "    return re.sub(r'http\\S+|www\\S+', '', text)  # Remove URLs\n",
        "\n",
        "# Remove punctuation but keep words intact\n",
        "def remove_punctuation(text):\n",
        "    return re.sub(r'[^\\w\\s%]', '', text)  # Keep words, numbers, and percentages\n",
        "\n",
        "# Tokenization (splitting words)\n",
        "def tokenize(text):\n",
        "    return text.split()\n",
        "\n",
        "# Remove stopwords carefully\n",
        "def remove_stopwords(tokens):\n",
        "    # Get standard English stopwords\n",
        "    standard_stop_words = set(stopwords.words('english'))\n",
        "    # Custom stopwords\n",
        "    custom_stop_words = {'href', 'lt', 'gt', 'ii', 'iii', 'quot', 'com', 'u',\n",
        "                         'reuters', 'ap', 'said', 'says'}\n",
        "    # Union of both sets\n",
        "    all_stop_words = standard_stop_words.union(custom_stop_words)\n",
        "    return [word for word in tokens if word not in all_stop_words]\n",
        "\n",
        "# Remove only standalone numbers\n",
        "def remove_number(tokens):\n",
        "    return [word for word in tokens if not word.isdigit()]  # Keep \"39%\" but remove \"39\"\n",
        "\n",
        "# Lemmatization\n",
        "def lemmatize(tokens):\n",
        "    lemmatizer = WordNetLemmatizer()\n",
        "    return [lemmatizer.lemmatize(word) for word in tokens]\n",
        "\n",
        "# Final Preprocessing Function\n",
        "def preprocess_text(text):\n",
        "    text = lower_case(text)\n",
        "    text = remove_urls(text)\n",
        "    text = remove_punctuation(text)  # Keep words but remove special characters\n",
        "\n",
        "    tokens = tokenize(text)  # Tokenization\n",
        "    tokens = remove_stopwords(tokens)  # Remove stopwords carefully\n",
        "    tokens = remove_number(tokens)  # Remove isolated numbers\n",
        "    tokens = lemmatize(tokens)  # Lemmatization\n",
        "\n",
        "    return ' '.join(tokens)  # Return cleaned text\n",
        "\n",
        "# Example Usage\n",
        "text = \"AP reports: President Biden won 39% of votes! Visit https://news.com for details.\"\n",
        "cleaned_text = preprocess_text(text)\n",
        "print(cleaned_text)\n"
      ],
      "metadata": {
        "colab": {
          "base_uri": "https://localhost:8080/"
        },
        "id": "IOo9thVxUmfK",
        "outputId": "e50d92fd-5635-434d-ddd4-c7fd56adf1b9"
      },
      "execution_count": null,
      "outputs": [
        {
          "output_type": "stream",
          "name": "stdout",
          "text": [
            "report president biden 39% vote visit detail\n"
          ]
        }
      ]
    },
    {
      "cell_type": "markdown",
      "metadata": {
        "id": "Pck0pOK_e704"
      },
      "source": [
        "#### Apply Preprocessing Functions"
      ]
    },
    {
      "cell_type": "code",
      "execution_count": null,
      "metadata": {
        "id": "kOA6UM0RjXMX"
      },
      "outputs": [],
      "source": [
        "# Apply preprocessing steps to X_train and X_test\n",
        "X_train = X_train.apply(preprocess_text)\n",
        "X_test = X_test.apply(preprocess_text)"
      ]
    },
    {
      "cell_type": "code",
      "execution_count": null,
      "metadata": {
        "id": "uMN0e20mdvKi",
        "colab": {
          "base_uri": "https://localhost:8080/"
        },
        "outputId": "747850b7-b642-499e-ddaf-50541be88898"
      },
      "outputs": [
        {
          "output_type": "stream",
          "name": "stdout",
          "text": [
            "100\n"
          ]
        }
      ],
      "source": [
        "# Initially max length was 177, however after preprocessing\n",
        "# it was reduced to 100.\n",
        "maxlen = X_train.map(lambda x: len(x.split())).max()\n",
        "print(maxlen)"
      ]
    },
    {
      "cell_type": "code",
      "execution_count": null,
      "metadata": {
        "colab": {
          "base_uri": "https://localhost:8080/",
          "height": 241
        },
        "id": "2fxEogT3deWQ",
        "outputId": "9f1e8b36-f58e-478b-e4ea-c7e3ccd7faaf"
      },
      "outputs": [
        {
          "output_type": "execute_result",
          "data": {
            "text/plain": [
              "0    wall st bear claw back black shortsellers wall...\n",
              "1    carlyle look toward commercial aerospace priva...\n",
              "2    oil economy cloud stock outlook soaring crude ...\n",
              "3    iraq halt oil export main southern pipeline au...\n",
              "4    oil price soar alltime record posing new menac...\n",
              "dtype: object"
            ],
            "text/html": [
              "<div>\n",
              "<style scoped>\n",
              "    .dataframe tbody tr th:only-of-type {\n",
              "        vertical-align: middle;\n",
              "    }\n",
              "\n",
              "    .dataframe tbody tr th {\n",
              "        vertical-align: top;\n",
              "    }\n",
              "\n",
              "    .dataframe thead th {\n",
              "        text-align: right;\n",
              "    }\n",
              "</style>\n",
              "<table border=\"1\" class=\"dataframe\">\n",
              "  <thead>\n",
              "    <tr style=\"text-align: right;\">\n",
              "      <th></th>\n",
              "      <th>0</th>\n",
              "    </tr>\n",
              "  </thead>\n",
              "  <tbody>\n",
              "    <tr>\n",
              "      <th>0</th>\n",
              "      <td>wall st bear claw back black shortsellers wall...</td>\n",
              "    </tr>\n",
              "    <tr>\n",
              "      <th>1</th>\n",
              "      <td>carlyle look toward commercial aerospace priva...</td>\n",
              "    </tr>\n",
              "    <tr>\n",
              "      <th>2</th>\n",
              "      <td>oil economy cloud stock outlook soaring crude ...</td>\n",
              "    </tr>\n",
              "    <tr>\n",
              "      <th>3</th>\n",
              "      <td>iraq halt oil export main southern pipeline au...</td>\n",
              "    </tr>\n",
              "    <tr>\n",
              "      <th>4</th>\n",
              "      <td>oil price soar alltime record posing new menac...</td>\n",
              "    </tr>\n",
              "  </tbody>\n",
              "</table>\n",
              "</div><br><label><b>dtype:</b> object</label>"
            ]
          },
          "metadata": {},
          "execution_count": 20
        }
      ],
      "source": [
        "X_train.head()"
      ]
    },
    {
      "cell_type": "code",
      "source": [
        "X_train.shape"
      ],
      "metadata": {
        "colab": {
          "base_uri": "https://localhost:8080/"
        },
        "id": "gLMtz4lZlKY5",
        "outputId": "db8926a0-a514-46f5-c028-67f8c018f1d5"
      },
      "execution_count": null,
      "outputs": [
        {
          "output_type": "execute_result",
          "data": {
            "text/plain": [
              "(120000,)"
            ]
          },
          "metadata": {},
          "execution_count": 24
        }
      ]
    },
    {
      "cell_type": "code",
      "execution_count": null,
      "metadata": {
        "id": "3XPKbW54orrW"
      },
      "outputs": [],
      "source": [
        "## Save outputs\n",
        "\n",
        "# Save results in an file so code above does not need to be re-run again\n",
        "\n",
        "# # Observations\n",
        "file = open(data_path + '/X_train_cleaned', 'wb')\n",
        "pickle.dump(X_train, file)\n",
        "\n",
        "file = open(data_path + '/X_test_cleaned', 'wb')\n",
        "pickle.dump(X_test, file)\n",
        "\n",
        "# # # Labels\n",
        "file = open(data_path + '/y_train_cleaned', 'wb')\n",
        "pickle.dump(y_train, file)\n",
        "\n",
        "file = open(data_path + '/y_test_cleaned', 'wb')\n",
        "pickle.dump(y_test, file)\n",
        "\n",
        "file.close()"
      ]
    },
    {
      "cell_type": "code",
      "source": [],
      "metadata": {
        "id": "PmQBz7BcFXsN"
      },
      "execution_count": null,
      "outputs": []
    },
    {
      "cell_type": "markdown",
      "source": [
        "### 4.2 Deep Learning Techniques"
      ],
      "metadata": {
        "id": "d8bNvgFT69Kd"
      }
    },
    {
      "cell_type": "markdown",
      "metadata": {
        "id": "8NIGbeRvGRNi"
      },
      "source": [
        "##### 1.  Load Preprocessed Datasets"
      ]
    },
    {
      "cell_type": "code",
      "execution_count": null,
      "metadata": {
        "id": "rCmaqPsZGYMH"
      },
      "outputs": [],
      "source": [
        "X_train = pd.read_pickle(data_path + '/X_train_cleaned')\n",
        "X_test = pd.read_pickle(data_path + '/X_test_cleaned')\n",
        "\n",
        "y_train = pd.read_pickle(data_path + '/y_train_cleaned')\n",
        "y_test = pd.read_pickle(data_path + '/y_test_cleaned')"
      ]
    },
    {
      "cell_type": "code",
      "source": [
        "X_train.shape #Check dataset in still in the correct dimension"
      ],
      "metadata": {
        "colab": {
          "base_uri": "https://localhost:8080/"
        },
        "id": "Tf3VF_-XERFS",
        "outputId": "c086840c-fd4f-4bd7-eedd-46c743d7ef3c"
      },
      "execution_count": null,
      "outputs": [
        {
          "output_type": "execute_result",
          "data": {
            "text/plain": [
              "(120000,)"
            ]
          },
          "metadata": {},
          "execution_count": 7
        }
      ]
    },
    {
      "cell_type": "markdown",
      "metadata": {
        "id": "Kreye7mMug8S"
      },
      "source": [
        "##### 2. Apply Tokenisation and Padding"
      ]
    },
    {
      "cell_type": "code",
      "execution_count": null,
      "metadata": {
        "id": "Dz7QF9LMukwS"
      },
      "outputs": [],
      "source": [
        "# # Create & Fit Tokenizer on Training Data Only\n",
        "vocab_size = 10000 # arbitrarily chosen\n",
        "embed_size = 32 # arbitrarily chosen\n",
        "maxlen = 100\n",
        "\n",
        "# Create and Fit tokenizer\n",
        "tok = Tokenizer(num_words=vocab_size)\n",
        "tok.fit_on_texts(X_train.values)\n",
        "\n",
        "# Tokenize data\n",
        "X_train = tok.texts_to_sequences(X_train)\n",
        "X_test = tok.texts_to_sequences(X_test)\n",
        "\n",
        "# Pad data\n",
        "X_train = pad_sequences(X_train, maxlen=maxlen)\n",
        "X_test = pad_sequences(X_test, maxlen=maxlen)\n",
        "\n"
      ]
    },
    {
      "cell_type": "markdown",
      "source": [
        "After tokenising and padding, the input data becomes numerical and each sequence is set at a fixed length of 100, which is the max sequence length."
      ],
      "metadata": {
        "id": "f_yh82CNlpQv"
      }
    },
    {
      "cell_type": "code",
      "source": [
        "X_train"
      ],
      "metadata": {
        "colab": {
          "base_uri": "https://localhost:8080/"
        },
        "id": "Vc4amEKNl_hQ",
        "outputId": "7399cd60-e70f-4ea7-ffaf-22474c5cf3e3"
      },
      "execution_count": null,
      "outputs": [
        {
          "output_type": "execute_result",
          "data": {
            "text/plain": [
              "array([[   0,    0,    0, ...,  233, 3468,  654],\n",
              "       [   0,    0,    0, ...,  143,  192,   51],\n",
              "       [   0,    0,    0, ...,   56,   18, 5828],\n",
              "       ...,\n",
              "       [   0,    0,    0, ...,  239,   21,   64],\n",
              "       [   0,    0,    0, ..., 1537,    4, 1445],\n",
              "       [   0,    0,    0, ..., 1705, 1181,   24]], dtype=int32)"
            ]
          },
          "metadata": {},
          "execution_count": 26
        }
      ]
    },
    {
      "cell_type": "code",
      "source": [
        "X_train.shape"
      ],
      "metadata": {
        "colab": {
          "base_uri": "https://localhost:8080/"
        },
        "id": "9eIn-VrvAjWJ",
        "outputId": "156fee2c-ef22-47ca-ee51-435ed5800fa7"
      },
      "execution_count": null,
      "outputs": [
        {
          "output_type": "execute_result",
          "data": {
            "text/plain": [
              "(120000, 100)"
            ]
          },
          "metadata": {},
          "execution_count": 27
        }
      ]
    },
    {
      "cell_type": "code",
      "source": [
        "X_test.shape"
      ],
      "metadata": {
        "colab": {
          "base_uri": "https://localhost:8080/"
        },
        "id": "A-FhvqBKAlgo",
        "outputId": "1d3d6d86-4d9d-49a9-c4dd-2a13381cfbd5"
      },
      "execution_count": null,
      "outputs": [
        {
          "output_type": "execute_result",
          "data": {
            "text/plain": [
              "(7600, 100)"
            ]
          },
          "metadata": {},
          "execution_count": 28
        }
      ]
    },
    {
      "cell_type": "markdown",
      "source": [
        "#### 3. Splitting into training and testing data"
      ],
      "metadata": {
        "id": "rwcZ24McA_qs"
      }
    },
    {
      "cell_type": "code",
      "source": [
        "# Split training and validation data, set aside 10% for validation data.\n",
        "X_train, X_valid, y_train, y_valid = train_test_split(\n",
        "    X_train, y_train, train_size=0.9, stratify=y_train\n",
        ")"
      ],
      "metadata": {
        "id": "d8CTSjR3BDyP"
      },
      "execution_count": null,
      "outputs": []
    },
    {
      "cell_type": "code",
      "source": [
        "X_valid.shape # Now there are 12,000 samples in validation dataset"
      ],
      "metadata": {
        "colab": {
          "base_uri": "https://localhost:8080/"
        },
        "id": "VaA8PXOKIEac",
        "outputId": "2d9bc37a-3d4c-49a5-a5f5-21c7bd778b78"
      },
      "execution_count": null,
      "outputs": [
        {
          "output_type": "execute_result",
          "data": {
            "text/plain": [
              "(12000, 100)"
            ]
          },
          "metadata": {},
          "execution_count": 32
        }
      ]
    },
    {
      "cell_type": "code",
      "source": [
        "X_train.shape"
      ],
      "metadata": {
        "colab": {
          "base_uri": "https://localhost:8080/"
        },
        "id": "2Xk_ml96IIjC",
        "outputId": "5d903d26-1c65-41f2-d833-391371483b3d"
      },
      "execution_count": null,
      "outputs": [
        {
          "output_type": "execute_result",
          "data": {
            "text/plain": [
              "(108000, 100)"
            ]
          },
          "metadata": {},
          "execution_count": 31
        }
      ]
    },
    {
      "cell_type": "code",
      "source": [
        "y_valid.shape"
      ],
      "metadata": {
        "colab": {
          "base_uri": "https://localhost:8080/"
        },
        "id": "j7NpiQCmIRvW",
        "outputId": "9e0b7bab-ae28-4214-e35e-06aebd1c1b7f"
      },
      "execution_count": null,
      "outputs": [
        {
          "output_type": "execute_result",
          "data": {
            "text/plain": [
              "(12000,)"
            ]
          },
          "metadata": {},
          "execution_count": 33
        }
      ]
    },
    {
      "cell_type": "code",
      "source": [
        "y_train.shape"
      ],
      "metadata": {
        "colab": {
          "base_uri": "https://localhost:8080/"
        },
        "id": "ImlxNNQjITnK",
        "outputId": "0b67a442-0bc5-4976-bba8-840883a94041"
      },
      "execution_count": null,
      "outputs": [
        {
          "output_type": "execute_result",
          "data": {
            "text/plain": [
              "(108000,)"
            ]
          },
          "metadata": {},
          "execution_count": 34
        }
      ]
    },
    {
      "cell_type": "markdown",
      "metadata": {
        "id": "NKJ_uJra_4bS"
      },
      "source": [
        "### 4.2.a. Convolutional Neural Network (CNN)"
      ]
    },
    {
      "cell_type": "markdown",
      "metadata": {
        "id": "kS2RQ0TI_4bS"
      },
      "source": [
        "*Hint*: Models can be built using popular ML/DL libraries such as *Sklearn*, *Pytorch*, *Keras*, *Tensorflow*, etc."
      ]
    },
    {
      "cell_type": "markdown",
      "source": [
        "###### Sources\n",
        "https://keras.io/keras_tuner/api/hyperparameters/\n",
        "\n",
        "https://medium.com/analytics-vidhya/hypertuning-a-lstm-with-keras-tuner-to-forecast-solar-irradiance-7da7577e96eb"
      ],
      "metadata": {
        "id": "0hWKxSH1ofVv"
      }
    },
    {
      "cell_type": "markdown",
      "metadata": {
        "id": "WzrYeU82_4bS"
      },
      "source": [
        "#### Implementation"
      ]
    },
    {
      "cell_type": "markdown",
      "metadata": {
        "id": "BrgO3QzxjGzu"
      },
      "source": [
        "First create baseline CNN model to establish base performance"
      ]
    },
    {
      "cell_type": "code",
      "source": [
        "# Declare variables\n",
        "max_vocab_size = 10000  # Match tokenizer num_words\n",
        "embedding_dim = 32      # Embedding output size\n",
        "num_classes = 4          # AG News has 4 classes\n"
      ],
      "metadata": {
        "id": "wBPvwykfLtv9"
      },
      "execution_count": null,
      "outputs": []
    },
    {
      "cell_type": "code",
      "source": [
        "# Define Early Stopping\n",
        "early_stopping = tf.keras.callbacks.EarlyStopping(\n",
        "    monitor='val_loss',\n",
        "    patience=3,\n",
        "    restore_best_weights=True\n",
        ")\n"
      ],
      "metadata": {
        "id": "Mg1W7gRCtOGt"
      },
      "execution_count": null,
      "outputs": []
    },
    {
      "cell_type": "code",
      "execution_count": null,
      "metadata": {
        "colab": {
          "base_uri": "https://localhost:8080/",
          "height": 469
        },
        "id": "rJIxW0kYnytw",
        "outputId": "af58c103-db85-4507-f150-0a9d1638280d"
      },
      "outputs": [
        {
          "output_type": "stream",
          "name": "stderr",
          "text": [
            "/usr/local/lib/python3.11/dist-packages/keras/src/layers/core/embedding.py:93: UserWarning: Do not pass an `input_shape`/`input_dim` argument to a layer. When using Sequential models, prefer using an `Input(shape)` object as the first layer in the model instead.\n",
            "  super().__init__(**kwargs)\n"
          ]
        },
        {
          "output_type": "display_data",
          "data": {
            "text/plain": [
              "\u001b[1mModel: \"sequential_1\"\u001b[0m\n"
            ],
            "text/html": [
              "<pre style=\"white-space:pre;overflow-x:auto;line-height:normal;font-family:Menlo,'DejaVu Sans Mono',consolas,'Courier New',monospace\"><span style=\"font-weight: bold\">Model: \"sequential_1\"</span>\n",
              "</pre>\n"
            ]
          },
          "metadata": {}
        },
        {
          "output_type": "display_data",
          "data": {
            "text/plain": [
              "┏━━━━━━━━━━━━━━━━━━━━━━━━━━━━━━━━━━━━━━┳━━━━━━━━━━━━━━━━━━━━━━━━━━━━━┳━━━━━━━━━━━━━━━━━┓\n",
              "┃\u001b[1m \u001b[0m\u001b[1mLayer (type)                        \u001b[0m\u001b[1m \u001b[0m┃\u001b[1m \u001b[0m\u001b[1mOutput Shape               \u001b[0m\u001b[1m \u001b[0m┃\u001b[1m \u001b[0m\u001b[1m        Param #\u001b[0m\u001b[1m \u001b[0m┃\n",
              "┡━━━━━━━━━━━━━━━━━━━━━━━━━━━━━━━━━━━━━━╇━━━━━━━━━━━━━━━━━━━━━━━━━━━━━╇━━━━━━━━━━━━━━━━━┩\n",
              "│ embedding_1 (\u001b[38;5;33mEmbedding\u001b[0m)              │ (\u001b[38;5;45mNone\u001b[0m, \u001b[38;5;34m100\u001b[0m, \u001b[38;5;34m32\u001b[0m)             │         \u001b[38;5;34m320,000\u001b[0m │\n",
              "├──────────────────────────────────────┼─────────────────────────────┼─────────────────┤\n",
              "│ conv1d_2 (\u001b[38;5;33mConv1D\u001b[0m)                    │ (\u001b[38;5;45mNone\u001b[0m, \u001b[38;5;34m96\u001b[0m, \u001b[38;5;34m128\u001b[0m)             │          \u001b[38;5;34m20,608\u001b[0m │\n",
              "├──────────────────────────────────────┼─────────────────────────────┼─────────────────┤\n",
              "│ max_pooling1d_1 (\u001b[38;5;33mMaxPooling1D\u001b[0m)       │ (\u001b[38;5;45mNone\u001b[0m, \u001b[38;5;34m48\u001b[0m, \u001b[38;5;34m128\u001b[0m)             │               \u001b[38;5;34m0\u001b[0m │\n",
              "├──────────────────────────────────────┼─────────────────────────────┼─────────────────┤\n",
              "│ conv1d_3 (\u001b[38;5;33mConv1D\u001b[0m)                    │ (\u001b[38;5;45mNone\u001b[0m, \u001b[38;5;34m44\u001b[0m, \u001b[38;5;34m128\u001b[0m)             │          \u001b[38;5;34m82,048\u001b[0m │\n",
              "├──────────────────────────────────────┼─────────────────────────────┼─────────────────┤\n",
              "│ global_max_pooling1d_1               │ (\u001b[38;5;45mNone\u001b[0m, \u001b[38;5;34m128\u001b[0m)                 │               \u001b[38;5;34m0\u001b[0m │\n",
              "│ (\u001b[38;5;33mGlobalMaxPooling1D\u001b[0m)                 │                             │                 │\n",
              "├──────────────────────────────────────┼─────────────────────────────┼─────────────────┤\n",
              "│ dense_2 (\u001b[38;5;33mDense\u001b[0m)                      │ (\u001b[38;5;45mNone\u001b[0m, \u001b[38;5;34m64\u001b[0m)                  │           \u001b[38;5;34m8,256\u001b[0m │\n",
              "├──────────────────────────────────────┼─────────────────────────────┼─────────────────┤\n",
              "│ dropout_1 (\u001b[38;5;33mDropout\u001b[0m)                  │ (\u001b[38;5;45mNone\u001b[0m, \u001b[38;5;34m64\u001b[0m)                  │               \u001b[38;5;34m0\u001b[0m │\n",
              "├──────────────────────────────────────┼─────────────────────────────┼─────────────────┤\n",
              "│ dense_3 (\u001b[38;5;33mDense\u001b[0m)                      │ (\u001b[38;5;45mNone\u001b[0m, \u001b[38;5;34m4\u001b[0m)                   │             \u001b[38;5;34m260\u001b[0m │\n",
              "└──────────────────────────────────────┴─────────────────────────────┴─────────────────┘\n"
            ],
            "text/html": [
              "<pre style=\"white-space:pre;overflow-x:auto;line-height:normal;font-family:Menlo,'DejaVu Sans Mono',consolas,'Courier New',monospace\">┏━━━━━━━━━━━━━━━━━━━━━━━━━━━━━━━━━━━━━━┳━━━━━━━━━━━━━━━━━━━━━━━━━━━━━┳━━━━━━━━━━━━━━━━━┓\n",
              "┃<span style=\"font-weight: bold\"> Layer (type)                         </span>┃<span style=\"font-weight: bold\"> Output Shape                </span>┃<span style=\"font-weight: bold\">         Param # </span>┃\n",
              "┡━━━━━━━━━━━━━━━━━━━━━━━━━━━━━━━━━━━━━━╇━━━━━━━━━━━━━━━━━━━━━━━━━━━━━╇━━━━━━━━━━━━━━━━━┩\n",
              "│ embedding_1 (<span style=\"color: #0087ff; text-decoration-color: #0087ff\">Embedding</span>)              │ (<span style=\"color: #00d7ff; text-decoration-color: #00d7ff\">None</span>, <span style=\"color: #00af00; text-decoration-color: #00af00\">100</span>, <span style=\"color: #00af00; text-decoration-color: #00af00\">32</span>)             │         <span style=\"color: #00af00; text-decoration-color: #00af00\">320,000</span> │\n",
              "├──────────────────────────────────────┼─────────────────────────────┼─────────────────┤\n",
              "│ conv1d_2 (<span style=\"color: #0087ff; text-decoration-color: #0087ff\">Conv1D</span>)                    │ (<span style=\"color: #00d7ff; text-decoration-color: #00d7ff\">None</span>, <span style=\"color: #00af00; text-decoration-color: #00af00\">96</span>, <span style=\"color: #00af00; text-decoration-color: #00af00\">128</span>)             │          <span style=\"color: #00af00; text-decoration-color: #00af00\">20,608</span> │\n",
              "├──────────────────────────────────────┼─────────────────────────────┼─────────────────┤\n",
              "│ max_pooling1d_1 (<span style=\"color: #0087ff; text-decoration-color: #0087ff\">MaxPooling1D</span>)       │ (<span style=\"color: #00d7ff; text-decoration-color: #00d7ff\">None</span>, <span style=\"color: #00af00; text-decoration-color: #00af00\">48</span>, <span style=\"color: #00af00; text-decoration-color: #00af00\">128</span>)             │               <span style=\"color: #00af00; text-decoration-color: #00af00\">0</span> │\n",
              "├──────────────────────────────────────┼─────────────────────────────┼─────────────────┤\n",
              "│ conv1d_3 (<span style=\"color: #0087ff; text-decoration-color: #0087ff\">Conv1D</span>)                    │ (<span style=\"color: #00d7ff; text-decoration-color: #00d7ff\">None</span>, <span style=\"color: #00af00; text-decoration-color: #00af00\">44</span>, <span style=\"color: #00af00; text-decoration-color: #00af00\">128</span>)             │          <span style=\"color: #00af00; text-decoration-color: #00af00\">82,048</span> │\n",
              "├──────────────────────────────────────┼─────────────────────────────┼─────────────────┤\n",
              "│ global_max_pooling1d_1               │ (<span style=\"color: #00d7ff; text-decoration-color: #00d7ff\">None</span>, <span style=\"color: #00af00; text-decoration-color: #00af00\">128</span>)                 │               <span style=\"color: #00af00; text-decoration-color: #00af00\">0</span> │\n",
              "│ (<span style=\"color: #0087ff; text-decoration-color: #0087ff\">GlobalMaxPooling1D</span>)                 │                             │                 │\n",
              "├──────────────────────────────────────┼─────────────────────────────┼─────────────────┤\n",
              "│ dense_2 (<span style=\"color: #0087ff; text-decoration-color: #0087ff\">Dense</span>)                      │ (<span style=\"color: #00d7ff; text-decoration-color: #00d7ff\">None</span>, <span style=\"color: #00af00; text-decoration-color: #00af00\">64</span>)                  │           <span style=\"color: #00af00; text-decoration-color: #00af00\">8,256</span> │\n",
              "├──────────────────────────────────────┼─────────────────────────────┼─────────────────┤\n",
              "│ dropout_1 (<span style=\"color: #0087ff; text-decoration-color: #0087ff\">Dropout</span>)                  │ (<span style=\"color: #00d7ff; text-decoration-color: #00d7ff\">None</span>, <span style=\"color: #00af00; text-decoration-color: #00af00\">64</span>)                  │               <span style=\"color: #00af00; text-decoration-color: #00af00\">0</span> │\n",
              "├──────────────────────────────────────┼─────────────────────────────┼─────────────────┤\n",
              "│ dense_3 (<span style=\"color: #0087ff; text-decoration-color: #0087ff\">Dense</span>)                      │ (<span style=\"color: #00d7ff; text-decoration-color: #00d7ff\">None</span>, <span style=\"color: #00af00; text-decoration-color: #00af00\">4</span>)                   │             <span style=\"color: #00af00; text-decoration-color: #00af00\">260</span> │\n",
              "└──────────────────────────────────────┴─────────────────────────────┴─────────────────┘\n",
              "</pre>\n"
            ]
          },
          "metadata": {}
        },
        {
          "output_type": "display_data",
          "data": {
            "text/plain": [
              "\u001b[1m Total params: \u001b[0m\u001b[38;5;34m431,172\u001b[0m (1.64 MB)\n"
            ],
            "text/html": [
              "<pre style=\"white-space:pre;overflow-x:auto;line-height:normal;font-family:Menlo,'DejaVu Sans Mono',consolas,'Courier New',monospace\"><span style=\"font-weight: bold\"> Total params: </span><span style=\"color: #00af00; text-decoration-color: #00af00\">431,172</span> (1.64 MB)\n",
              "</pre>\n"
            ]
          },
          "metadata": {}
        },
        {
          "output_type": "display_data",
          "data": {
            "text/plain": [
              "\u001b[1m Trainable params: \u001b[0m\u001b[38;5;34m431,172\u001b[0m (1.64 MB)\n"
            ],
            "text/html": [
              "<pre style=\"white-space:pre;overflow-x:auto;line-height:normal;font-family:Menlo,'DejaVu Sans Mono',consolas,'Courier New',monospace\"><span style=\"font-weight: bold\"> Trainable params: </span><span style=\"color: #00af00; text-decoration-color: #00af00\">431,172</span> (1.64 MB)\n",
              "</pre>\n"
            ]
          },
          "metadata": {}
        },
        {
          "output_type": "display_data",
          "data": {
            "text/plain": [
              "\u001b[1m Non-trainable params: \u001b[0m\u001b[38;5;34m0\u001b[0m (0.00 B)\n"
            ],
            "text/html": [
              "<pre style=\"white-space:pre;overflow-x:auto;line-height:normal;font-family:Menlo,'DejaVu Sans Mono',consolas,'Courier New',monospace\"><span style=\"font-weight: bold\"> Non-trainable params: </span><span style=\"color: #00af00; text-decoration-color: #00af00\">0</span> (0.00 B)\n",
              "</pre>\n"
            ]
          },
          "metadata": {}
        }
      ],
      "source": [
        "# Define baseline model\n",
        "baseline_cnn_model = Sequential([\n",
        "    # Embedding Layer\n",
        "    layers.Embedding(\n",
        "    input_dim=max_vocab_size,\n",
        "    output_dim=embedding_dim,\n",
        "    input_shape=(maxlen,)\n",
        "    ),\n",
        "\n",
        "    # Conv + Pooling Block 1\n",
        "    layers.Conv1D(128, 5, activation=\"relu\"),\n",
        "    layers.MaxPooling1D(pool_size=2),\n",
        "\n",
        "    # Conv + Pooling Block 2\n",
        "    layers.Conv1D(128, 5, activation=\"relu\"),\n",
        "\n",
        "    # Global Pooling + Dense\n",
        "    layers.GlobalMaxPooling1D(),\n",
        "    layers.Dense(64, activation=\"relu\"),\n",
        "    layers.Dropout(0.3),\n",
        "\n",
        "    # Output Layer\n",
        "    layers.Dense(num_classes, activation=\"softmax\")\n",
        "])\n",
        "\n",
        "# Print out model summary\n",
        "baseline_cnn_model.summary()\n",
        "\n",
        "# Compile the model\n",
        "baseline_cnn_model.compile(\n",
        "    optimizer='adam',\n",
        "    loss='sparse_categorical_crossentropy',\n",
        "    metrics=['accuracy']\n",
        ")\n"
      ]
    },
    {
      "cell_type": "code",
      "execution_count": null,
      "metadata": {
        "colab": {
          "base_uri": "https://localhost:8080/"
        },
        "id": "lyW9Pc48feMM",
        "outputId": "301896e4-e4e5-4b66-b5dc-e81df0530c25"
      },
      "outputs": [
        {
          "output_type": "stream",
          "name": "stdout",
          "text": [
            "Epoch 1/10\n",
            "\u001b[1m3375/3375\u001b[0m \u001b[32m━━━━━━━━━━━━━━━━━━━━\u001b[0m\u001b[37m\u001b[0m \u001b[1m14s\u001b[0m 4ms/step - accuracy: 0.9259 - loss: 0.2221 - val_accuracy: 0.9082 - val_loss: 0.2730\n",
            "Epoch 2/10\n",
            "\u001b[1m3375/3375\u001b[0m \u001b[32m━━━━━━━━━━━━━━━━━━━━\u001b[0m\u001b[37m\u001b[0m \u001b[1m19s\u001b[0m 4ms/step - accuracy: 0.9401 - loss: 0.1740 - val_accuracy: 0.9108 - val_loss: 0.3040\n",
            "Epoch 3/10\n",
            "\u001b[1m3375/3375\u001b[0m \u001b[32m━━━━━━━━━━━━━━━━━━━━\u001b[0m\u001b[37m\u001b[0m \u001b[1m19s\u001b[0m 3ms/step - accuracy: 0.9551 - loss: 0.1288 - val_accuracy: 0.9078 - val_loss: 0.3218\n",
            "Epoch 4/10\n",
            "\u001b[1m3375/3375\u001b[0m \u001b[32m━━━━━━━━━━━━━━━━━━━━\u001b[0m\u001b[37m\u001b[0m \u001b[1m12s\u001b[0m 4ms/step - accuracy: 0.9669 - loss: 0.0889 - val_accuracy: 0.9031 - val_loss: 0.4095\n"
          ]
        }
      ],
      "source": [
        "# Fit model\n",
        "history = baseline_cnn_model.fit(X_train,\n",
        "                                y_train,\n",
        "                                validation_data=(X_valid, y_valid),\n",
        "                                epochs=10,\n",
        "                                batch_size=32,\n",
        "                                callbacks = [early_stopping])\n"
      ]
    },
    {
      "cell_type": "markdown",
      "metadata": {
        "id": "sC-C-v4d_4bS"
      },
      "source": [
        "#### Parameter Fine-Tuning"
      ]
    },
    {
      "cell_type": "markdown",
      "metadata": {
        "id": "LZkhvi5QPEF3"
      },
      "source": [
        "Source: https://www.analyticsvidhya.com/blog/2021/05/tuning-the-hyperparameters-and-layers-of-neural-network-deep-learning/#h-different-datasets-of-hyperparameters"
      ]
    },
    {
      "cell_type": "code",
      "source": [
        "# Define CNN model\n",
        "def build_cnn_model(hp):\n",
        "    model = Sequential([\n",
        "        # Embedding Layer\n",
        "        layers.Embedding(input_dim=max_vocab_size, output_dim=hp.Int('embedding_dim',\n",
        "                                                                     min_value=16,\n",
        "                                                                     max_value=128,\n",
        "                                                                     step=16),\n",
        "                         input_length=maxlen),\n",
        "\n",
        "        # Conv + Pooling Block 1\n",
        "        layers.Conv1D(filters=hp.Int('conv_filters_1', min_value=64, max_value=256, step=64),\n",
        "                      kernel_size=hp.Int('kernel_size_1', min_value=3, max_value=7, step=2),\n",
        "                      activation=\"relu\"),\n",
        "        layers.MaxPooling1D(pool_size=2),\n",
        "\n",
        "        # Conv + Pooling Block 2\n",
        "        layers.Conv1D(filters=hp.Int('conv_filters_2', min_value=64, max_value=256, step=64),\n",
        "                      kernel_size=hp.Int('kernel_size_2', min_value=3, max_value=7, step=2),\n",
        "                      activation=\"relu\"),\n",
        "\n",
        "        # Global Pooling + Dense\n",
        "        layers.GlobalMaxPooling1D(),\n",
        "        layers.Dense(units=hp.Int('dense_units', min_value=32, max_value=128, step=32), activation=\"relu\"),\n",
        "        layers.Dropout(rate=hp.Float('dropout_rate', min_value=0.2, max_value=0.5, step=0.1)),\n",
        "\n",
        "        # Output Layer\n",
        "        layers.Dense(num_classes, activation=\"softmax\")\n",
        "    ])\n",
        "\n",
        "    # Compile the model with a learning rate hyperparameter\n",
        "    model.compile(\n",
        "        optimizer=Adam(learning_rate=hp.Float('learning_rate', min_value=1e-4, max_value=1e-2, sampling='LOG')),\n",
        "        loss='sparse_categorical_crossentropy',\n",
        "        metrics=['accuracy']\n",
        "    )\n",
        "\n",
        "    return model\n"
      ],
      "metadata": {
        "id": "ZWAMF1PLN0Jk"
      },
      "execution_count": null,
      "outputs": []
    },
    {
      "cell_type": "code",
      "source": [
        "# Set up Keras Tuner with RandomSearch\n",
        "tuner = kt.RandomSearch(\n",
        "    build_cnn_model,\n",
        "    objective='val_accuracy',  # We want to optimize validation accuracy\n",
        "    max_trials=5,  # Number of different hyperparameter combinations to try\n",
        "    executions_per_trial=1,  # Number of models to train for each combination\n",
        "    directory='tuner_dir',  # Directory where results will be saved\n",
        "    project_name='cnn_tuning'\n",
        ")\n",
        "\n",
        "# Start the search on validation data\n",
        "tuner.search(X_train, y_train, epochs=5, validation_data=(X_valid, y_valid))\n",
        "\n",
        "# Get the best hyperparameters found\n",
        "best_hps = tuner.get_best_hyperparameters(num_trials=1)[0]\n",
        "print(f\"Best Hyperparameters: {best_hps}\")\n",
        "\n",
        "# Build the best model with the best hyperparameters\n",
        "best_model = tuner.hypermodel.build(best_hps)\n",
        "\n",
        "# Train the best model\n",
        "best_model.fit(X_train, y_train, epochs=10, validation_data=(X_valid, y_valid))"
      ],
      "metadata": {
        "colab": {
          "base_uri": "https://localhost:8080/"
        },
        "id": "CEJ6s7G5N8Sx",
        "outputId": "6e225e76-25c4-4571-ea85-db45f39169f0"
      },
      "execution_count": null,
      "outputs": [
        {
          "output_type": "stream",
          "name": "stdout",
          "text": [
            "Trial 5 Complete [00h 01m 54s]\n",
            "val_accuracy: 0.9024999737739563\n",
            "\n",
            "Best val_accuracy So Far: 0.9129999876022339\n",
            "Total elapsed time: 00h 08m 39s\n",
            "Best Hyperparameters: <keras_tuner.src.engine.hyperparameters.hyperparameters.HyperParameters object at 0x7b203819b010>\n",
            "Epoch 1/10\n",
            "\u001b[1m3375/3375\u001b[0m \u001b[32m━━━━━━━━━━━━━━━━━━━━\u001b[0m\u001b[37m\u001b[0m \u001b[1m19s\u001b[0m 4ms/step - accuracy: 0.8199 - loss: 0.4705 - val_accuracy: 0.9117 - val_loss: 0.2704\n",
            "Epoch 2/10\n",
            "\u001b[1m3375/3375\u001b[0m \u001b[32m━━━━━━━━━━━━━━━━━━━━\u001b[0m\u001b[37m\u001b[0m \u001b[1m13s\u001b[0m 4ms/step - accuracy: 0.9238 - loss: 0.2280 - val_accuracy: 0.9119 - val_loss: 0.2751\n",
            "Epoch 3/10\n",
            "\u001b[1m3375/3375\u001b[0m \u001b[32m━━━━━━━━━━━━━━━━━━━━\u001b[0m\u001b[37m\u001b[0m \u001b[1m21s\u001b[0m 4ms/step - accuracy: 0.9409 - loss: 0.1715 - val_accuracy: 0.9102 - val_loss: 0.2919\n",
            "Epoch 4/10\n",
            "\u001b[1m3375/3375\u001b[0m \u001b[32m━━━━━━━━━━━━━━━━━━━━\u001b[0m\u001b[37m\u001b[0m \u001b[1m24s\u001b[0m 5ms/step - accuracy: 0.9551 - loss: 0.1258 - val_accuracy: 0.9078 - val_loss: 0.3116\n",
            "Epoch 5/10\n",
            "\u001b[1m3375/3375\u001b[0m \u001b[32m━━━━━━━━━━━━━━━━━━━━\u001b[0m\u001b[37m\u001b[0m \u001b[1m13s\u001b[0m 4ms/step - accuracy: 0.9696 - loss: 0.0852 - val_accuracy: 0.9008 - val_loss: 0.4443\n",
            "Epoch 6/10\n",
            "\u001b[1m3375/3375\u001b[0m \u001b[32m━━━━━━━━━━━━━━━━━━━━\u001b[0m\u001b[37m\u001b[0m \u001b[1m13s\u001b[0m 4ms/step - accuracy: 0.9778 - loss: 0.0611 - val_accuracy: 0.9027 - val_loss: 0.5471\n",
            "Epoch 7/10\n",
            "\u001b[1m3375/3375\u001b[0m \u001b[32m━━━━━━━━━━━━━━━━━━━━\u001b[0m\u001b[37m\u001b[0m \u001b[1m16s\u001b[0m 5ms/step - accuracy: 0.9830 - loss: 0.0451 - val_accuracy: 0.8996 - val_loss: 0.5796\n",
            "Epoch 8/10\n",
            "\u001b[1m3375/3375\u001b[0m \u001b[32m━━━━━━━━━━━━━━━━━━━━\u001b[0m\u001b[37m\u001b[0m \u001b[1m13s\u001b[0m 4ms/step - accuracy: 0.9883 - loss: 0.0341 - val_accuracy: 0.9018 - val_loss: 0.5806\n",
            "Epoch 9/10\n",
            "\u001b[1m3375/3375\u001b[0m \u001b[32m━━━━━━━━━━━━━━━━━━━━\u001b[0m\u001b[37m\u001b[0m \u001b[1m14s\u001b[0m 4ms/step - accuracy: 0.9905 - loss: 0.0287 - val_accuracy: 0.8978 - val_loss: 0.6427\n",
            "Epoch 10/10\n",
            "\u001b[1m3375/3375\u001b[0m \u001b[32m━━━━━━━━━━━━━━━━━━━━\u001b[0m\u001b[37m\u001b[0m \u001b[1m19s\u001b[0m 4ms/step - accuracy: 0.9925 - loss: 0.0234 - val_accuracy: 0.8938 - val_loss: 0.7934\n"
          ]
        },
        {
          "output_type": "execute_result",
          "data": {
            "text/plain": [
              "<keras.src.callbacks.history.History at 0x7b1faf977dd0>"
            ]
          },
          "metadata": {},
          "execution_count": 27
        }
      ]
    },
    {
      "cell_type": "code",
      "source": [
        "print(f\"Best Hyperparameters: {best_hps.values}\")"
      ],
      "metadata": {
        "colab": {
          "base_uri": "https://localhost:8080/"
        },
        "id": "p8lfzdXT0yFT",
        "outputId": "f90087e7-85b3-461a-c4ae-48b871ce12a9"
      },
      "execution_count": null,
      "outputs": [
        {
          "output_type": "stream",
          "name": "stdout",
          "text": [
            "Best Hyperparameters: {'embedding_dim': 96, 'conv_filters_1': 192, 'kernel_size_1': 3, 'conv_filters_2': 192, 'kernel_size_2': 3, 'dense_units': 96, 'dropout_rate': 0.30000000000000004, 'learning_rate': 0.001100329848883672}\n"
          ]
        }
      ]
    },
    {
      "cell_type": "markdown",
      "metadata": {
        "id": "yVHfa4Bd_4bS"
      },
      "source": [
        "#### Performance Evaluation"
      ]
    },
    {
      "cell_type": "markdown",
      "metadata": {
        "id": "WdjgeFG5_4bS"
      },
      "source": [
        "You are required to evaluate models' performance by using **at least two different evaluation metrics for each model** and **visualise using graphs or tables.**\n",
        "\n",
        "*Hint*: Evaluation metrics can be used such as *Accuracy*, *Precision*, *Recall*, etc.  "
      ]
    },
    {
      "cell_type": "code",
      "source": [
        "# Get best hyperparameters\n",
        "best_cnn_model = tuner.hypermodel.build(best_hps)\n",
        "\n",
        "# Compile the model\n",
        "best_cnn_model.compile(optimizer=Adam(learning_rate=best_hps.get('learning_rate')),\n",
        "                   loss='sparse_categorical_crossentropy',\n",
        "                   metrics=['accuracy'])\n",
        "# Train the model\n",
        "history = best_cnn_model.fit(X_train,\n",
        "                            y_train,\n",
        "                            epochs=10,\n",
        "                            validation_data=(X_valid, y_valid),\n",
        "                            callbacks = early_stopping)\n"
      ],
      "metadata": {
        "id": "hgi2Iygz2kf-",
        "colab": {
          "base_uri": "https://localhost:8080/"
        },
        "outputId": "621e6eee-7459-4bfb-e88e-847bf6c0e543"
      },
      "execution_count": null,
      "outputs": [
        {
          "output_type": "stream",
          "name": "stderr",
          "text": [
            "/usr/local/lib/python3.11/dist-packages/keras/src/layers/core/embedding.py:90: UserWarning: Argument `input_length` is deprecated. Just remove it.\n",
            "  warnings.warn(\n"
          ]
        },
        {
          "output_type": "stream",
          "name": "stdout",
          "text": [
            "Epoch 1/10\n",
            "\u001b[1m3375/3375\u001b[0m \u001b[32m━━━━━━━━━━━━━━━━━━━━\u001b[0m\u001b[37m\u001b[0m \u001b[1m19s\u001b[0m 5ms/step - accuracy: 0.8171 - loss: 0.4753 - val_accuracy: 0.9091 - val_loss: 0.2683\n",
            "Epoch 2/10\n",
            "\u001b[1m3375/3375\u001b[0m \u001b[32m━━━━━━━━━━━━━━━━━━━━\u001b[0m\u001b[37m\u001b[0m \u001b[1m17s\u001b[0m 4ms/step - accuracy: 0.9258 - loss: 0.2227 - val_accuracy: 0.9107 - val_loss: 0.2684\n",
            "Epoch 3/10\n",
            "\u001b[1m3375/3375\u001b[0m \u001b[32m━━━━━━━━━━━━━━━━━━━━\u001b[0m\u001b[37m\u001b[0m \u001b[1m17s\u001b[0m 5ms/step - accuracy: 0.9441 - loss: 0.1614 - val_accuracy: 0.9094 - val_loss: 0.2910\n",
            "Epoch 4/10\n",
            "\u001b[1m3375/3375\u001b[0m \u001b[32m━━━━━━━━━━━━━━━━━━━━\u001b[0m\u001b[37m\u001b[0m \u001b[1m13s\u001b[0m 4ms/step - accuracy: 0.9583 - loss: 0.1166 - val_accuracy: 0.9031 - val_loss: 0.3485\n"
          ]
        }
      ]
    },
    {
      "cell_type": "code",
      "source": [
        "# Evaluate the model on the validation set\n",
        "valid_loss, valid_accuracy = best_cnn_model.evaluate(X_valid, y_valid)\n",
        "print(f\"Valid Loss: {valid_loss}\")\n",
        "print(f\"Valid Accuracy: {valid_accuracy}\")\n",
        "\n",
        "# Evaluate the model on the test set\n",
        "test_loss, test_accuracy = best_cnn_model.evaluate(X_test, y_test)\n",
        "print(f\"Test Loss: {test_loss}\")\n",
        "print(f\"Test Accuracy: {test_accuracy}\")"
      ],
      "metadata": {
        "colab": {
          "base_uri": "https://localhost:8080/"
        },
        "id": "M4sCjFxK2kaQ",
        "outputId": "f475cea3-4fe2-41e6-febf-8685649fd464"
      },
      "execution_count": null,
      "outputs": [
        {
          "output_type": "stream",
          "name": "stdout",
          "text": [
            "\u001b[1m375/375\u001b[0m \u001b[32m━━━━━━━━━━━━━━━━━━━━\u001b[0m\u001b[37m\u001b[0m \u001b[1m1s\u001b[0m 2ms/step - accuracy: 0.9118 - loss: 0.2578\n",
            "Valid Loss: 0.2682672441005707\n",
            "Valid Accuracy: 0.9090833067893982\n",
            "\u001b[1m238/238\u001b[0m \u001b[32m━━━━━━━━━━━━━━━━━━━━\u001b[0m\u001b[37m\u001b[0m \u001b[1m1s\u001b[0m 4ms/step - accuracy: 0.9040 - loss: 0.2952\n",
            "Test Loss: 0.2807052433490753\n",
            "Test Accuracy: 0.9042105078697205\n"
          ]
        }
      ]
    },
    {
      "cell_type": "code",
      "source": [
        "import matplotlib.pyplot as plt\n",
        "\n",
        "# Plot training & validation accuracy values\n",
        "plt.plot(history.history['accuracy'])\n",
        "plt.plot(history.history['val_accuracy'])\n",
        "plt.title('Model Accuracy')\n",
        "plt.xlabel('Epochs')\n",
        "plt.ylabel('Accuracy')\n",
        "plt.legend(['Train', 'Val'], loc='upper left')\n",
        "plt.show()\n",
        "\n",
        "# Plot training & validation loss values\n",
        "plt.plot(history.history['loss'])\n",
        "plt.plot(history.history['val_loss'])\n",
        "plt.title('Model Loss')\n",
        "plt.xlabel('Epochs')\n",
        "plt.ylabel('Loss')\n",
        "plt.legend(['Train', 'Val'], loc='upper left')\n",
        "plt.show()"
      ],
      "metadata": {
        "colab": {
          "base_uri": "https://localhost:8080/",
          "height": 927
        },
        "id": "vQA_0QAi2kXX",
        "outputId": "41da98a4-2554-4a63-c2e5-faba10bf635e"
      },
      "execution_count": null,
      "outputs": [
        {
          "output_type": "display_data",
          "data": {
            "text/plain": [
              "<Figure size 640x480 with 1 Axes>"
            ],
            "image/png": "[encoded data removed]"
          },
          "metadata": {}
        },
        {
          "output_type": "display_data",
          "data": {
            "text/plain": [
              "<Figure size 640x480 with 1 Axes>"
            ],
            "image/png": "[encoded data removed]"
          },
          "metadata": {}
        }
      ]
    },
    {
      "cell_type": "markdown",
      "source": [
        "Model has tendency for overfitting and validation loss after one epoch, however accuracy is not bad in general."
      ],
      "metadata": {
        "id": "Y8cttZ-UxMxw"
      }
    },
    {
      "cell_type": "code",
      "source": [
        "# Make predictions on the test set\n",
        "y_pred = best_model.predict(X_test)\n",
        "y_pred_classes = y_pred.argmax(axis=1)  # Convert predicted probabilities to class labels\n",
        "\n",
        "# Calculate confusion matrix\n",
        "cm = confusion_matrix(y_test, y_pred_classes)\n",
        "\n",
        "# Plot confusion matrix\n",
        "plt.figure(figsize=(8, 6))\n",
        "\n",
        "# {1: 'World News', 2: 'Sports News', 3: 'Business News', 4: 'Science-Technology News'}\n",
        "\n",
        "sns.heatmap(cm, annot=True, fmt=\"d\", cmap=\"Blues\", xticklabels=['World', 'Sports', 'Business', 'Science-Technology'],\n",
        "            yticklabels=['World', 'Sports', 'Business', 'Science-Technology'])\n",
        "plt.title('Confusion Matrix')\n",
        "plt.xlabel('Predicted')\n",
        "plt.ylabel('True')\n",
        "plt.show()"
      ],
      "metadata": {
        "colab": {
          "base_uri": "https://localhost:8080/",
          "height": 557
        },
        "id": "0ws9zlsB2kUD",
        "outputId": "73e76869-5fb3-4e38-8f3b-63f69155e86b"
      },
      "execution_count": null,
      "outputs": [
        {
          "output_type": "stream",
          "name": "stdout",
          "text": [
            "\u001b[1m238/238\u001b[0m \u001b[32m━━━━━━━━━━━━━━━━━━━━\u001b[0m\u001b[37m\u001b[0m \u001b[1m1s\u001b[0m 4ms/step\n"
          ]
        },
        {
          "output_type": "display_data",
          "data": {
            "text/plain": [
              "<Figure size 800x600 with 2 Axes>"
            ],
            "image/png": "[encoded data removed]"
          },
          "metadata": {}
        }
      ]
    },
    {
      "cell_type": "code",
      "source": [
        "from sklearn.metrics import classification_report\n",
        "\n",
        "# Print detailed classification report\n",
        "print(classification_report(y_test, y_pred_classes, target_names=['World',\n",
        "                                                                  'Sports',\n",
        "                                                                  'Business',\n",
        "                                                                  'Science-Tech']))\n"
      ],
      "metadata": {
        "colab": {
          "base_uri": "https://localhost:8080/"
        },
        "id": "JBxvB4LX4jW-",
        "outputId": "c1cd3128-2857-40cb-a550-5a410204b91a"
      },
      "execution_count": null,
      "outputs": [
        {
          "output_type": "stream",
          "name": "stdout",
          "text": [
            "              precision    recall  f1-score   support\n",
            "\n",
            "       World       0.93      0.89      0.91      1900\n",
            "      Sports       0.96      0.97      0.97      1900\n",
            "    Business       0.88      0.86      0.87      1900\n",
            "Science-Tech       0.87      0.91      0.89      1900\n",
            "\n",
            "    accuracy                           0.91      7600\n",
            "   macro avg       0.91      0.91      0.91      7600\n",
            "weighted avg       0.91      0.91      0.91      7600\n",
            "\n"
          ]
        }
      ]
    },
    {
      "cell_type": "markdown",
      "metadata": {
        "id": "vi7Kdoh6_4bS"
      },
      "source": [
        "### 4.2b. Long Short Term Memory (LSTM)"
      ]
    },
    {
      "cell_type": "markdown",
      "metadata": {
        "id": "KriJlpmW_4bS"
      },
      "source": [
        "For each method you are required to find the best set of parameters.\n",
        "\n",
        "*Hint*: You can use fine-tuning methods like *Cross-Validation*, *“Elbow” Method*, *\"Silhouette\" Method*, etc."
      ]
    },
    {
      "cell_type": "markdown",
      "source": [
        "###### Source"
      ],
      "metadata": {
        "id": "Oy13U7xTbuIQ"
      }
    },
    {
      "cell_type": "markdown",
      "source": [
        "https://www.kaggle.com/code/ishandutta/ag-news-classification-lstm"
      ],
      "metadata": {
        "id": "Sx3-Nt2mbmZd"
      }
    },
    {
      "cell_type": "markdown",
      "source": [
        "##### Implementation"
      ],
      "metadata": {
        "id": "3EPIBTjgXNsU"
      }
    },
    {
      "cell_type": "markdown",
      "metadata": {
        "id": "qchN1CYu_4bZ"
      },
      "source": [
        "Set Up Baseline Model"
      ]
    },
    {
      "cell_type": "code",
      "source": [
        "baseline_model = Sequential([\n",
        "    # Embedding Layer\n",
        "    keras.layers.Embedding(vocab_size,\n",
        "                          embed_size,\n",
        "                          input_shape=(maxlen,)),\n",
        "    # LSTM layer\n",
        "    keras.layers.Bidirectional(LSTM(128, return_sequences = True)),\n",
        "    keras.layers.GlobalAveragePooling1D(),\n",
        "    keras.layers.Dense(64, activation='relu'),\n",
        "    keras.layers.Dropout(0.5),\n",
        "    keras.layers.Dense(4, activation='softmax')\n",
        "])\n",
        "\n",
        "baseline_model.summary()"
      ],
      "metadata": {
        "colab": {
          "base_uri": "https://localhost:8080/",
          "height": 403
        },
        "id": "ZtQu8kWvdGvY",
        "outputId": "47a7a9a8-eaf7-43c6-a61a-375ab0830699"
      },
      "execution_count": null,
      "outputs": [
        {
          "output_type": "stream",
          "name": "stderr",
          "text": [
            "/usr/local/lib/python3.11/dist-packages/keras/src/layers/core/embedding.py:93: UserWarning: Do not pass an `input_shape`/`input_dim` argument to a layer. When using Sequential models, prefer using an `Input(shape)` object as the first layer in the model instead.\n",
            "  super().__init__(**kwargs)\n"
          ]
        },
        {
          "output_type": "display_data",
          "data": {
            "text/plain": [
              "\u001b[1mModel: \"sequential_7\"\u001b[0m\n"
            ],
            "text/html": [
              "<pre style=\"white-space:pre;overflow-x:auto;line-height:normal;font-family:Menlo,'DejaVu Sans Mono',consolas,'Courier New',monospace\"><span style=\"font-weight: bold\">Model: \"sequential_7\"</span>\n",
              "</pre>\n"
            ]
          },
          "metadata": {}
        },
        {
          "output_type": "display_data",
          "data": {
            "text/plain": [
              "┏━━━━━━━━━━━━━━━━━━━━━━━━━━━━━━━━━━━━━━┳━━━━━━━━━━━━━━━━━━━━━━━━━━━━━┳━━━━━━━━━━━━━━━━━┓\n",
              "┃\u001b[1m \u001b[0m\u001b[1mLayer (type)                        \u001b[0m\u001b[1m \u001b[0m┃\u001b[1m \u001b[0m\u001b[1mOutput Shape               \u001b[0m\u001b[1m \u001b[0m┃\u001b[1m \u001b[0m\u001b[1m        Param #\u001b[0m\u001b[1m \u001b[0m┃\n",
              "┡━━━━━━━━━━━━━━━━━━━━━━━━━━━━━━━━━━━━━━╇━━━━━━━━━━━━━━━━━━━━━━━━━━━━━╇━━━━━━━━━━━━━━━━━┩\n",
              "│ embedding_7 (\u001b[38;5;33mEmbedding\u001b[0m)              │ (\u001b[38;5;45mNone\u001b[0m, \u001b[38;5;34m100\u001b[0m, \u001b[38;5;34m32\u001b[0m)             │         \u001b[38;5;34m320,000\u001b[0m │\n",
              "├──────────────────────────────────────┼─────────────────────────────┼─────────────────┤\n",
              "│ bidirectional (\u001b[38;5;33mBidirectional\u001b[0m)        │ (\u001b[38;5;45mNone\u001b[0m, \u001b[38;5;34m100\u001b[0m, \u001b[38;5;34m256\u001b[0m)            │         \u001b[38;5;34m164,864\u001b[0m │\n",
              "├──────────────────────────────────────┼─────────────────────────────┼─────────────────┤\n",
              "│ global_average_pooling1d             │ (\u001b[38;5;45mNone\u001b[0m, \u001b[38;5;34m256\u001b[0m)                 │               \u001b[38;5;34m0\u001b[0m │\n",
              "│ (\u001b[38;5;33mGlobalAveragePooling1D\u001b[0m)             │                             │                 │\n",
              "├──────────────────────────────────────┼─────────────────────────────┼─────────────────┤\n",
              "│ dense_14 (\u001b[38;5;33mDense\u001b[0m)                     │ (\u001b[38;5;45mNone\u001b[0m, \u001b[38;5;34m64\u001b[0m)                  │          \u001b[38;5;34m16,448\u001b[0m │\n",
              "├──────────────────────────────────────┼─────────────────────────────┼─────────────────┤\n",
              "│ dropout_7 (\u001b[38;5;33mDropout\u001b[0m)                  │ (\u001b[38;5;45mNone\u001b[0m, \u001b[38;5;34m64\u001b[0m)                  │               \u001b[38;5;34m0\u001b[0m │\n",
              "├──────────────────────────────────────┼─────────────────────────────┼─────────────────┤\n",
              "│ dense_15 (\u001b[38;5;33mDense\u001b[0m)                     │ (\u001b[38;5;45mNone\u001b[0m, \u001b[38;5;34m4\u001b[0m)                   │             \u001b[38;5;34m260\u001b[0m │\n",
              "└──────────────────────────────────────┴─────────────────────────────┴─────────────────┘\n"
            ],
            "text/html": [
              "<pre style=\"white-space:pre;overflow-x:auto;line-height:normal;font-family:Menlo,'DejaVu Sans Mono',consolas,'Courier New',monospace\">┏━━━━━━━━━━━━━━━━━━━━━━━━━━━━━━━━━━━━━━┳━━━━━━━━━━━━━━━━━━━━━━━━━━━━━┳━━━━━━━━━━━━━━━━━┓\n",
              "┃<span style=\"font-weight: bold\"> Layer (type)                         </span>┃<span style=\"font-weight: bold\"> Output Shape                </span>┃<span style=\"font-weight: bold\">         Param # </span>┃\n",
              "┡━━━━━━━━━━━━━━━━━━━━━━━━━━━━━━━━━━━━━━╇━━━━━━━━━━━━━━━━━━━━━━━━━━━━━╇━━━━━━━━━━━━━━━━━┩\n",
              "│ embedding_7 (<span style=\"color: #0087ff; text-decoration-color: #0087ff\">Embedding</span>)              │ (<span style=\"color: #00d7ff; text-decoration-color: #00d7ff\">None</span>, <span style=\"color: #00af00; text-decoration-color: #00af00\">100</span>, <span style=\"color: #00af00; text-decoration-color: #00af00\">32</span>)             │         <span style=\"color: #00af00; text-decoration-color: #00af00\">320,000</span> │\n",
              "├──────────────────────────────────────┼─────────────────────────────┼─────────────────┤\n",
              "│ bidirectional (<span style=\"color: #0087ff; text-decoration-color: #0087ff\">Bidirectional</span>)        │ (<span style=\"color: #00d7ff; text-decoration-color: #00d7ff\">None</span>, <span style=\"color: #00af00; text-decoration-color: #00af00\">100</span>, <span style=\"color: #00af00; text-decoration-color: #00af00\">256</span>)            │         <span style=\"color: #00af00; text-decoration-color: #00af00\">164,864</span> │\n",
              "├──────────────────────────────────────┼─────────────────────────────┼─────────────────┤\n",
              "│ global_average_pooling1d             │ (<span style=\"color: #00d7ff; text-decoration-color: #00d7ff\">None</span>, <span style=\"color: #00af00; text-decoration-color: #00af00\">256</span>)                 │               <span style=\"color: #00af00; text-decoration-color: #00af00\">0</span> │\n",
              "│ (<span style=\"color: #0087ff; text-decoration-color: #0087ff\">GlobalAveragePooling1D</span>)             │                             │                 │\n",
              "├──────────────────────────────────────┼─────────────────────────────┼─────────────────┤\n",
              "│ dense_14 (<span style=\"color: #0087ff; text-decoration-color: #0087ff\">Dense</span>)                     │ (<span style=\"color: #00d7ff; text-decoration-color: #00d7ff\">None</span>, <span style=\"color: #00af00; text-decoration-color: #00af00\">64</span>)                  │          <span style=\"color: #00af00; text-decoration-color: #00af00\">16,448</span> │\n",
              "├──────────────────────────────────────┼─────────────────────────────┼─────────────────┤\n",
              "│ dropout_7 (<span style=\"color: #0087ff; text-decoration-color: #0087ff\">Dropout</span>)                  │ (<span style=\"color: #00d7ff; text-decoration-color: #00d7ff\">None</span>, <span style=\"color: #00af00; text-decoration-color: #00af00\">64</span>)                  │               <span style=\"color: #00af00; text-decoration-color: #00af00\">0</span> │\n",
              "├──────────────────────────────────────┼─────────────────────────────┼─────────────────┤\n",
              "│ dense_15 (<span style=\"color: #0087ff; text-decoration-color: #0087ff\">Dense</span>)                     │ (<span style=\"color: #00d7ff; text-decoration-color: #00d7ff\">None</span>, <span style=\"color: #00af00; text-decoration-color: #00af00\">4</span>)                   │             <span style=\"color: #00af00; text-decoration-color: #00af00\">260</span> │\n",
              "└──────────────────────────────────────┴─────────────────────────────┴─────────────────┘\n",
              "</pre>\n"
            ]
          },
          "metadata": {}
        },
        {
          "output_type": "display_data",
          "data": {
            "text/plain": [
              "\u001b[1m Total params: \u001b[0m\u001b[38;5;34m501,572\u001b[0m (1.91 MB)\n"
            ],
            "text/html": [
              "<pre style=\"white-space:pre;overflow-x:auto;line-height:normal;font-family:Menlo,'DejaVu Sans Mono',consolas,'Courier New',monospace\"><span style=\"font-weight: bold\"> Total params: </span><span style=\"color: #00af00; text-decoration-color: #00af00\">501,572</span> (1.91 MB)\n",
              "</pre>\n"
            ]
          },
          "metadata": {}
        },
        {
          "output_type": "display_data",
          "data": {
            "text/plain": [
              "\u001b[1m Trainable params: \u001b[0m\u001b[38;5;34m501,572\u001b[0m (1.91 MB)\n"
            ],
            "text/html": [
              "<pre style=\"white-space:pre;overflow-x:auto;line-height:normal;font-family:Menlo,'DejaVu Sans Mono',consolas,'Courier New',monospace\"><span style=\"font-weight: bold\"> Trainable params: </span><span style=\"color: #00af00; text-decoration-color: #00af00\">501,572</span> (1.91 MB)\n",
              "</pre>\n"
            ]
          },
          "metadata": {}
        },
        {
          "output_type": "display_data",
          "data": {
            "text/plain": [
              "\u001b[1m Non-trainable params: \u001b[0m\u001b[38;5;34m0\u001b[0m (0.00 B)\n"
            ],
            "text/html": [
              "<pre style=\"white-space:pre;overflow-x:auto;line-height:normal;font-family:Menlo,'DejaVu Sans Mono',consolas,'Courier New',monospace\"><span style=\"font-weight: bold\"> Non-trainable params: </span><span style=\"color: #00af00; text-decoration-color: #00af00\">0</span> (0.00 B)\n",
              "</pre>\n"
            ]
          },
          "metadata": {}
        }
      ]
    },
    {
      "cell_type": "code",
      "source": [
        "# Compile Model\n",
        "baseline_model.compile(\n",
        "    optimizer=\"adam\",\n",
        "    loss=\"sparse_categorical_crossentropy\",\n",
        "    metrics=[\"accuracy\"])"
      ],
      "metadata": {
        "id": "FsBMx7dDfUhI"
      },
      "execution_count": null,
      "outputs": []
    },
    {
      "cell_type": "code",
      "source": [
        "# Train the model with a uniform batch size for training and validation data\n",
        "batch_size = 32\n",
        "history = baseline_model.fit(\n",
        "    X_train,\n",
        "    y_train,\n",
        "    epochs=7,\n",
        "    batch_size=batch_size,\n",
        "    validation_data=(X_valid, y_valid)\n",
        ")"
      ],
      "metadata": {
        "colab": {
          "base_uri": "https://localhost:8080/"
        },
        "id": "omtfav2hfLFS",
        "outputId": "5983840b-cb80-4910-d282-a50c0923282c"
      },
      "execution_count": null,
      "outputs": [
        {
          "output_type": "stream",
          "name": "stdout",
          "text": [
            "Epoch 1/7\n",
            "\u001b[1m3375/3375\u001b[0m \u001b[32m━━━━━━━━━━━━━━━━━━━━\u001b[0m\u001b[37m\u001b[0m \u001b[1m49s\u001b[0m 13ms/step - accuracy: 0.6823 - loss: 0.7539 - val_accuracy: 0.9088 - val_loss: 0.2839\n",
            "Epoch 2/7\n",
            "\u001b[1m3375/3375\u001b[0m \u001b[32m━━━━━━━━━━━━━━━━━━━━\u001b[0m\u001b[37m\u001b[0m \u001b[1m47s\u001b[0m 14ms/step - accuracy: 0.9171 - loss: 0.2660 - val_accuracy: 0.9077 - val_loss: 0.2649\n",
            "Epoch 3/7\n",
            "\u001b[1m3375/3375\u001b[0m \u001b[32m━━━━━━━━━━━━━━━━━━━━\u001b[0m\u001b[37m\u001b[0m \u001b[1m87s\u001b[0m 15ms/step - accuracy: 0.9292 - loss: 0.2198 - val_accuracy: 0.9140 - val_loss: 0.2570\n",
            "Epoch 4/7\n",
            "\u001b[1m3375/3375\u001b[0m \u001b[32m━━━━━━━━━━━━━━━━━━━━\u001b[0m\u001b[37m\u001b[0m \u001b[1m73s\u001b[0m 13ms/step - accuracy: 0.9386 - loss: 0.1919 - val_accuracy: 0.9109 - val_loss: 0.2754\n",
            "Epoch 5/7\n",
            "\u001b[1m3375/3375\u001b[0m \u001b[32m━━━━━━━━━━━━━━━━━━━━\u001b[0m\u001b[37m\u001b[0m \u001b[1m88s\u001b[0m 14ms/step - accuracy: 0.9465 - loss: 0.1638 - val_accuracy: 0.9107 - val_loss: 0.2729\n",
            "Epoch 6/7\n",
            "\u001b[1m3375/3375\u001b[0m \u001b[32m━━━━━━━━━━━━━━━━━━━━\u001b[0m\u001b[37m\u001b[0m \u001b[1m75s\u001b[0m 12ms/step - accuracy: 0.9527 - loss: 0.1397 - val_accuracy: 0.9088 - val_loss: 0.2987\n",
            "Epoch 7/7\n",
            "\u001b[1m3375/3375\u001b[0m \u001b[32m━━━━━━━━━━━━━━━━━━━━\u001b[0m\u001b[37m\u001b[0m \u001b[1m83s\u001b[0m 13ms/step - accuracy: 0.9595 - loss: 0.1184 - val_accuracy: 0.9043 - val_loss: 0.3406\n"
          ]
        }
      ]
    },
    {
      "cell_type": "code",
      "source": [
        "plt.title('Loss')\n",
        "plt.plot(history.history['loss'], label='train')\n",
        "plt.plot(history.history['val_loss'], label='valid')\n",
        "plt.legend()\n",
        "plt.show();"
      ],
      "metadata": {
        "colab": {
          "base_uri": "https://localhost:8080/",
          "height": 452
        },
        "id": "lni6TGQqrC9s",
        "outputId": "c1e3ec82-27aa-4841-f8f4-b3d18e605353"
      },
      "execution_count": null,
      "outputs": [
        {
          "output_type": "display_data",
          "data": {
            "text/plain": [
              "<Figure size 640x480 with 1 Axes>"
            ],
            "image/png": "[encoded data removed]"
          },
          "metadata": {}
        }
      ]
    },
    {
      "cell_type": "code",
      "source": [
        "plt.title('Accuracy')\n",
        "plt.plot(history.history['accuracy'], label='train')\n",
        "plt.plot(history.history['val_accuracy'], label='valid')\n",
        "plt.legend()\n",
        "plt.show();"
      ],
      "metadata": {
        "colab": {
          "base_uri": "https://localhost:8080/",
          "height": 452
        },
        "id": "Rl4nJzJ0rVhp",
        "outputId": "b9955e15-3ec3-496e-8ccc-4be0b9359cfe"
      },
      "execution_count": null,
      "outputs": [
        {
          "output_type": "display_data",
          "data": {
            "text/plain": [
              "<Figure size 640x480 with 1 Axes>"
            ],
            "image/png": "[encoded data removed]"
          },
          "metadata": {}
        }
      ]
    },
    {
      "cell_type": "markdown",
      "source": [
        "When tested on validation set, model performs best after one epoch (lowest epoch, highest accuracy) before performance dips afterwards."
      ],
      "metadata": {
        "id": "IS7mMKoTxf4y"
      }
    },
    {
      "cell_type": "markdown",
      "metadata": {
        "id": "yB4CHzD_Rs7v"
      },
      "source": [
        "#### Parameter Fine Tuning"
      ]
    },
    {
      "cell_type": "markdown",
      "metadata": {
        "id": "0U8Pe3fESaqU"
      },
      "source": [
        "Define the hyperparameter space"
      ]
    },
    {
      "cell_type": "code",
      "source": [
        "def build_lstm_model(hp):\n",
        "    model = Sequential([\n",
        "        # Embedding Layer\n",
        "        layers.Embedding(input_dim=max_vocab_size,\n",
        "                         output_dim=hp.Int('embedding_dim',\n",
        "                                            min_value=16,\n",
        "                                            max_value=128,\n",
        "                                            step=16),\n",
        "                         input_length=maxlen),\n",
        "\n",
        "        # LSTM Layer(s)\n",
        "        layers.Bidirectional(layers.LSTM(units=hp.Int('lstm_units', min_value=64, max_value=256, step=64),\n",
        "                                         return_sequences=True)),\n",
        "        layers.Bidirectional(layers.LSTM(units=hp.Int('lstm_units_2', min_value=32, max_value=128, step=32),\n",
        "                                         return_sequences = True)),\n",
        "\n",
        "        # Global Pooling + Dense\n",
        "        layers.GlobalMaxPooling1D(),\n",
        "        layers.Dense(units=hp.Int('dense_units', min_value=32, max_value=128, step=32), activation=\"relu\"),\n",
        "        layers.Dropout(rate=hp.Float('dropout_rate', min_value=0.2, max_value=0.5, step=0.1)),\n",
        "\n",
        "        # Output Layer\n",
        "        layers.Dense(num_classes, activation=\"softmax\")\n",
        "    ])\n",
        "\n",
        "    # Compile the model\n",
        "    model.compile(\n",
        "        optimizer=Adam(learning_rate=hp.Float('learning_rate', min_value=1e-4, max_value=1e-2, sampling='LOG')),\n",
        "        loss='sparse_categorical_crossentropy',\n",
        "        metrics=['accuracy']\n",
        "    )\n",
        "\n",
        "    return model\n"
      ],
      "metadata": {
        "id": "dNyVk_5xPEAs"
      },
      "execution_count": null,
      "outputs": []
    },
    {
      "cell_type": "code",
      "source": [
        "# New version\n",
        "from keras_tuner.tuners import RandomSearch\n",
        "\n",
        "tuner = RandomSearch(build_lstm_model,\n",
        "                     objective='val_accuracy',\n",
        "                     max_trials=5,\n",
        "                     executions_per_trial=1,\n",
        "                     directory='tuner_dir',\n",
        "                     project_name='lstm_tuning')\n",
        "\n",
        "tuner.search(X_train,\n",
        "             y_train,\n",
        "             epochs=3,\n",
        "             validation_data=(X_valid, y_valid),\n",
        "             callbacks=[tf.keras.callbacks.EarlyStopping(monitor='val_loss', patience=3)])\n"
      ],
      "metadata": {
        "colab": {
          "base_uri": "https://localhost:8080/"
        },
        "id": "HaVrq7lyXn_g",
        "outputId": "1d0f3e14-8205-4cfa-f99f-e611a8ad2ad1"
      },
      "execution_count": null,
      "outputs": [
        {
          "output_type": "stream",
          "name": "stdout",
          "text": [
            "Trial 5 Complete [00h 04m 11s]\n",
            "val_accuracy: 0.9146666526794434\n",
            "\n",
            "Best val_accuracy So Far: 0.9146666526794434\n",
            "Total elapsed time: 00h 23m 22s\n"
          ]
        }
      ]
    },
    {
      "cell_type": "markdown",
      "source": [
        "Retrieve best hyperparameters"
      ],
      "metadata": {
        "id": "dQGFUqhViIos"
      }
    },
    {
      "cell_type": "code",
      "source": [
        "best_hps = tuner.get_best_hyperparameters(num_trials=1)[0]\n",
        "\n",
        "print(\"Best Hyperparameters:\")\n",
        "print(best_hps.values)"
      ],
      "metadata": {
        "colab": {
          "base_uri": "https://localhost:8080/"
        },
        "id": "bmjxb-PXhYul",
        "outputId": "6ea4957e-fff5-4c3d-fdbd-2a8bba5d8b7d"
      },
      "execution_count": null,
      "outputs": [
        {
          "output_type": "stream",
          "name": "stdout",
          "text": [
            "Best Hyperparameters:\n",
            "{'embedding_dim': 32, 'lstm_units': 128, 'lstm_units_2': 96, 'dense_units': 64, 'dropout_rate': 0.4, 'learning_rate': 0.0011726775218545418}\n"
          ]
        }
      ]
    },
    {
      "cell_type": "markdown",
      "source": [
        "Train best model"
      ],
      "metadata": {
        "id": "ZDD-Lxh7aVHp"
      }
    },
    {
      "cell_type": "code",
      "source": [
        "# Get best hyperparameters\n",
        "best_lstm_model = tuner.hypermodel.build(best_hps)\n",
        "\n",
        "# Compile the model\n",
        "best_lstm_model.compile(optimizer=Adam(learning_rate=best_hps.get('learning_rate')),\n",
        "                   loss='sparse_categorical_crossentropy',\n",
        "                   metrics=['accuracy'])\n",
        "# Train the model\n",
        "history = best_lstm_model.fit(X_train,\n",
        "                              y_train,\n",
        "                              epochs=10,\n",
        "                              validation_data=(X_valid, y_valid),\n",
        "                              callbacks = early_stopping)"
      ],
      "metadata": {
        "colab": {
          "base_uri": "https://localhost:8080/"
        },
        "id": "ZkPvs8fuZ6QL",
        "outputId": "502d696c-0283-45b7-e0a7-a651f1195014"
      },
      "execution_count": null,
      "outputs": [
        {
          "output_type": "stream",
          "name": "stdout",
          "text": [
            "Epoch 1/10\n",
            "\u001b[1m3375/3375\u001b[0m \u001b[32m━━━━━━━━━━━━━━━━━━━━\u001b[0m\u001b[37m\u001b[0m \u001b[1m80s\u001b[0m 22ms/step - accuracy: 0.8017 - loss: 0.5100 - val_accuracy: 0.9127 - val_loss: 0.2654\n",
            "Epoch 2/10\n",
            "\u001b[1m3375/3375\u001b[0m \u001b[32m━━━━━━━━━━━━━━━━━━━━\u001b[0m\u001b[37m\u001b[0m \u001b[1m75s\u001b[0m 22ms/step - accuracy: 0.9226 - loss: 0.2395 - val_accuracy: 0.9132 - val_loss: 0.2595\n",
            "Epoch 3/10\n",
            "\u001b[1m3375/3375\u001b[0m \u001b[32m━━━━━━━━━━━━━━━━━━━━\u001b[0m\u001b[37m\u001b[0m \u001b[1m79s\u001b[0m 21ms/step - accuracy: 0.9317 - loss: 0.2022 - val_accuracy: 0.9134 - val_loss: 0.2647\n",
            "Epoch 4/10\n",
            "\u001b[1m3375/3375\u001b[0m \u001b[32m━━━━━━━━━━━━━━━━━━━━\u001b[0m\u001b[37m\u001b[0m \u001b[1m82s\u001b[0m 21ms/step - accuracy: 0.9410 - loss: 0.1700 - val_accuracy: 0.9128 - val_loss: 0.2738\n",
            "Epoch 5/10\n",
            "\u001b[1m3375/3375\u001b[0m \u001b[32m━━━━━━━━━━━━━━━━━━━━\u001b[0m\u001b[37m\u001b[0m \u001b[1m79s\u001b[0m 21ms/step - accuracy: 0.9527 - loss: 0.1361 - val_accuracy: 0.9119 - val_loss: 0.2947\n"
          ]
        }
      ]
    },
    {
      "cell_type": "markdown",
      "source": [
        "#### Performance Evaluation"
      ],
      "metadata": {
        "id": "yw9hI_kgiaBt"
      }
    },
    {
      "cell_type": "code",
      "source": [
        "# Evaluate the model on the validation set\n",
        "valid_loss, valid_accuracy = best_lstm_model.evaluate(X_valid, y_valid)\n",
        "print(f\"Valid Loss: {valid_loss}\")\n",
        "print(f\"Valid Accuracy: {valid_accuracy}\")\n",
        "\n",
        "# Evaluate the model on the test set\n",
        "test_loss, test_accuracy = best_lstm_model.evaluate(X_test, y_test)\n",
        "print(f\"Test Loss: {test_loss}\")\n",
        "print(f\"Test Accuracy: {test_accuracy}\")"
      ],
      "metadata": {
        "colab": {
          "base_uri": "https://localhost:8080/"
        },
        "id": "iQ3UW9hHik9M",
        "outputId": "01ca07a9-eafb-4bd7-8f3f-e1661dfd0b0a"
      },
      "execution_count": null,
      "outputs": [
        {
          "output_type": "stream",
          "name": "stdout",
          "text": [
            "\u001b[1m375/375\u001b[0m \u001b[32m━━━━━━━━━━━━━━━━━━━━\u001b[0m\u001b[37m\u001b[0m \u001b[1m3s\u001b[0m 8ms/step - accuracy: 0.9155 - loss: 0.2489\n",
            "Valid Loss: 0.2594537138938904\n",
            "Valid Accuracy: 0.9131666421890259\n",
            "\u001b[1m238/238\u001b[0m \u001b[32m━━━━━━━━━━━━━━━━━━━━\u001b[0m\u001b[37m\u001b[0m \u001b[1m3s\u001b[0m 11ms/step - accuracy: 0.9087 - loss: 0.2838\n",
            "Test Loss: 0.26452791690826416\n",
            "Test Accuracy: 0.9147368669509888\n"
          ]
        }
      ]
    },
    {
      "cell_type": "markdown",
      "source": [
        "Plot training and validation performance"
      ],
      "metadata": {
        "id": "09csdMX0i0ff"
      }
    },
    {
      "cell_type": "code",
      "source": [
        "import matplotlib.pyplot as plt\n",
        "\n",
        "# Plot training & validation accuracy values\n",
        "plt.plot(history.history['accuracy'])\n",
        "plt.plot(history.history['val_accuracy'])\n",
        "plt.title('Model Accuracy')\n",
        "plt.xlabel('Epochs')\n",
        "plt.ylabel('Accuracy')\n",
        "plt.legend(['Train', 'Val'], loc='upper left')\n",
        "plt.show()\n",
        "\n",
        "# Plot training & validation loss values\n",
        "plt.plot(history.history['loss'])\n",
        "plt.plot(history.history['val_loss'])\n",
        "plt.title('Model Loss')\n",
        "plt.xlabel('Epochs')\n",
        "plt.ylabel('Loss')\n",
        "plt.legend(['Train', 'Val'], loc='upper left')\n",
        "plt.show()"
      ],
      "metadata": {
        "colab": {
          "base_uri": "https://localhost:8080/",
          "height": 927
        },
        "id": "A34GojsAizUN",
        "outputId": "a4efdab7-f97a-455b-cc66-64ce10c18f84"
      },
      "execution_count": null,
      "outputs": [
        {
          "output_type": "display_data",
          "data": {
            "text/plain": [
              "<Figure size 640x480 with 1 Axes>"
            ],
            "image/png": "[encoded data removed]"
          },
          "metadata": {}
        },
        {
          "output_type": "display_data",
          "data": {
            "text/plain": [
              "<Figure size 640x480 with 1 Axes>"
            ],
            "image/png": "[encoded data removed]"
          },
          "metadata": {}
        }
      ]
    },
    {
      "cell_type": "markdown",
      "source": [
        "Overfitting appears to occur after one epoch."
      ],
      "metadata": {
        "id": "6Dla86tISfAf"
      }
    },
    {
      "cell_type": "markdown",
      "source": [
        "Confusion Matrix"
      ],
      "metadata": {
        "id": "IKYHU2Jkn6bJ"
      }
    },
    {
      "cell_type": "code",
      "source": [
        "# Make predictions on the test set\n",
        "y_pred = best_lstm_model.predict(X_test)\n",
        "y_pred_classes = y_pred.argmax(axis=1)  # Convert predicted probabilities to class labels\n",
        "\n",
        "# Calculate confusion matrix\n",
        "cm = confusion_matrix(y_test, y_pred_classes)\n",
        "\n",
        "# Plot confusion matrix\n",
        "plt.figure(figsize=(8, 6))\n",
        "\n",
        "sns.heatmap(cm, annot=True, fmt=\"d\", cmap=\"Blues\", xticklabels=['World', 'Sports', 'Business', 'Science-Technology'],\n",
        "            yticklabels=['World', 'Sports', 'Business', 'Science-Technology'])\n",
        "plt.title('Confusion Matrix')\n",
        "plt.xlabel('Predicted')\n",
        "plt.ylabel('True')\n",
        "plt.show()"
      ],
      "metadata": {
        "colab": {
          "base_uri": "https://localhost:8080/",
          "height": 557
        },
        "id": "yAjJ0IQWotOr",
        "outputId": "b544fdbb-8ed8-4d3a-95af-ef9e5e1720f1"
      },
      "execution_count": null,
      "outputs": [
        {
          "output_type": "stream",
          "name": "stdout",
          "text": [
            "\u001b[1m238/238\u001b[0m \u001b[32m━━━━━━━━━━━━━━━━━━━━\u001b[0m\u001b[37m\u001b[0m \u001b[1m2s\u001b[0m 9ms/step\n"
          ]
        },
        {
          "output_type": "display_data",
          "data": {
            "text/plain": [
              "<Figure size 800x600 with 2 Axes>"
            ],
            "image/png": "[encoded data removed]"
          },
          "metadata": {}
        }
      ]
    },
    {
      "cell_type": "markdown",
      "source": [
        "Classification Report"
      ],
      "metadata": {
        "id": "hcX3wk7yo4uW"
      }
    },
    {
      "cell_type": "code",
      "source": [
        "from sklearn.metrics import classification_report\n",
        "\n",
        "# Print detailed classification report\n",
        "print(classification_report(y_test, y_pred_classes, target_names=['World',\n",
        "                                                                  'Sports',\n",
        "                                                                  'Business',\n",
        "                                                                  'Science-Tech']))"
      ],
      "metadata": {
        "colab": {
          "base_uri": "https://localhost:8080/"
        },
        "id": "-PgfTNaHo6el",
        "outputId": "c030073e-4a96-47cd-804b-d7c437e24bca"
      },
      "execution_count": null,
      "outputs": [
        {
          "output_type": "stream",
          "name": "stdout",
          "text": [
            "              precision    recall  f1-score   support\n",
            "\n",
            "       World       0.96      0.88      0.91      1900\n",
            "      Sports       0.95      0.99      0.97      1900\n",
            "    Business       0.86      0.90      0.88      1900\n",
            "Science-Tech       0.89      0.90      0.90      1900\n",
            "\n",
            "    accuracy                           0.91      7600\n",
            "   macro avg       0.92      0.91      0.91      7600\n",
            "weighted avg       0.92      0.91      0.91      7600\n",
            "\n"
          ]
        }
      ]
    },
    {
      "cell_type": "markdown",
      "source": [
        "### 4.3. Unsupervised Methods"
      ],
      "metadata": {
        "id": "dc7P2HC1JgwG"
      }
    },
    {
      "cell_type": "markdown",
      "source": [
        "##### Source"
      ],
      "metadata": {
        "id": "AYCVLW97STH0"
      }
    },
    {
      "cell_type": "markdown",
      "source": [
        "https://www.analyticsvidhya.com/blog/2021/09/creating-a-movie-reviews-classifier-using-tf-idf-in-python/"
      ],
      "metadata": {
        "id": "wtnBx9YcSYAD"
      }
    },
    {
      "cell_type": "code",
      "source": [
        "# Load preprocessed data\n",
        "X_train = pd.read_pickle(data_path + '/X_train_cleaned')\n",
        "X_test = pd.read_pickle(data_path + '/X_test_cleaned')\n",
        "\n",
        "y_train = pd.read_pickle(data_path + '/y_train_cleaned')\n",
        "y_test = pd.read_pickle(data_path + '/y_test_cleaned')"
      ],
      "metadata": {
        "id": "bY9c8hkSroFx"
      },
      "execution_count": null,
      "outputs": []
    },
    {
      "cell_type": "markdown",
      "source": [
        "Preprocessing"
      ],
      "metadata": {
        "id": "N1XG-CUuNUCO"
      }
    },
    {
      "cell_type": "code",
      "execution_count": null,
      "metadata": {
        "id": "9r4D8CmbxUQ4"
      },
      "outputs": [],
      "source": [
        "# Convert text data to TF-IDF vectors\n",
        "vectorizer = TfidfVectorizer(\n",
        "    max_features=5000,  # Keeps it manageable\n",
        "    ngram_range=(1,2)  # Unigrams + Bigrams\n",
        ")"
      ]
    },
    {
      "cell_type": "code",
      "source": [
        "# Apply vectorizer on preprocessed data\n",
        "X_train_tfidf = vectorizer.fit_transform(X_train)\n",
        "X_test_tfidf = vectorizer.transform(X_test)"
      ],
      "metadata": {
        "id": "O1V19nTZLH4H"
      },
      "execution_count": null,
      "outputs": []
    },
    {
      "cell_type": "code",
      "source": [
        "# Get feature names (words)\n",
        "feature_names = vectorizer.get_feature_names_out()\n",
        "\n",
        "# Compute mean TF-IDF score for each word\n",
        "tfidf_mean = np.mean(X_train_tfidf.toarray(), axis=0)\n",
        "\n",
        "# Create DataFrame for analysis\n",
        "tfidf_df = pd.DataFrame({'Word': feature_names, 'TF-IDF Score': tfidf_mean})\n",
        "\n",
        "# Sort by importance\n",
        "top_words = tfidf_df.sort_values(by=\"TF-IDF Score\", ascending=False).head(20)\n",
        "print(top_words)"
      ],
      "metadata": {
        "colab": {
          "base_uri": "https://localhost:8080/"
        },
        "id": "usCSwotT7h78",
        "outputId": "e38a0ef0-0992-4a58-8afc-79283c1db87f"
      },
      "execution_count": null,
      "outputs": [
        {
          "output_type": "stream",
          "name": "stdout",
          "text": [
            "           Word  TF-IDF Score\n",
            "10          39s      0.021698\n",
            "2904        new      0.016423\n",
            "4969       year      0.010352\n",
            "916     company      0.009746\n",
            "1641      first      0.009034\n",
            "4628        two      0.008764\n",
            "4925      world      0.008759\n",
            "1769       game      0.008287\n",
            "3025        oil      0.008026\n",
            "3043        one      0.007710\n",
            "2780     monday      0.007428\n",
            "4841  wednesday      0.007334\n",
            "4616    tuesday      0.007270\n",
            "4496   thursday      0.007189\n",
            "3383      price      0.007130\n",
            "4844       week      0.007092\n",
            "4203      state      0.007065\n",
            "2234       iraq      0.007014\n",
            "1748     friday      0.006875\n",
            "2431       last      0.006848\n"
          ]
        }
      ]
    },
    {
      "cell_type": "markdown",
      "source": [
        "From what we see above, we still have some unnecessary words such as new and year."
      ],
      "metadata": {
        "id": "W98p1m7Vf08A"
      }
    },
    {
      "cell_type": "code",
      "source": [
        "# Find Words That Appear Most Often (Before TF-IDF Weighting)\n",
        "\n",
        "from collections import Counter\n",
        "\n",
        "# Convert TF-IDF matrix back to raw word counts\n",
        "word_counts = np.asarray(X_train_tfidf.sum(axis=0)).flatten()\n",
        "\n",
        "# Create DataFrame for analysis\n",
        "word_freq_df = pd.DataFrame({'Word': feature_names, 'Count': word_counts})\n",
        "\n",
        "# Sort by most frequent words\n",
        "top_freq_words = word_freq_df.sort_values(by=\"Count\", ascending=False).head(20)\n",
        "print(top_freq_words)"
      ],
      "metadata": {
        "colab": {
          "base_uri": "https://localhost:8080/"
        },
        "id": "cHoKJ70M7h2f",
        "outputId": "0ee00c74-0b2a-42fb-b4d9-d566168446cd"
      },
      "execution_count": null,
      "outputs": [
        {
          "output_type": "stream",
          "name": "stdout",
          "text": [
            "           Word        Count\n",
            "10          39s  2603.730652\n",
            "2904        new  1970.808625\n",
            "4969       year  1242.200910\n",
            "916     company  1169.509304\n",
            "1641      first  1084.085606\n",
            "4628        two  1051.660008\n",
            "4925      world  1051.037558\n",
            "1769       game   994.464813\n",
            "3025        oil   963.104168\n",
            "3043        one   925.142447\n",
            "2780     monday   891.331120\n",
            "4841  wednesday   880.133609\n",
            "4616    tuesday   872.390374\n",
            "4496   thursday   862.631283\n",
            "3383      price   855.549302\n",
            "4844       week   850.987741\n",
            "4203      state   847.824519\n",
            "2234       iraq   841.705103\n",
            "1748     friday   824.959811\n",
            "2431       last   821.799428\n"
          ]
        }
      ]
    },
    {
      "cell_type": "code",
      "source": [
        "X_train_tfidf.shape"
      ],
      "metadata": {
        "colab": {
          "base_uri": "https://localhost:8080/"
        },
        "id": "Yi3lqjVAjC7Q",
        "outputId": "c2310b8f-e03e-4fa9-8f64-f5457302ee66"
      },
      "execution_count": null,
      "outputs": [
        {
          "output_type": "execute_result",
          "data": {
            "text/plain": [
              "(120000, 5000)"
            ]
          },
          "metadata": {},
          "execution_count": 55
        }
      ]
    },
    {
      "cell_type": "markdown",
      "source": [
        "Reduce data using Truncated SVD."
      ],
      "metadata": {
        "id": "SCvWnmOd7ovv"
      }
    },
    {
      "cell_type": "code",
      "source": [
        "n_components = 2 # Arbitrarily chosen\n",
        "n_clusters = 4\n",
        "\n",
        "# Apply the final SVD with the best number of components\n",
        "svd = TruncatedSVD(n_components=2,\n",
        "                   random_state=42)\n",
        "\n",
        "# Fit on training data\n",
        "X_train_reduced = svd.fit_transform(X_train_tfidf)\n",
        "\n",
        "# Then apply on test data\n",
        "X_test_reduced = svd.transform(X_test_tfidf)"
      ],
      "metadata": {
        "id": "KNo3oUMa71_o"
      },
      "execution_count": null,
      "outputs": []
    },
    {
      "cell_type": "code",
      "source": [
        "X_train_reduced.shape"
      ],
      "metadata": {
        "colab": {
          "base_uri": "https://localhost:8080/"
        },
        "id": "F3t-cDQQhktn",
        "outputId": "5ffa8a52-8e80-4dd3-ba67-e52c1c902a55"
      },
      "execution_count": null,
      "outputs": [
        {
          "output_type": "execute_result",
          "data": {
            "text/plain": [
              "(120000, 2)"
            ]
          },
          "metadata": {},
          "execution_count": 10
        }
      ]
    },
    {
      "cell_type": "code",
      "source": [
        "X_test_reduced.shape"
      ],
      "metadata": {
        "colab": {
          "base_uri": "https://localhost:8080/"
        },
        "id": "kZuuX-zyhsvv",
        "outputId": "3a002b9a-60e6-483c-cd7a-eab208b70b05"
      },
      "execution_count": null,
      "outputs": [
        {
          "output_type": "execute_result",
          "data": {
            "text/plain": [
              "(7600, 2)"
            ]
          },
          "metadata": {},
          "execution_count": 11
        }
      ]
    },
    {
      "cell_type": "markdown",
      "metadata": {
        "id": "hPCiEGt7ZpWW"
      },
      "source": [
        "### 4.3.a. Kmeans++"
      ]
    },
    {
      "cell_type": "markdown",
      "source": [
        "###### Sources"
      ],
      "metadata": {
        "id": "l8asJ3GGfTA6"
      }
    },
    {
      "cell_type": "markdown",
      "source": [
        "https://github.com/manmeetkaurbaxi/Analyzing-Clustering-Algorithms-for-Topic-Modelling/blob/master/code/Evaluating%20performance/AGNews-TFIDF.ipynb"
      ],
      "metadata": {
        "id": "J2XGBHT2NfaT"
      }
    },
    {
      "cell_type": "markdown",
      "source": [
        "###### Implementation"
      ],
      "metadata": {
        "id": "hCcBIzETfW78"
      }
    },
    {
      "cell_type": "markdown",
      "source": [
        "Build KNN model using 4 clusters"
      ],
      "metadata": {
        "id": "nKNDIS9TmZlX"
      }
    },
    {
      "cell_type": "code",
      "source": [
        "# Apply K-Means++\n",
        "n_clusters = 4  # AG News has 4 categories\n",
        "kmeans = KMeans(n_clusters=n_clusters, init='k-means++', random_state=42)\n",
        "kmeans.fit(X_train_reduced)\n",
        "\n",
        "# Predict clusters for training data\n",
        "clusters_train = kmeans.labels_\n",
        "clusters_test = kmeans.predict(X_test_reduced)"
      ],
      "metadata": {
        "id": "5XQRxzJElI-Q"
      },
      "execution_count": null,
      "outputs": []
    },
    {
      "cell_type": "code",
      "source": [
        "from sklearn.decomposition import PCA\n",
        "import matplotlib.pyplot as plt\n",
        "\n",
        "# PCA\n",
        "pca = PCA(n_components=2)\n",
        "X_vis = pca.fit_transform(X_train_reduced)\n",
        "\n",
        "# Create figure and axis\n",
        "fig, axs = plt.subplots(1, 1, figsize=(8, 6))  # Only one plot now\n",
        "\n",
        "# Plot: Color by cluster labels\n",
        "axs.scatter(X_vis[:, 0], X_vis[:, 1], c=clusters_train, cmap='tab10', s=10)\n",
        "axs.set_title(\"KMeans Clusters\")\n",
        "axs.set_xlabel(\"PCA 1\")\n",
        "axs.set_ylabel(\"PCA 2\")\n",
        "\n",
        "# Get the cluster centers and transform them to the reduced space\n",
        "centres = pca.transform(kmeans.cluster_centers_)\n",
        "\n",
        "# Plot the cluster centers with black crosses\n",
        "plt.scatter(centres[:, 0], centres[:, 1], c='black', s=100, alpha=0.9, marker='X')\n",
        "\n",
        "plt.tight_layout()\n",
        "plt.show()\n"
      ],
      "metadata": {
        "colab": {
          "base_uri": "https://localhost:8080/",
          "height": 486
        },
        "id": "Mp8fbVtVpSP0",
        "outputId": "e0017caf-ca45-4085-8a14-565279219b19"
      },
      "execution_count": null,
      "outputs": [
        {
          "output_type": "display_data",
          "data": {
            "text/plain": [
              "<Figure size 800x600 with 1 Axes>"
            ],
            "image/png": "[encoded data removed]"
          },
          "metadata": {}
        }
      ]
    },
    {
      "cell_type": "markdown",
      "source": [
        "Pink cluster seems most well defined, with some overlap between cyan and red clusters on the left hand side."
      ],
      "metadata": {
        "id": "Rs4bipj2RJp2"
      }
    },
    {
      "cell_type": "code",
      "execution_count": null,
      "metadata": {
        "colab": {
          "base_uri": "https://localhost:8080/"
        },
        "id": "h6pySTVFoLdg",
        "outputId": "f7a2d869-8fce-45dd-cc40-5a7643a2834b"
      },
      "outputs": [
        {
          "output_type": "stream",
          "name": "stdout",
          "text": [
            "Adjusted Rand Index (ARI): 0.0571\n",
            "Silhouette Coefficient: 0.3920\n"
          ]
        }
      ],
      "source": [
        "# Evaluate clustering performance on training data\n",
        "ari_score = adjusted_rand_score(y_train, clusters_train)\n",
        "silhouette = silhouette_score(X_train_reduced, clusters_train)\n",
        "\n",
        "print(f\"Adjusted Rand Index (ARI): {ari_score:.4f}\")\n",
        "print(f\"Silhouette Coefficient: {silhouette:.4f}\")\n"
      ]
    },
    {
      "cell_type": "markdown",
      "metadata": {
        "id": "dcOsCgzHywq0"
      },
      "source": []
    },
    {
      "cell_type": "code",
      "execution_count": null,
      "metadata": {
        "id": "U-RCPM5IoLXh"
      },
      "outputs": [],
      "source": []
    },
    {
      "cell_type": "markdown",
      "metadata": {
        "id": "pP5MsQk2uDgp"
      },
      "source": [
        "#### Parameter Fine Tuning"
      ]
    },
    {
      "cell_type": "code",
      "source": [
        "param_grid = {\n",
        "    'n_init': [10, 20, 50],\n",
        "    'max_iter': [100, 300, 500],\n",
        "    'batch_size': [64, 128, 256]  # Mini-batch sizes for faster training\n",
        "}\n",
        "\n",
        "mini_kmeans = MiniBatchKMeans(n_clusters=4, init='k-means++', random_state=42)\n",
        "\n",
        "# Tune for best hyperparameter\n",
        "grid_search = GridSearchCV(mini_kmeans,\n",
        "                           param_grid,\n",
        "                           scoring='adjusted_rand_score',\n",
        "                           cv=3,\n",
        "                           n_jobs=-1)\n",
        "grid_search.fit(X_train_tfidf, y_train)\n",
        "print(\"Best parameters for max number of iterations:\", grid_search.best_params_)"
      ],
      "metadata": {
        "colab": {
          "base_uri": "https://localhost:8080/"
        },
        "id": "xaDHNLlv1wLN",
        "outputId": "8f510827-db8f-4ba8-9ca9-15d2ccf6470c"
      },
      "execution_count": null,
      "outputs": [
        {
          "output_type": "stream",
          "name": "stdout",
          "text": [
            "Best parameters for max number of iterations: {'batch_size': 256, 'max_iter': 100, 'n_init': 20}\n"
          ]
        }
      ]
    },
    {
      "cell_type": "code",
      "source": [],
      "metadata": {
        "id": "KXSwpEyX3R-j"
      },
      "execution_count": null,
      "outputs": []
    },
    {
      "cell_type": "markdown",
      "source": [
        "3.Finetune model layers with optimal hyperparameters"
      ],
      "metadata": {
        "id": "bQalWD7H3b1i"
      }
    },
    {
      "cell_type": "markdown",
      "source": [
        "Build best model"
      ],
      "metadata": {
        "id": "T95Wz4J-3oZd"
      }
    },
    {
      "cell_type": "code",
      "source": [
        "# Apply K-Means++\n",
        "n_clusters = 4  # AG News has 4 categories\n",
        "best_kmeans_model = MiniBatchKMeans(n_clusters=n_clusters,\n",
        "                                    init='k-means++',\n",
        "                                    random_state=42,\n",
        "                                    batch_size = 256,\n",
        "                                    max_iter=100,\n",
        "                                    n_init=20)\n",
        "\n",
        "best_kmeans_model.fit(X_train_reduced)"
      ],
      "metadata": {
        "id": "kkTu90GX3jHn",
        "colab": {
          "base_uri": "https://localhost:8080/",
          "height": 80
        },
        "outputId": "661524c7-0581-4b29-b130-c3694870737a"
      },
      "execution_count": null,
      "outputs": [
        {
          "output_type": "execute_result",
          "data": {
            "text/plain": [
              "MiniBatchKMeans(batch_size=256, n_clusters=4, n_init=20, random_state=42)"
            ],
            "text/html": [
              "<style>#sk-container-id-1 {\n",
              "  /* Definition of color scheme common for light and dark mode */\n",
              "  --sklearn-color-text: #000;\n",
              "  --sklearn-color-text-muted: #666;\n",
              "  --sklearn-color-line: gray;\n",
              "  /* Definition of color scheme for unfitted estimators */\n",
              "  --sklearn-color-unfitted-level-0: #fff5e6;\n",
              "  --sklearn-color-unfitted-level-1: #f6e4d2;\n",
              "  --sklearn-color-unfitted-level-2: #ffe0b3;\n",
              "  --sklearn-color-unfitted-level-3: chocolate;\n",
              "  /* Definition of color scheme for fitted estimators */\n",
              "  --sklearn-color-fitted-level-0: #f0f8ff;\n",
              "  --sklearn-color-fitted-level-1: #d4ebff;\n",
              "  --sklearn-color-fitted-level-2: #b3dbfd;\n",
              "  --sklearn-color-fitted-level-3: cornflowerblue;\n",
              "\n",
              "  /* Specific color for light theme */\n",
              "  --sklearn-color-text-on-default-background: var(--sg-text-color, var(--theme-code-foreground, var(--jp-content-font-color1, black)));\n",
              "  --sklearn-color-background: var(--sg-background-color, var(--theme-background, var(--jp-layout-color0, white)));\n",
              "  --sklearn-color-border-box: var(--sg-text-color, var(--theme-code-foreground, var(--jp-content-font-color1, black)));\n",
              "  --sklearn-color-icon: #696969;\n",
              "\n",
              "  @media (prefers-color-scheme: dark) {\n",
              "    /* Redefinition of color scheme for dark theme */\n",
              "    --sklearn-color-text-on-default-background: var(--sg-text-color, var(--theme-code-foreground, var(--jp-content-font-color1, white)));\n",
              "    --sklearn-color-background: var(--sg-background-color, var(--theme-background, var(--jp-layout-color0, #111)));\n",
              "    --sklearn-color-border-box: var(--sg-text-color, var(--theme-code-foreground, var(--jp-content-font-color1, white)));\n",
              "    --sklearn-color-icon: #878787;\n",
              "  }\n",
              "}\n",
              "\n",
              "#sk-container-id-1 {\n",
              "  color: var(--sklearn-color-text);\n",
              "}\n",
              "\n",
              "#sk-container-id-1 pre {\n",
              "  padding: 0;\n",
              "}\n",
              "\n",
              "#sk-container-id-1 input.sk-hidden--visually {\n",
              "  border: 0;\n",
              "  clip: rect(1px 1px 1px 1px);\n",
              "  clip: rect(1px, 1px, 1px, 1px);\n",
              "  height: 1px;\n",
              "  margin: -1px;\n",
              "  overflow: hidden;\n",
              "  padding: 0;\n",
              "  position: absolute;\n",
              "  width: 1px;\n",
              "}\n",
              "\n",
              "#sk-container-id-1 div.sk-dashed-wrapped {\n",
              "  border: 1px dashed var(--sklearn-color-line);\n",
              "  margin: 0 0.4em 0.5em 0.4em;\n",
              "  box-sizing: border-box;\n",
              "  padding-bottom: 0.4em;\n",
              "  background-color: var(--sklearn-color-background);\n",
              "}\n",
              "\n",
              "#sk-container-id-1 div.sk-container {\n",
              "  /* jupyter's `normalize.less` sets `[hidden] { display: none; }`\n",
              "     but bootstrap.min.css set `[hidden] { display: none !important; }`\n",
              "     so we also need the `!important` here to be able to override the\n",
              "     default hidden behavior on the sphinx rendered scikit-learn.org.\n",
              "     See: https://github.com/scikit-learn/scikit-learn/issues/21755 */\n",
              "  display: inline-block !important;\n",
              "  position: relative;\n",
              "}\n",
              "\n",
              "#sk-container-id-1 div.sk-text-repr-fallback {\n",
              "  display: none;\n",
              "}\n",
              "\n",
              "div.sk-parallel-item,\n",
              "div.sk-serial,\n",
              "div.sk-item {\n",
              "  /* draw centered vertical line to link estimators */\n",
              "  background-image: linear-gradient(var(--sklearn-color-text-on-default-background), var(--sklearn-color-text-on-default-background));\n",
              "  background-size: 2px 100%;\n",
              "  background-repeat: no-repeat;\n",
              "  background-position: center center;\n",
              "}\n",
              "\n",
              "/* Parallel-specific style estimator block */\n",
              "\n",
              "#sk-container-id-1 div.sk-parallel-item::after {\n",
              "  content: \"\";\n",
              "  width: 100%;\n",
              "  border-bottom: 2px solid var(--sklearn-color-text-on-default-background);\n",
              "  flex-grow: 1;\n",
              "}\n",
              "\n",
              "#sk-container-id-1 div.sk-parallel {\n",
              "  display: flex;\n",
              "  align-items: stretch;\n",
              "  justify-content: center;\n",
              "  background-color: var(--sklearn-color-background);\n",
              "  position: relative;\n",
              "}\n",
              "\n",
              "#sk-container-id-1 div.sk-parallel-item {\n",
              "  display: flex;\n",
              "  flex-direction: column;\n",
              "}\n",
              "\n",
              "#sk-container-id-1 div.sk-parallel-item:first-child::after {\n",
              "  align-self: flex-end;\n",
              "  width: 50%;\n",
              "}\n",
              "\n",
              "#sk-container-id-1 div.sk-parallel-item:last-child::after {\n",
              "  align-self: flex-start;\n",
              "  width: 50%;\n",
              "}\n",
              "\n",
              "#sk-container-id-1 div.sk-parallel-item:only-child::after {\n",
              "  width: 0;\n",
              "}\n",
              "\n",
              "/* Serial-specific style estimator block */\n",
              "\n",
              "#sk-container-id-1 div.sk-serial {\n",
              "  display: flex;\n",
              "  flex-direction: column;\n",
              "  align-items: center;\n",
              "  background-color: var(--sklearn-color-background);\n",
              "  padding-right: 1em;\n",
              "  padding-left: 1em;\n",
              "}\n",
              "\n",
              "\n",
              "/* Toggleable style: style used for estimator/Pipeline/ColumnTransformer box that is\n",
              "clickable and can be expanded/collapsed.\n",
              "- Pipeline and ColumnTransformer use this feature and define the default style\n",
              "- Estimators will overwrite some part of the style using the `sk-estimator` class\n",
              "*/\n",
              "\n",
              "/* Pipeline and ColumnTransformer style (default) */\n",
              "\n",
              "#sk-container-id-1 div.sk-toggleable {\n",
              "  /* Default theme specific background. It is overwritten whether we have a\n",
              "  specific estimator or a Pipeline/ColumnTransformer */\n",
              "  background-color: var(--sklearn-color-background);\n",
              "}\n",
              "\n",
              "/* Toggleable label */\n",
              "#sk-container-id-1 label.sk-toggleable__label {\n",
              "  cursor: pointer;\n",
              "  display: flex;\n",
              "  width: 100%;\n",
              "  margin-bottom: 0;\n",
              "  padding: 0.5em;\n",
              "  box-sizing: border-box;\n",
              "  text-align: center;\n",
              "  align-items: start;\n",
              "  justify-content: space-between;\n",
              "  gap: 0.5em;\n",
              "}\n",
              "\n",
              "#sk-container-id-1 label.sk-toggleable__label .caption {\n",
              "  font-size: 0.6rem;\n",
              "  font-weight: lighter;\n",
              "  color: var(--sklearn-color-text-muted);\n",
              "}\n",
              "\n",
              "#sk-container-id-1 label.sk-toggleable__label-arrow:before {\n",
              "  /* Arrow on the left of the label */\n",
              "  content: \"▸\";\n",
              "  float: left;\n",
              "  margin-right: 0.25em;\n",
              "  color: var(--sklearn-color-icon);\n",
              "}\n",
              "\n",
              "#sk-container-id-1 label.sk-toggleable__label-arrow:hover:before {\n",
              "  color: var(--sklearn-color-text);\n",
              "}\n",
              "\n",
              "/* Toggleable content - dropdown */\n",
              "\n",
              "#sk-container-id-1 div.sk-toggleable__content {\n",
              "  max-height: 0;\n",
              "  max-width: 0;\n",
              "  overflow: hidden;\n",
              "  text-align: left;\n",
              "  /* unfitted */\n",
              "  background-color: var(--sklearn-color-unfitted-level-0);\n",
              "}\n",
              "\n",
              "#sk-container-id-1 div.sk-toggleable__content.fitted {\n",
              "  /* fitted */\n",
              "  background-color: var(--sklearn-color-fitted-level-0);\n",
              "}\n",
              "\n",
              "#sk-container-id-1 div.sk-toggleable__content pre {\n",
              "  margin: 0.2em;\n",
              "  border-radius: 0.25em;\n",
              "  color: var(--sklearn-color-text);\n",
              "  /* unfitted */\n",
              "  background-color: var(--sklearn-color-unfitted-level-0);\n",
              "}\n",
              "\n",
              "#sk-container-id-1 div.sk-toggleable__content.fitted pre {\n",
              "  /* unfitted */\n",
              "  background-color: var(--sklearn-color-fitted-level-0);\n",
              "}\n",
              "\n",
              "#sk-container-id-1 input.sk-toggleable__control:checked~div.sk-toggleable__content {\n",
              "  /* Expand drop-down */\n",
              "  max-height: 200px;\n",
              "  max-width: 100%;\n",
              "  overflow: auto;\n",
              "}\n",
              "\n",
              "#sk-container-id-1 input.sk-toggleable__control:checked~label.sk-toggleable__label-arrow:before {\n",
              "  content: \"▾\";\n",
              "}\n",
              "\n",
              "/* Pipeline/ColumnTransformer-specific style */\n",
              "\n",
              "#sk-container-id-1 div.sk-label input.sk-toggleable__control:checked~label.sk-toggleable__label {\n",
              "  color: var(--sklearn-color-text);\n",
              "  background-color: var(--sklearn-color-unfitted-level-2);\n",
              "}\n",
              "\n",
              "#sk-container-id-1 div.sk-label.fitted input.sk-toggleable__control:checked~label.sk-toggleable__label {\n",
              "  background-color: var(--sklearn-color-fitted-level-2);\n",
              "}\n",
              "\n",
              "/* Estimator-specific style */\n",
              "\n",
              "/* Colorize estimator box */\n",
              "#sk-container-id-1 div.sk-estimator input.sk-toggleable__control:checked~label.sk-toggleable__label {\n",
              "  /* unfitted */\n",
              "  background-color: var(--sklearn-color-unfitted-level-2);\n",
              "}\n",
              "\n",
              "#sk-container-id-1 div.sk-estimator.fitted input.sk-toggleable__control:checked~label.sk-toggleable__label {\n",
              "  /* fitted */\n",
              "  background-color: var(--sklearn-color-fitted-level-2);\n",
              "}\n",
              "\n",
              "#sk-container-id-1 div.sk-label label.sk-toggleable__label,\n",
              "#sk-container-id-1 div.sk-label label {\n",
              "  /* The background is the default theme color */\n",
              "  color: var(--sklearn-color-text-on-default-background);\n",
              "}\n",
              "\n",
              "/* On hover, darken the color of the background */\n",
              "#sk-container-id-1 div.sk-label:hover label.sk-toggleable__label {\n",
              "  color: var(--sklearn-color-text);\n",
              "  background-color: var(--sklearn-color-unfitted-level-2);\n",
              "}\n",
              "\n",
              "/* Label box, darken color on hover, fitted */\n",
              "#sk-container-id-1 div.sk-label.fitted:hover label.sk-toggleable__label.fitted {\n",
              "  color: var(--sklearn-color-text);\n",
              "  background-color: var(--sklearn-color-fitted-level-2);\n",
              "}\n",
              "\n",
              "/* Estimator label */\n",
              "\n",
              "#sk-container-id-1 div.sk-label label {\n",
              "  font-family: monospace;\n",
              "  font-weight: bold;\n",
              "  display: inline-block;\n",
              "  line-height: 1.2em;\n",
              "}\n",
              "\n",
              "#sk-container-id-1 div.sk-label-container {\n",
              "  text-align: center;\n",
              "}\n",
              "\n",
              "/* Estimator-specific */\n",
              "#sk-container-id-1 div.sk-estimator {\n",
              "  font-family: monospace;\n",
              "  border: 1px dotted var(--sklearn-color-border-box);\n",
              "  border-radius: 0.25em;\n",
              "  box-sizing: border-box;\n",
              "  margin-bottom: 0.5em;\n",
              "  /* unfitted */\n",
              "  background-color: var(--sklearn-color-unfitted-level-0);\n",
              "}\n",
              "\n",
              "#sk-container-id-1 div.sk-estimator.fitted {\n",
              "  /* fitted */\n",
              "  background-color: var(--sklearn-color-fitted-level-0);\n",
              "}\n",
              "\n",
              "/* on hover */\n",
              "#sk-container-id-1 div.sk-estimator:hover {\n",
              "  /* unfitted */\n",
              "  background-color: var(--sklearn-color-unfitted-level-2);\n",
              "}\n",
              "\n",
              "#sk-container-id-1 div.sk-estimator.fitted:hover {\n",
              "  /* fitted */\n",
              "  background-color: var(--sklearn-color-fitted-level-2);\n",
              "}\n",
              "\n",
              "/* Specification for estimator info (e.g. \"i\" and \"?\") */\n",
              "\n",
              "/* Common style for \"i\" and \"?\" */\n",
              "\n",
              ".sk-estimator-doc-link,\n",
              "a:link.sk-estimator-doc-link,\n",
              "a:visited.sk-estimator-doc-link {\n",
              "  float: right;\n",
              "  font-size: smaller;\n",
              "  line-height: 1em;\n",
              "  font-family: monospace;\n",
              "  background-color: var(--sklearn-color-background);\n",
              "  border-radius: 1em;\n",
              "  height: 1em;\n",
              "  width: 1em;\n",
              "  text-decoration: none !important;\n",
              "  margin-left: 0.5em;\n",
              "  text-align: center;\n",
              "  /* unfitted */\n",
              "  border: var(--sklearn-color-unfitted-level-1) 1pt solid;\n",
              "  color: var(--sklearn-color-unfitted-level-1);\n",
              "}\n",
              "\n",
              ".sk-estimator-doc-link.fitted,\n",
              "a:link.sk-estimator-doc-link.fitted,\n",
              "a:visited.sk-estimator-doc-link.fitted {\n",
              "  /* fitted */\n",
              "  border: var(--sklearn-color-fitted-level-1) 1pt solid;\n",
              "  color: var(--sklearn-color-fitted-level-1);\n",
              "}\n",
              "\n",
              "/* On hover */\n",
              "div.sk-estimator:hover .sk-estimator-doc-link:hover,\n",
              ".sk-estimator-doc-link:hover,\n",
              "div.sk-label-container:hover .sk-estimator-doc-link:hover,\n",
              ".sk-estimator-doc-link:hover {\n",
              "  /* unfitted */\n",
              "  background-color: var(--sklearn-color-unfitted-level-3);\n",
              "  color: var(--sklearn-color-background);\n",
              "  text-decoration: none;\n",
              "}\n",
              "\n",
              "div.sk-estimator.fitted:hover .sk-estimator-doc-link.fitted:hover,\n",
              ".sk-estimator-doc-link.fitted:hover,\n",
              "div.sk-label-container:hover .sk-estimator-doc-link.fitted:hover,\n",
              ".sk-estimator-doc-link.fitted:hover {\n",
              "  /* fitted */\n",
              "  background-color: var(--sklearn-color-fitted-level-3);\n",
              "  color: var(--sklearn-color-background);\n",
              "  text-decoration: none;\n",
              "}\n",
              "\n",
              "/* Span, style for the box shown on hovering the info icon */\n",
              ".sk-estimator-doc-link span {\n",
              "  display: none;\n",
              "  z-index: 9999;\n",
              "  position: relative;\n",
              "  font-weight: normal;\n",
              "  right: .2ex;\n",
              "  padding: .5ex;\n",
              "  margin: .5ex;\n",
              "  width: min-content;\n",
              "  min-width: 20ex;\n",
              "  max-width: 50ex;\n",
              "  color: var(--sklearn-color-text);\n",
              "  box-shadow: 2pt 2pt 4pt #999;\n",
              "  /* unfitted */\n",
              "  background: var(--sklearn-color-unfitted-level-0);\n",
              "  border: .5pt solid var(--sklearn-color-unfitted-level-3);\n",
              "}\n",
              "\n",
              ".sk-estimator-doc-link.fitted span {\n",
              "  /* fitted */\n",
              "  background: var(--sklearn-color-fitted-level-0);\n",
              "  border: var(--sklearn-color-fitted-level-3);\n",
              "}\n",
              "\n",
              ".sk-estimator-doc-link:hover span {\n",
              "  display: block;\n",
              "}\n",
              "\n",
              "/* \"?\"-specific style due to the `<a>` HTML tag */\n",
              "\n",
              "#sk-container-id-1 a.estimator_doc_link {\n",
              "  float: right;\n",
              "  font-size: 1rem;\n",
              "  line-height: 1em;\n",
              "  font-family: monospace;\n",
              "  background-color: var(--sklearn-color-background);\n",
              "  border-radius: 1rem;\n",
              "  height: 1rem;\n",
              "  width: 1rem;\n",
              "  text-decoration: none;\n",
              "  /* unfitted */\n",
              "  color: var(--sklearn-color-unfitted-level-1);\n",
              "  border: var(--sklearn-color-unfitted-level-1) 1pt solid;\n",
              "}\n",
              "\n",
              "#sk-container-id-1 a.estimator_doc_link.fitted {\n",
              "  /* fitted */\n",
              "  border: var(--sklearn-color-fitted-level-1) 1pt solid;\n",
              "  color: var(--sklearn-color-fitted-level-1);\n",
              "}\n",
              "\n",
              "/* On hover */\n",
              "#sk-container-id-1 a.estimator_doc_link:hover {\n",
              "  /* unfitted */\n",
              "  background-color: var(--sklearn-color-unfitted-level-3);\n",
              "  color: var(--sklearn-color-background);\n",
              "  text-decoration: none;\n",
              "}\n",
              "\n",
              "#sk-container-id-1 a.estimator_doc_link.fitted:hover {\n",
              "  /* fitted */\n",
              "  background-color: var(--sklearn-color-fitted-level-3);\n",
              "}\n",
              "</style><div id=\"sk-container-id-1\" class=\"sk-top-container\"><div class=\"sk-text-repr-fallback\"><pre>MiniBatchKMeans(batch_size=256, n_clusters=4, n_init=20, random_state=42)</pre><b>In a Jupyter environment, please rerun this cell to show the HTML representation or trust the notebook. <br />On GitHub, the HTML representation is unable to render, please try loading this page with nbviewer.org.</b></div><div class=\"sk-container\" hidden><div class=\"sk-item\"><div class=\"sk-estimator fitted sk-toggleable\"><input class=\"sk-toggleable__control sk-hidden--visually\" id=\"sk-estimator-id-1\" type=\"checkbox\" checked><label for=\"sk-estimator-id-1\" class=\"sk-toggleable__label fitted sk-toggleable__label-arrow\"><div><div>MiniBatchKMeans</div></div><div><a class=\"sk-estimator-doc-link fitted\" rel=\"noreferrer\" target=\"_blank\" href=\"https://scikit-learn.org/1.6/modules/generated/sklearn.cluster.MiniBatchKMeans.html\">?<span>Documentation for MiniBatchKMeans</span></a><span class=\"sk-estimator-doc-link fitted\">i<span>Fitted</span></span></div></label><div class=\"sk-toggleable__content fitted\"><pre>MiniBatchKMeans(batch_size=256, n_clusters=4, n_init=20, random_state=42)</pre></div> </div></div></div></div>"
            ]
          },
          "metadata": {},
          "execution_count": 15
        }
      ]
    },
    {
      "cell_type": "markdown",
      "source": [
        "Predict on test data"
      ],
      "metadata": {
        "id": "cOnTkMIw4csB"
      }
    },
    {
      "cell_type": "code",
      "source": [
        "# Test Error\n",
        "# Predict clusters for training data\n",
        "clusters_train = best_kmeans_model.labels_\n",
        "clusters_test = best_kmeans_model.predict(X_test_reduced)\n",
        "\n",
        "# Calculate metrics\n",
        "ari_score_test = adjusted_rand_score(y_test, clusters_test)\n",
        "silhouette_test = silhouette_score(X_test_reduced, clusters_test)\n",
        "\n",
        "print(\"\\nTest Set Evaluation:\")\n",
        "print(f\"Adjusted Rand Index (ARI): {ari_score_test:.4f}\")\n",
        "print(f\"Silhouette Coefficient: {silhouette_test:.4f}\")"
      ],
      "metadata": {
        "colab": {
          "base_uri": "https://localhost:8080/"
        },
        "id": "BIqj5Q1k3ghg",
        "outputId": "51e3747c-1155-4257-ee3d-c2909c0130f3"
      },
      "execution_count": null,
      "outputs": [
        {
          "output_type": "stream",
          "name": "stdout",
          "text": [
            "\n",
            "Test Set Evaluation:\n",
            "Adjusted Rand Index (ARI): 0.0552\n",
            "Silhouette Coefficient: 0.3916\n"
          ]
        }
      ]
    },
    {
      "cell_type": "code",
      "source": [
        "# Predict clusters for training and testing data\n",
        "kmeans_clusters_train = best_kmeans_model.labels_\n",
        "kmeans_clusters_test = best_kmeans_model.predict(X_test_reduced)\n",
        "\n",
        "# Map the predicted cluster labels to actual labels using the mode of each cluster's true labels\n",
        "# Create a mapping of cluster labels to true labels\n",
        "cluster_to_label = {}\n",
        "for cluster in np.unique(kmeans_clusters_train):\n",
        "    # Find the most common true label for each cluster\n",
        "    cluster_labels = y_train[clusters_train == cluster]\n",
        "    most_common_label = np.bincount(cluster_labels).argmax()  # Most frequent label\n",
        "    cluster_to_label[cluster] = most_common_label\n",
        "\n",
        "# Map the test cluster labels to the predicted class labels based on the training set clusters\n",
        "knn_mapped_clusters_test = np.array([cluster_to_label[cluster] for cluster in kmeans_clusters_test])\n",
        "\n",
        "# Get the classification report with zero_division set to 1 (to avoid ill-defined precision, recall, F1)\n",
        "print(classification_report(y_test, knn_mapped_clusters_test, zero_division=1,\n",
        "      target_names=['World',\n",
        "      'Sports',\n",
        "      'Business',\n",
        "      'Science-Tech']))\n"
      ],
      "metadata": {
        "colab": {
          "base_uri": "https://localhost:8080/"
        },
        "id": "puFpgG0s_w3N",
        "outputId": "44948b5f-d589-4d9b-ca03-058ba23c76fb"
      },
      "execution_count": null,
      "outputs": [
        {
          "output_type": "stream",
          "name": "stdout",
          "text": [
            "              precision    recall  f1-score   support\n",
            "\n",
            "       World       0.35      0.49      0.41      1900\n",
            "      Sports       1.00      0.00      0.00      1900\n",
            "    Business       0.75      0.43      0.54      1900\n",
            "Science-Tech       0.33      0.66      0.44      1900\n",
            "\n",
            "    accuracy                           0.40      7600\n",
            "   macro avg       0.61      0.40      0.35      7600\n",
            "weighted avg       0.61      0.40      0.35      7600\n",
            "\n"
          ]
        }
      ]
    },
    {
      "cell_type": "markdown",
      "source": [
        "Confusion Matrix"
      ],
      "metadata": {
        "id": "bpmNHFKNH2Vt"
      }
    },
    {
      "cell_type": "code",
      "source": [
        "# Calculate confusion matrix\n",
        "cm = confusion_matrix(y_test, knn_mapped_clusters_test)\n",
        "\n",
        "# Plot confusion matrix\n",
        "plt.figure(figsize=(8, 6))\n",
        "\n",
        "sns.heatmap(cm, annot=True, fmt=\"d\", cmap=\"Blues\", xticklabels=['World', 'Sports', 'Business', 'Science-Technology'],\n",
        "            yticklabels=['World', 'Sports', 'Business', 'Science-Technology'])\n",
        "plt.title('Confusion Matrix')\n",
        "plt.xlabel('Predicted')\n",
        "plt.ylabel('True')\n",
        "plt.show()"
      ],
      "metadata": {
        "colab": {
          "base_uri": "https://localhost:8080/",
          "height": 539
        },
        "id": "9qm--u2OH7A3",
        "outputId": "f215b94f-fd17-41e8-da68-87c5a8a07b93"
      },
      "execution_count": null,
      "outputs": [
        {
          "output_type": "display_data",
          "data": {
            "text/plain": [
              "<Figure size 800x600 with 2 Axes>"
            ],
            "image/png": "[encoded data removed]"
          },
          "metadata": {}
        }
      ]
    },
    {
      "cell_type": "markdown",
      "metadata": {
        "id": "Lf07eR1nZvos"
      },
      "source": [
        "### 4.5 Gaussian Mixture Model"
      ]
    },
    {
      "cell_type": "markdown",
      "source": [
        "###### Implementation"
      ],
      "metadata": {
        "id": "i2VfqxIbwPoP"
      }
    },
    {
      "cell_type": "code",
      "source": [
        "# Apply Gaussian Mixture Model\n",
        "gmm = GaussianMixture(n_components=n_clusters, covariance_type='full', random_state=42)\n",
        "gmm.fit(X_train_reduced)\n",
        "\n",
        "# Predict clusters for training and testing data\n",
        "clusters_train = gmm.predict(X_train_reduced)\n",
        "clusters_test = gmm.predict(X_test_reduced)\n",
        "\n",
        "# Display some example clusters\n",
        "for i in range(n_clusters):\n",
        "    print(f\"Cluster {i} examples:\")\n",
        "    # Get the indices as a 1D array\n",
        "    indices = np.where(clusters_train == i)[0]\n",
        "    # Use the indices to select rows from X_train\n",
        "    print(X_train.iloc[indices][:5])  # Show 5 examples per cluster\n",
        "    print(\"-\")"
      ],
      "metadata": {
        "id": "cg84stWGOMBA",
        "colab": {
          "base_uri": "https://localhost:8080/"
        },
        "outputId": "bfc3ff1d-9c9f-4376-8712-0ad55b440d58"
      },
      "execution_count": null,
      "outputs": [
        {
          "output_type": "stream",
          "name": "stdout",
          "text": [
            "Cluster 0 examples:\n",
            "6     money fund fell latest week asset nation retai...\n",
            "7     fed minute show dissent inflation usatodaycom ...\n",
            "9     wall st bear claw back black new york shortsel...\n",
            "13    google ipo auction rocky start washingtonnew y...\n",
            "14    dollar fall broadly record trade gap new york ...\n",
            "dtype: object\n",
            "-\n",
            "Cluster 1 examples:\n",
            "8     safety net forbescom forbescom earning phd soc...\n",
            "15    rescuing old saver think may need help elderly...\n",
            "16    kid rule backtoschool purchasing power kid big...\n",
            "29    chad seek refugee aid imf chad asks imf loan p...\n",
            "34    indian fill rail skill shortage network rail f...\n",
            "dtype: object\n",
            "-\n",
            "Cluster 2 examples:\n",
            "2     oil economy cloud stock outlook soaring crude ...\n",
            "3     iraq halt oil export main southern pipeline au...\n",
            "4     oil price soar alltime record posing new menac...\n",
            "5     stock end near year low stock ended slightly h...\n",
            "10    oil economy cloud stock outlook new york soari...\n",
            "dtype: object\n",
            "-\n",
            "Cluster 3 examples:\n",
            "0     wall st bear claw back black shortsellers wall...\n",
            "1     carlyle look toward commercial aerospace priva...\n",
            "20    google ipo face playboy slipup bidding get und...\n",
            "21    eurozone economy keep growing official figure ...\n",
            "22    expansion slows japan economic growth japan sl...\n",
            "dtype: object\n",
            "-\n"
          ]
        }
      ]
    },
    {
      "cell_type": "markdown",
      "source": [
        "##### Parameter Fine Tuning"
      ],
      "metadata": {
        "id": "ENlPD0QLBC1X"
      }
    },
    {
      "cell_type": "code",
      "source": [
        "# Define the parameter grid\n",
        "param_grid_covariance_type = {\n",
        "    'covariance_type': ['full', 'tied', 'diag', 'spherical'],  # Covariance type\n",
        "}\n",
        "\n",
        "# Create GridSearchCV object\n",
        "grid_search = GridSearchCV(GaussianMixture(n_components=4),\n",
        "                           param_grid_covariance_type, scoring='adjusted_rand_score', cv=3, verbose=1, n_jobs=-1)\n",
        "\n",
        "# Fit the grid search to the data\n",
        "grid_search.fit(X_train_reduced, y_train)\n",
        "\n",
        "# Print the best parameters and score\n",
        "print(\"Best parameters for covariance type:\", grid_search.best_params_)\n",
        "print(\"Best score for covariance type:\", grid_search.best_score_)\n"
      ],
      "metadata": {
        "id": "rN0EkLC2V7Om",
        "colab": {
          "base_uri": "https://localhost:8080/"
        },
        "outputId": "2dad131b-35aa-4513-e6ea-e3f1a465258b"
      },
      "execution_count": null,
      "outputs": [
        {
          "output_type": "stream",
          "name": "stdout",
          "text": [
            "Fitting 3 folds for each of 4 candidates, totalling 12 fits\n",
            "Best parameters for covariance type: {'covariance_type': 'full'}\n",
            "Best score for covariance type: 0.07195072385404115\n"
          ]
        }
      ]
    },
    {
      "cell_type": "markdown",
      "source": [
        "The best model was the initial base model so we will choose this."
      ],
      "metadata": {
        "id": "q3w72OrY0Q_W"
      }
    },
    {
      "cell_type": "code",
      "source": [
        "# Test Error\n",
        "ari_score_test = adjusted_rand_score(y_test, clusters_test)\n",
        "silhouette_test = silhouette_score(X_test_reduced, clusters_test)\n",
        "\n",
        "print(\"\\nTest Set Evaluation:\")\n",
        "print(f\"Adjusted Rand Index (ARI): {ari_score_test:.4f}\")\n",
        "print(f\"Silhouette Coefficient: {silhouette_test:.4f}\")"
      ],
      "metadata": {
        "colab": {
          "base_uri": "https://localhost:8080/"
        },
        "id": "5Q-3dhYo7Kz9",
        "outputId": "b46fde41-0ea4-4bc8-d5c1-59e079fdf026"
      },
      "execution_count": null,
      "outputs": [
        {
          "output_type": "stream",
          "name": "stdout",
          "text": [
            "\n",
            "Test Set Evaluation:\n",
            "Adjusted Rand Index (ARI): 0.0621\n",
            "Silhouette Coefficient: 0.2776\n"
          ]
        }
      ]
    },
    {
      "cell_type": "code",
      "source": [
        "# Predict clusters for training and testing data\n",
        "gmm_clusters_train = gmm.fit_predict(X_train_reduced)  # Use fit_predict for training data\n",
        "gmm_clusters_test = gmm.predict(X_test_reduced)\n",
        "\n",
        "# Map the predicted cluster labels to actual labels using the mode of each cluster's true labels\n",
        "cluster_to_label = {}\n",
        "for cluster in np.unique(gmm_clusters_train):\n",
        "    # Find the most common true label for each cluster\n",
        "    cluster_labels = y_train[gmm_clusters_train == cluster] # Use gmm_clusters_train instead of clusters_train\n",
        "    most_common_label = np.bincount(cluster_labels).argmax()  # Most frequent label\n",
        "    cluster_to_label[cluster] = most_common_label\n",
        "\n",
        "# Map the test cluster labels to the predicted class labels based on the training set clusters\n",
        "gmm_mapped_clusters_test = np.array([cluster_to_label[cluster] for cluster in gmm_clusters_test])\n",
        "\n",
        "# Get the classification report with zero_division set to 1 (to avoid ill-defined precision, recall, F1)\n",
        "print(classification_report(y_test, gmm_mapped_clusters_test, zero_division=1,\n",
        "      target_names=['World',\n",
        "      'Sports',\n",
        "      'Business',\n",
        "      'Science-Tech']))\n"
      ],
      "metadata": {
        "colab": {
          "base_uri": "https://localhost:8080/"
        },
        "id": "i4574uzyBbuo",
        "outputId": "c90d3028-05c4-4459-b261-ddaa1f499f8a"
      },
      "execution_count": null,
      "outputs": [
        {
          "output_type": "stream",
          "name": "stdout",
          "text": [
            "              precision    recall  f1-score   support\n",
            "\n",
            "       World       1.00      0.00      0.00      1900\n",
            "      Sports       0.34      0.62      0.44      1900\n",
            "    Business       0.68      0.45      0.54      1900\n",
            "Science-Tech       0.30      0.45      0.36      1900\n",
            "\n",
            "    accuracy                           0.38      7600\n",
            "   macro avg       0.58      0.38      0.34      7600\n",
            "weighted avg       0.58      0.38      0.34      7600\n",
            "\n"
          ]
        }
      ]
    },
    {
      "cell_type": "markdown",
      "source": [
        "Confusion Matrix"
      ],
      "metadata": {
        "id": "LWYSXA0jI2ya"
      }
    },
    {
      "cell_type": "code",
      "source": [
        "# Calculate confusion matrix\n",
        "cm = confusion_matrix(y_test, gmm_mapped_clusters_test)\n",
        "\n",
        "# Plot confusion matrix\n",
        "plt.figure(figsize=(8, 6))\n",
        "\n",
        "sns.heatmap(cm, annot=True, fmt=\"d\", cmap=\"Blues\", xticklabels=['World', 'Sports', 'Business', 'Science-Technology'],\n",
        "            yticklabels=['World', 'Sports', 'Business', 'Science-Technology'])\n",
        "plt.title('Confusion Matrix')\n",
        "plt.xlabel('Predicted')\n",
        "plt.ylabel('True')\n",
        "plt.show()"
      ],
      "metadata": {
        "colab": {
          "base_uri": "https://localhost:8080/",
          "height": 539
        },
        "id": "ZXgshxUrI2ab",
        "outputId": "42e41ef4-64c8-4d41-aadb-4a6f85e998cc"
      },
      "execution_count": null,
      "outputs": [
        {
          "output_type": "display_data",
          "data": {
            "text/plain": [
              "<Figure size 800x600 with 2 Axes>"
            ],
            "image/png": "[encoded data removed]"
          },
          "metadata": {}
        }
      ]
    },
    {
      "cell_type": "markdown",
      "metadata": {
        "id": "jtsrbXqo_4bZ"
      },
      "source": [
        "### 4.7. Coding Environment"
      ]
    },
    {
      "cell_type": "markdown",
      "metadata": {
        "id": "eqlbus9v_4bZ"
      },
      "source": [
        "You are required to provide the specifications of software and hardware (e.g., the version of main packages, the information of CPU/GPU/TPU usage, etc.)  "
      ]
    },
    {
      "cell_type": "code",
      "source": [
        "# Get versions of installed packages\n",
        "import numpy as np\n",
        "import pandas as pd\n",
        "import matplotlib\n",
        "import scipy\n",
        "import sklearn\n",
        "import cv2\n",
        "import seaborn as sns\n",
        "import nltk\n",
        "import tensorflow as tf\n",
        "import sklearn\n",
        "\n",
        "print(\"NumPy version:\", np.__version__)\n",
        "print(\"Pandas version:\", pd.__version__)\n",
        "print(\"Matplotlib version:\", matplotlib.__version__)\n",
        "print(\"SciPy version:\", scipy.__version__)\n",
        "print(\"Scikit-Learn version:\", sklearn.__version__)\n",
        "print(\"Seaborn version:\", sns.__version__)\n",
        "print(\"NTLK version:\", nltk.__version__)\n",
        "print(\"tensorflow version:\", tf.__version__)"
      ],
      "metadata": {
        "colab": {
          "base_uri": "https://localhost:8080/"
        },
        "id": "4qKcDfkGQSXH",
        "outputId": "261576e0-5817-40e6-9756-049e2793f384"
      },
      "execution_count": 1,
      "outputs": [
        {
          "output_type": "stream",
          "name": "stdout",
          "text": [
            "NumPy version: 2.0.2\n",
            "Pandas version: 2.2.2\n",
            "Matplotlib version: 3.10.0\n",
            "SciPy version: 1.14.1\n",
            "Scikit-Learn version: 1.6.1\n",
            "Seaborn version: 0.13.2\n",
            "NTLK version: 3.9.1\n",
            "tensorflow version: 2.18.0\n"
          ]
        }
      ]
    },
    {
      "cell_type": "markdown",
      "source": [
        "All code was run using Google Colab using an Apple M1 Macbook Air Laptop with 8GB.\n",
        "Neural Network models were run using T4 GPU with remaining code run on CPU.\n"
      ],
      "metadata": {
        "id": "sPsQrb6TQ6Kd"
      }
    },
    {
      "cell_type": "markdown",
      "metadata": {
        "id": "ayL8r0HJ_4bZ"
      },
      "source": [
        "## 5. Report Guidelines"
      ]
    },
    {
      "cell_type": "markdown",
      "metadata": {
        "id": "pExwfF3Y_4bZ"
      },
      "source": [
        "### Your report should follow this structure:"
      ]
    },
    {
      "cell_type": "markdown",
      "metadata": {
        "id": "ERReN_Xr_4bZ"
      },
      "source": [
        "1. **Introduction**: Introduce the problem that you are attempting to solve, alongside the primary objectives of your project.\n",
        "\n",
        "2. **Methodology**: This section should delve into the various techniques and algorithms that you implemented throughout your project. Discuss aspects like data preprocessing, the reasoning behind your choice of models, and the approach taken to fine-tune hyperparameters.\n",
        "\n",
        "3. **Evaluation and Comparison**: Here, you should present and interpret the results from your models. Compare the performance of different algorithms and explain any observed trends or surprising outcomes. Enhance this section by using tables, charts, or other visual aids to effectively illustrate your findings.\n",
        "\n",
        "4. **Discussion**: This is where you should reflect on and discuss your findings. Consider the following questions: What strategies worked well? Which ones didn't? Were the outcomes as expected or were there any surprises?\n",
        "\n",
        "5. **Conclusion**: Summarize your work, main findings, limitations, and potential avenues for future work.\n",
        "\n",
        "6. **Appendix**: In the appendix section, provide clear instructions detailing how to run your code. Also, mention the hardware and software environment you used during your project.\n",
        "\n",
        "The main report should not exceed 10 pages, excluding the appendix and references. Include your student ID and name in your report as well.\n",
        "\n",
        "Refer to the rubric on Canvas for comprehensive guidance on each section. This report should serve as a clear, concise, and well-organized representation of your project."
      ]
    }
  ],
  "metadata": {
    "anaconda-cloud": {},
    "colab": {
      "provenance": [],
      "toc_visible": true
    },
    "kernelspec": {
      "display_name": "Python 3",
      "name": "python3"
    },
    "language_info": {
      "codemirror_mode": {
        "name": "ipython",
        "version": 3
      },
      "file_extension": ".py",
      "mimetype": "text/x-python",
      "name": "python",
      "nbconvert_exporter": "python",
      "pygments_lexer": "ipython3",
      "version": "3.11.0"
    },
    "vscode": {
      "interpreter": {
        "hash": "aee8b7b246df8f9039afb4144a1f6fd8d2ca17a180786b69acc140d282b71a49"
      }
    }
  },
  "nbformat": 4,
  "nbformat_minor": 0
}