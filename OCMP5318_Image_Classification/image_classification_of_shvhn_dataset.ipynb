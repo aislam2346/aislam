{
  "cells": [
    {
      "cell_type": "markdown",
      "metadata": {
        "id": "yPR5x0FMwRzx"
      },
      "source": [
        "# OCMP5318 - Machine Learning and Data Mining: Assignment 1\n",
        "**Deadline**: The last day of Week 4, at 11:59PM"
      ]
    },
    {
      "cell_type": "markdown",
      "metadata": {
        "id": "TEq-wUs-wRzz"
      },
      "source": [
        "Full Name: Ayra Islam\n",
        "\n",
        "Student ID:"
      ]
    },
    {
      "cell_type": "markdown",
      "metadata": {
        "id": "jx2jNfqwwRzz"
      },
      "source": [
        "## 1. Objective"
      ]
    },
    {
      "cell_type": "markdown",
      "metadata": {
        "id": "LIFavBz0wRzz"
      },
      "source": [
        "In this assignment, your task is to apply and evaluate machine learning techniques for a practical application: **Street View House Numbers recognition**.\n",
        "You are required to develop **four machine learning algorithms** for the classification task tailored with the **SVHN** dataset. Assessment will be based on your models' performance as well as your exhibited understanding of the techniques applied."
      ]
    },
    {
      "cell_type": "markdown",
      "metadata": {
        "id": "3R2AjDemwRz0"
      },
      "source": [
        "### *Important Notes*:\n",
        "1)\tPlease refer to lecture notes and lab materials for different machine learning methods and evaluation methods.\n",
        "\n",
        "2)\tPlease proceed your own way if we do not specify it in the assignment details.\n",
        "\n",
        "3)\tYou can use packages or code from the tutorials. If you use any other package or code, please put the reference at the bottom of the code. Otherwise, it will be considered as plagiarism and the relevant section will not be marked.\n"
      ]
    },
    {
      "cell_type": "markdown",
      "metadata": {
        "id": "dW-yhTSXwRz0"
      },
      "source": [
        "## 2. Dataset"
      ]
    },
    {
      "cell_type": "markdown",
      "metadata": {
        "id": "ZWL5kD1gwRz0"
      },
      "source": [
        "### 2.1 Description"
      ]
    },
    {
      "cell_type": "markdown",
      "metadata": {
        "id": "ANDekCNfwRz0"
      },
      "source": [
        "Dataset **Street View House Numbers (SVHN)**:\n",
        "- A real-world image dataset for developing machine learning and object recognition algorithms with minimal requirement on data preprocessing and formatting. It can be seen as similar in flavor to MNIST (e.g., the images are of small cropped digits), but incorporates an order of magnitude more labeled data (over 600,000 digit images) and comes from a significantly harder, unsolved, real world problem (recognizing digits and numbers in natural scene images). SVHN is obtained from house numbers in Google Street View images. The dataset comes in format of MNIST-like 32-by-32 images centered around a single character (many of the images do contain some distractors at the sides).\n",
        "\n",
        "- 10 classes, 1 for each digit. Digit '1' has label 1, '9' has label 9 and '0' has label 10. 73257 digits for training, 26032 digits for testing."
      ]
    },
    {
      "cell_type": "markdown",
      "metadata": {
        "id": "O78bVZp1wRz0"
      },
      "source": [
        "The complete dataset can be found at the UCI Machine Learning Repository: [The Street View House Numbers (SVHN) Dataset](http://ufldl.stanford.edu/housenumbers/)"
      ]
    },
    {
      "cell_type": "markdown",
      "metadata": {
        "id": "X7HVKA7iwRz0"
      },
      "source": [
        "### 2.2 Dataset Structure"
      ]
    },
    {
      "cell_type": "markdown",
      "metadata": {
        "id": "AVlGjjoRwRz1"
      },
      "source": [
        "For this assignment, the dataset is neatly organized within the `data` folder, as outlined below:\n",
        "\n",
        "The `data_asg1` folder including 2 separate files:\n",
        "\n",
        "- `train_32x32.mat` and `test_32x32.mat`: These files, found within their corresponding directories, comprise the feature vectors, labels for both the training and test sets."
      ]
    },
    {
      "cell_type": "markdown",
      "metadata": {
        "id": "91DHoxMkwRz1"
      },
      "source": [
        "### 2.3 Load and analyze the data"
      ]
    },
    {
      "cell_type": "code",
      "execution_count": null,
      "metadata": {
        "colab": {
          "base_uri": "https://localhost:8080/"
        },
        "id": "v-91jPClwXja",
        "outputId": "08fdd007-309a-4f64-bae3-f35641a418b7"
      },
      "outputs": [
        {
          "output_type": "stream",
          "name": "stdout",
          "text": [
            "Mounted at /content/drive\n"
          ]
        }
      ],
      "source": [
        "# Set directory\n",
        "from google.colab import drive\n",
        "drive.mount('/content/drive')"
      ]
    },
    {
      "cell_type": "code",
      "source": [
        "data_path = \"/content/drive/My Drive/data_asg1\""
      ],
      "metadata": {
        "id": "utCAZ2FEui_N"
      },
      "execution_count": null,
      "outputs": []
    },
    {
      "cell_type": "code",
      "execution_count": null,
      "metadata": {
        "id": "XAPTMtUMwRz1",
        "scrolled": true
      },
      "outputs": [],
      "source": [
        "# Import library\n",
        "import os\n",
        "import numpy as np\n",
        "import scipy.io"
      ]
    },
    {
      "cell_type": "code",
      "execution_count": null,
      "metadata": {
        "id": "lz_KBfJ7wRz2"
      },
      "outputs": [],
      "source": [
        "train_mat = scipy.io.loadmat('/content/drive/MyDrive/data_asg1/train_32x32.mat')\n",
        "test_mat = scipy.io.loadmat('/content/drive/MyDrive/data_asg1/test_32x32.mat')"
      ]
    },
    {
      "cell_type": "code",
      "execution_count": null,
      "metadata": {
        "id": "nLzxxyeUwRz3"
      },
      "outputs": [],
      "source": [
        "train_features, train_labels = train_mat['X'],train_mat['y']\n",
        "test_features, test_labels = test_mat['X'],test_mat['y']"
      ]
    },
    {
      "cell_type": "code",
      "execution_count": null,
      "metadata": {
        "colab": {
          "base_uri": "https://localhost:8080/"
        },
        "id": "8Fx4eSfNwRz3",
        "outputId": "f7e3eea2-dff5-48c9-986c-7b75efe353a9",
        "scrolled": true
      },
      "outputs": [
        {
          "output_type": "stream",
          "name": "stdout",
          "text": [
            "(32, 32, 3, 73257) (73257, 1)\n"
          ]
        }
      ],
      "source": [
        "print(train_features.shape, train_labels.shape)"
      ]
    },
    {
      "cell_type": "code",
      "execution_count": null,
      "metadata": {
        "colab": {
          "base_uri": "https://localhost:8080/"
        },
        "id": "7OAodLfTwRz3",
        "outputId": "75684132-7c92-4a55-b264-f400aef51625"
      },
      "outputs": [
        {
          "output_type": "stream",
          "name": "stdout",
          "text": [
            "(32, 32, 3, 26032) (26032, 1)\n"
          ]
        }
      ],
      "source": [
        "print(test_features.shape, test_labels.shape)"
      ]
    },
    {
      "cell_type": "markdown",
      "metadata": {
        "id": "je79jdGxwRz3"
      },
      "source": [
        "There are 73257 digits for training, which are images with the shape of **(32, 32, 3)**.\n",
        "You may need to reshape the training feature to (73257, 32, 32, 3) where 73257 is training samples. 32,32 is the size of the image and we have 3 channels of RGB."
      ]
    },
    {
      "cell_type": "code",
      "execution_count": null,
      "metadata": {
        "id": "WakPplAtwRz3"
      },
      "outputs": [],
      "source": [
        "train_features = train_features.transpose((3, 0, 1, 2))\n",
        "test_features = test_features.transpose((3, 0, 1, 2))"
      ]
    },
    {
      "cell_type": "markdown",
      "metadata": {
        "id": "t9oViH1TwRz3"
      },
      "source": [
        "Below is an example of one data sample which is the image of House Numbers. We only consider the number in the central of the image, and it is labeled as 1."
      ]
    },
    {
      "cell_type": "code",
      "execution_count": null,
      "metadata": {
        "colab": {
          "base_uri": "https://localhost:8080/",
          "height": 452
        },
        "id": "khAsxrSowRz3",
        "outputId": "b70c1940-dbba-4dac-c93a-576b2fa3f50b"
      },
      "outputs": [
        {
          "output_type": "display_data",
          "data": {
            "text/plain": [
              "<Figure size 640x480 with 1 Axes>"
            ],
            "image/png": "[encoded data removed]"
          },
          "metadata": {}
        }
      ],
      "source": [
        "from matplotlib import pyplot as plt\n",
        "plt.imshow(train_features[0], interpolation='nearest')\n",
        "plt.title(f'Label: {train_labels[0]}')\n",
        "plt.show()"
      ]
    },
    {
      "cell_type": "markdown",
      "metadata": {
        "id": "Hq5lZHZbwRz4"
      },
      "source": [
        "## 3. Submission Details"
      ]
    },
    {
      "cell_type": "markdown",
      "metadata": {
        "id": "UZAxzFuDwRz4"
      },
      "source": [
        "As part of the submission requirements, you are required to provide an `.ipynb` file containing your code and a `.pdf` document for the report.\n",
        "\n",
        "1.\t**Code (60%)**: `.ipynb` file that can be successfully run on Colab and contain all sections of the given template. The file name should be your SID. For example: '123123123.ipynb'. Students auditing the class (not registered) are NOT allowed to upload a submission.\n",
        "**IMPORTANT**: Run all cells, and do not clear out the outputs, before submitting. You will only get credit for code that has been run.\n",
        "\n",
        "2. **Report (40%)**: `.pdf` file with a maximum of 10 pages (appendix and reference excluded). The file name should be your SID. For example: '123123123.pdf'"
      ]
    },
    {
      "cell_type": "markdown",
      "metadata": {
        "id": "TqZX8u0twRz4"
      },
      "source": [
        "## 4. Code\n"
      ]
    },
    {
      "cell_type": "markdown",
      "metadata": {
        "id": "PXiGRhINwRz4"
      },
      "source": [
        "### Your code should clearly demonstrate the following elements:"
      ]
    },
    {
      "cell_type": "markdown",
      "metadata": {
        "id": "NPCc3Dc6wRz4"
      },
      "source": [
        "1. **Data Pre-processing Techniques**: Implement and provide a clear explanation of at least one data pre-processing technique utilized on the dataset.\n",
        "\n",
        "2. **Machine Learning Algorithms**: Include detailed implementations of four machine learning algorithms. Select from the following list:\n",
        "\n",
        "        a. Nearest Neighbor\n",
        "        b. Logistic Regression\n",
        "        c. Naïve Bayes\n",
        "        d. SVM\n",
        "        e. Decision Tree\n",
        "        f. Bagging\n",
        "        g. Boosting\n",
        "        h. Random forest\n",
        "\n",
        "   Make sure to justify your choice of algorithms, and your code should clearly convey your comprehension of these algorithms' operations. These algorithms can be implemented using `sklearn` or built from scratch.\n",
        "\n",
        "3. **Hyperparameter Tuning**: Illustrate the process of fine-tuning hyperparameters for each selected algorithm. This includes a clear explanation of your choice of hyperparameters and any employed techniques for tuning them.\n",
        "\n",
        "4. **Evaluation Metrics**: Evaluate each method using relevant metrics such as precision, recall, F1-score, and accuracy. Use charts or tables to intuitively visualize the results.\n",
        "\n",
        "5. **Algorithm Comparison**: Compare the results from four implemented algorithms using charts or tables.\n",
        "\n",
        "6. **Coding Environment**: Please specify the details of the hardware and software environments used for performance evaluation in both code and report. This information should encompass your operating system, Python version, and any major libraries or frameworks utilized."
      ]
    },
    {
      "cell_type": "markdown",
      "metadata": {
        "id": "Lk4QJ32LwRz4"
      },
      "source": [
        "Note that your final code submission should be well-organized, readable, and properly commented."
      ]
    },
    {
      "cell_type": "markdown",
      "metadata": {
        "id": "39PunWC4wRz4"
      },
      "source": [
        "### 4.0. Setup"
      ]
    },
    {
      "cell_type": "markdown",
      "metadata": {
        "id": "dyVpG3BhwRz4"
      },
      "source": [
        "Import and install all the necessaries libraries"
      ]
    },
    {
      "cell_type": "code",
      "execution_count": null,
      "metadata": {
        "id": "N0slOV6LwRz4"
      },
      "outputs": [],
      "source": [
        "# Import essential libraries\n",
        "import numpy as np\n",
        "import pandas as pd\n",
        "import matplotlib.pyplot as plt\n",
        "import os\n",
        "import seaborn as sns\n",
        "\n",
        "# Import libraries used for data augmentation\n",
        "import albumentations as A\n",
        "import cv2\n",
        "import joblib\n",
        "import pickle\n",
        "import time\n",
        "\n",
        "# Import pre-processing steps\n",
        "from sklearn.model_selection import train_test_split\n",
        "from sklearn.preprocessing import StandardScaler\n",
        "from sklearn.pipeline import Pipeline\n",
        "from sklearn.decomposition import PCA\n",
        "\n",
        "# Import models\n",
        "from sklearn.ensemble import RandomForestClassifier\n",
        "from xgboost import XGBClassifier\n",
        "from sklearn.neighbors import KNeighborsClassifier\n",
        "from sklearn.naive_bayes import GaussianNB\n",
        "\n",
        "# Import model training aids\n",
        "from sklearn.model_selection import GridSearchCV\n",
        "from sklearn.utils import class_weight, resample\n",
        "\n",
        "# Import evaluation metrics\n",
        "from sklearn import metrics\n",
        "from sklearn.metrics import accuracy_score, f1_score, precision_score, recall_score, roc_auc_score, make_scorer\n",
        "from sklearn.metrics import classification_report,confusion_matrix\n",
        "\n",
        "np.random.seed(42)"
      ]
    },
    {
      "cell_type": "markdown",
      "metadata": {
        "id": "Imj-NW-JwRz6"
      },
      "source": [
        "### 4.1. Data Pre-processing"
      ]
    },
    {
      "cell_type": "markdown",
      "metadata": {
        "id": "UcHwaYFswRz6"
      },
      "source": [
        "You will need to have at least one pre-process techique before you can apply the classification algorithms. Pre-process techique can be **Normalisation**, **PCA**, etc."
      ]
    },
    {
      "cell_type": "markdown",
      "metadata": {
        "id": "KdzSYuvQQSRI"
      },
      "source": [
        "#### Fix label"
      ]
    },
    {
      "cell_type": "markdown",
      "source": [
        "Currently pictures with labels 10 have 0 in the middle\n",
        "We will update their labels to be 0 because a 0 in the middle does not always guarantee it will be a 10."
      ],
      "metadata": {
        "id": "v0jT75hUMyWf"
      }
    },
    {
      "cell_type": "code",
      "execution_count": null,
      "metadata": {
        "id": "Qw7BBB7YQXGT"
      },
      "outputs": [],
      "source": [
        "train_labels[train_labels == 10] = 0\n",
        "test_labels[test_labels == 10] = 0"
      ]
    },
    {
      "cell_type": "code",
      "source": [
        "np.unique(train_labels)"
      ],
      "metadata": {
        "colab": {
          "base_uri": "https://localhost:8080/"
        },
        "id": "sMyJeN82mzQQ",
        "outputId": "c06f8bf6-751a-4b14-8e9e-50d7a4056395"
      },
      "execution_count": null,
      "outputs": [
        {
          "output_type": "execute_result",
          "data": {
            "text/plain": [
              "array([0, 1, 2, 3, 4, 5, 6, 7, 8, 9], dtype=uint8)"
            ]
          },
          "metadata": {},
          "execution_count": 15
        }
      ]
    },
    {
      "cell_type": "markdown",
      "source": [
        "#### Grey Scale Conversion"
      ],
      "metadata": {
        "id": "Y4zSeHHMJhPy"
      }
    },
    {
      "cell_type": "code",
      "execution_count": null,
      "metadata": {
        "id": "BuYIyqKR-Jh-"
      },
      "outputs": [],
      "source": [
        "def rgb_to_grayscale(image):\n",
        "    \"\"\"\n",
        "    Convert an RGB image to grayscale.\n",
        "\n",
        "    Parameters:\n",
        "    - image (numpy array): Input RGB image.\n",
        "\n",
        "    Returns:\n",
        "    - numpy array: Grayscale image.\n",
        "    \"\"\"\n",
        "    if image.dtype != np.uint8:\n",
        "        image = (image * 255).astype(np.uint8)\n",
        "    return cv2.cvtColor(image, cv2.COLOR_RGB2GRAY)\n"
      ]
    },
    {
      "cell_type": "code",
      "source": [
        "# Apply on training data\n",
        "train_features_grey = []\n",
        "for image in range(train_features.shape[0]):\n",
        "  grey_image = rgb_to_grayscale(train_features[image])\n",
        "  train_features_grey.append(grey_image)\n",
        "\n",
        "train_features_grey = np.array(train_features_grey)"
      ],
      "metadata": {
        "id": "naC0wB9RKpv1"
      },
      "execution_count": null,
      "outputs": []
    },
    {
      "cell_type": "code",
      "source": [
        "# Apply on test data too\n",
        "test_features_grey = []\n",
        "for image in range(test_features.shape[0]):\n",
        "  grey_image = rgb_to_grayscale(test_features[image])\n",
        "  test_features_grey.append(grey_image)\n",
        "\n",
        "test_features_grey = np.array(test_features_grey)"
      ],
      "metadata": {
        "id": "mXxcK7Q7KqTg"
      },
      "execution_count": null,
      "outputs": []
    },
    {
      "cell_type": "code",
      "source": [
        "# Check how images look like\n",
        "for i in (range(5,10)):\n",
        "    plt.imshow(train_features_grey[i],cmap = 'gray')\n",
        "    plt.title(f\"Label:{train_labels[i]}\")\n",
        "    plt.show()"
      ],
      "metadata": {
        "id": "hReadQ7ZJnSd",
        "colab": {
          "base_uri": "https://localhost:8080/",
          "height": 1000
        },
        "outputId": "8c25beda-a718-41a1-dc35-6c45f1642b19"
      },
      "execution_count": null,
      "outputs": [
        {
          "output_type": "display_data",
          "data": {
            "text/plain": [
              "<Figure size 640x480 with 1 Axes>"
            ],
            "image/png": "[encoded data removed]"
          },
          "metadata": {}
        },
        {
          "output_type": "display_data",
          "data": {
            "text/plain": [
              "<Figure size 640x480 with 1 Axes>"
            ],
            "image/png": "[encoded data removed]"
          },
          "metadata": {}
        },
        {
          "output_type": "display_data",
          "data": {
            "text/plain": [
              "<Figure size 640x480 with 1 Axes>"
            ],
            "image/png": "[encoded data removed]"
          },
          "metadata": {}
        },
        {
          "output_type": "display_data",
          "data": {
            "text/plain": [
              "<Figure size 640x480 with 1 Axes>"
            ],
            "image/png": "[encoded data removed]"
          },
          "metadata": {}
        },
        {
          "output_type": "display_data",
          "data": {
            "text/plain": [
              "<Figure size 640x480 with 1 Axes>"
            ],
            "image/png": "[encoded data removed]"
          },
          "metadata": {}
        }
      ]
    },
    {
      "cell_type": "markdown",
      "source": [
        "#### Normalise Data"
      ],
      "metadata": {
        "id": "ec_F_LHwZxhs"
      }
    },
    {
      "cell_type": "code",
      "source": [
        "train_features = train_features_grey/255\n",
        "test_features = test_features_grey/255"
      ],
      "metadata": {
        "id": "lrhx6vQWpfEk"
      },
      "execution_count": null,
      "outputs": []
    },
    {
      "cell_type": "markdown",
      "metadata": {
        "id": "anyAPYbXEHUv"
      },
      "source": [
        "#### Handle Imbalanced Dataset"
      ]
    },
    {
      "cell_type": "markdown",
      "metadata": {
        "id": "-2QXqELPEOpV"
      },
      "source": [
        "Check distribution for training data"
      ]
    },
    {
      "cell_type": "code",
      "execution_count": null,
      "metadata": {
        "colab": {
          "base_uri": "https://localhost:8080/",
          "height": 472
        },
        "id": "LtnWXC2hD4Ev",
        "outputId": "c7d2ac20-0c76-4ae4-a35d-f58b868105d2"
      },
      "outputs": [
        {
          "output_type": "display_data",
          "data": {
            "text/plain": [
              "<Figure size 640x480 with 1 Axes>"
            ],
            "image/png": "[encoded data removed]"
          },
          "metadata": {}
        }
      ],
      "source": [
        "plt.hist(train_labels, width= 0.8)\n",
        "plt.xlabel('labels')\n",
        "plt.ylabel('counts')\n",
        "plt.title('Frequency of train labels')\n",
        "plt.xticks(np.unique(train_labels))\n",
        "\n",
        "plt.show()\n"
      ]
    },
    {
      "cell_type": "code",
      "source": [
        "# Get count distribution for training data\n",
        "class_values, class_counts = np.unique(train_labels, return_counts=True)\n",
        "print(class_counts)"
      ],
      "metadata": {
        "id": "kd7e-yoXFxCz",
        "colab": {
          "base_uri": "https://localhost:8080/"
        },
        "outputId": "592fa2d8-abd6-446c-cbab-c61c40c9e0ca"
      },
      "execution_count": null,
      "outputs": [
        {
          "output_type": "stream",
          "name": "stdout",
          "text": [
            "[ 4948 13861 10585  8497  7458  6882  5727  5595  5045  4659]\n"
          ]
        }
      ]
    },
    {
      "cell_type": "code",
      "source": [
        "def calculate_global_imbalance_ratio(class_counts):\n",
        "    N_max = np.max(class_counts)\n",
        "    IR_per_class = N_max / class_counts\n",
        "    IR_mean = np.mean(IR_per_class)\n",
        "    return IR_mean, IR_per_class\n",
        "\n",
        "# Compute global imbalance ratio\n",
        "IR_mean, IR_per_class = calculate_global_imbalance_ratio(class_counts)\n",
        "\n",
        "print(f\"Imbalance Ratio per Class: {IR_per_class}\")\n",
        "print(f\"Global Imbalance Ratio (Mean IR): {IR_mean}\")"
      ],
      "metadata": {
        "colab": {
          "base_uri": "https://localhost:8080/"
        },
        "id": "MzsOyZHbOd63",
        "outputId": "425943c8-94a9-4d20-e9fb-0281752beca9"
      },
      "execution_count": null,
      "outputs": [
        {
          "output_type": "stream",
          "name": "stdout",
          "text": [
            "Imbalance Ratio per Class: [2.80133387 1.         1.30949457 1.63128163 1.85854116 2.01409474\n",
            " 2.42028986 2.47739053 2.74747275 2.97510195]\n",
            "Global Imbalance Ratio (Mean IR): 2.123500105344864\n"
          ]
        }
      ]
    },
    {
      "cell_type": "markdown",
      "source": [
        "There is moderate imbalance in the dataset since global imbalance ratio is > 1. We will employ oversampling technique using data augmentation and downsampling majority class to balance numbers."
      ],
      "metadata": {
        "id": "zK3DkRyINJ6O"
      }
    },
    {
      "cell_type": "markdown",
      "source": [
        "Step 1: We will upsample minority classes 0, 5-9 by generating new images based on original images. Only the training set will be augmented to avoid data leakage into test data."
      ],
      "metadata": {
        "id": "ZwgTY8RQHAgO"
      }
    },
    {
      "cell_type": "code",
      "execution_count": null,
      "metadata": {
        "id": "oB6TN9rZ8CfD"
      },
      "outputs": [],
      "source": [
        "# Define the augmentation transformation\n",
        "# Transformations include horizontal and vertical flipping,\n",
        "# Rotations\n",
        "transform = A.Compose([\n",
        "    A.HorizontalFlip(p=0.5),\n",
        "    A.VerticalFlip(p=0.3),\n",
        "    A.ShiftScaleRotate(shift_limit=0.1, scale_limit=0.1, rotate_limit=15, p=0.7),\n",
        "    A.GaussianBlur(blur_limit=(3, 5), p=0.3),\n",
        "    A.RandomBrightnessContrast(brightness_limit=0.2, contrast_limit=0.2, p=0.6)\n",
        "])"
      ]
    },
    {
      "cell_type": "markdown",
      "metadata": {
        "id": "SXfqwFKQFvdc"
      },
      "source": [
        "Example below"
      ]
    },
    {
      "cell_type": "code",
      "execution_count": null,
      "metadata": {
        "id": "WC5FhIz8--_6",
        "colab": {
          "base_uri": "https://localhost:8080/",
          "height": 452
        },
        "outputId": "1ca5b762-eab5-490b-b722-ee3471d91976"
      },
      "outputs": [
        {
          "output_type": "display_data",
          "data": {
            "text/plain": [
              "<Figure size 640x480 with 1 Axes>"
            ],
            "image/png": "[encoded data removed]"
          },
          "metadata": {}
        }
      ],
      "source": [
        "plt.imshow(train_features[0], interpolation='nearest')\n",
        "plt.title(f'Label: {train_labels[0]}')\n",
        "plt.show()"
      ]
    },
    {
      "cell_type": "code",
      "execution_count": null,
      "metadata": {
        "id": "Haypa34V_hGy",
        "colab": {
          "base_uri": "https://localhost:8080/",
          "height": 452
        },
        "outputId": "b45ef74e-e36f-4a42-863f-dca641848744"
      },
      "outputs": [
        {
          "output_type": "display_data",
          "data": {
            "text/plain": [
              "<Figure size 640x480 with 1 Axes>"
            ],
            "image/png": "[encoded data removed]"
          },
          "metadata": {}
        }
      ],
      "source": [
        "augmented_image = transform(image=train_features[0])['image']\n",
        "plt.imshow(augmented_image, interpolation='nearest')\n",
        "plt.title(f'Label: {train_labels[0]}')\n",
        "plt.show()"
      ]
    },
    {
      "cell_type": "code",
      "source": [
        "# Note that target n_samples were set to 86000 as increasing the number of samples\n",
        "# lead to longer than expected computational time when training the model.\n",
        "def oversample_minority_class(X, y, target_n_samples=86000):\n",
        "    \"\"\"\n",
        "    Partially balances the dataset by adding extra augmented samples\n",
        "    while keeping the total dataset size within target_n_samples.\n",
        "    \"\"\"\n",
        "    label_values, label_counts = np.unique(y, return_counts=True)\n",
        "    total_current_samples = np.sum(label_counts)\n",
        "    extra_needed = target_n_samples - total_current_samples  # Remaining space for augmentation\n",
        "\n",
        "    if extra_needed <= 0:\n",
        "        print(\"Dataset is already large enough, skipping oversampling.\")\n",
        "        return np.array([]), np.array([])\n",
        "\n",
        "    # Determine how much each class needs to be upsampled\n",
        "    mean_count = np.mean(label_counts)\n",
        "    # Store all the classes with counts less than the mean score\n",
        "    # in a dictionary\n",
        "    underrepresented_classes = {cls: count for cls, count in zip(label_values, label_counts) if count < mean_count}\n",
        "\n",
        "    # Distribute extra images proportionally among minority classes\n",
        "    total_underrepresented = sum(underrepresented_classes.values())\n",
        "    # Distributes the additional counts across all the minority classes\n",
        "    # so that we don't exceed to quota of 86,000 total images\n",
        "    # For example if digit 0 had 14, and total count of underrepresented classes was 40\n",
        "    # We would take the proportion of the underrepresented class i.e. 14/40 = 0.35\n",
        "    # And multiply it by the additional images we want to generate in total.\n",
        "    class_augmentation_quota = {cls: int((count / total_underrepresented) * extra_needed)\n",
        "                                for cls, count in underrepresented_classes.items()}\n",
        "\n",
        "    augmented_images = []\n",
        "    augmented_labels = []\n",
        "\n",
        "    # For each digit class\n",
        "    for digit_class, quota in class_augmentation_quota.items():\n",
        "        # We find where the digits are found\n",
        "        indices = np.where(y == digit_class)[0]\n",
        "        images = X[indices]\n",
        "        # Generate augmented images for each digit\n",
        "        # based of the quote specified for the digit.\n",
        "        for _ in range(quota):\n",
        "            idx = np.random.randint(0, len(images))\n",
        "            augmented_image = transform(image=images[idx])['image']\n",
        "            augmented_images.append(augmented_image)\n",
        "            augmented_labels.append(digit_class)\n",
        "\n",
        "    return np.array(augmented_images), np.array(augmented_labels)\n",
        "\n",
        "# Apply function on train set only\n",
        "augmented_train_features, augmented_train_labels = oversample_minority_class(train_features, train_labels, target_n_samples=85000)\n",
        "\n",
        "# Stack augmented data\n",
        "train_features_upsampled = np.vstack((train_features, augmented_train_features))\n",
        "train_labels_upsampled = np.vstack((train_labels, augmented_train_labels.reshape(-1, 1)))\n",
        "\n",
        "print(\"Final training data shape:\", train_features_upsampled.shape)\n",
        "print(\"Final training labels shape:\", train_labels_upsampled.shape)"
      ],
      "metadata": {
        "id": "9IRJaa5yYAQy",
        "colab": {
          "base_uri": "https://localhost:8080/",
          "height": 400
        },
        "collapsed": true,
        "outputId": "22fd503b-3d8c-44a7-e517-86c5fc24aafd"
      },
      "execution_count": null,
      "outputs": [
        {
          "output_type": "error",
          "ename": "ValueError",
          "evalue": "not enough values to unpack (expected 2, got 1)",
          "traceback": [
            "\u001b[0;31m---------------------------------------------------------------------------\u001b[0m",
            "\u001b[0;31mValueError\u001b[0m                                Traceback (most recent call last)",
            "\u001b[0;32m<ipython-input-47-338b99ad18b4>\u001b[0m in \u001b[0;36m<cell line: 0>\u001b[0;34m()\u001b[0m\n\u001b[1;32m     49\u001b[0m \u001b[0;34m\u001b[0m\u001b[0m\n\u001b[1;32m     50\u001b[0m \u001b[0;31m# Apply function on train set only\u001b[0m\u001b[0;34m\u001b[0m\u001b[0;34m\u001b[0m\u001b[0m\n\u001b[0;32m---> 51\u001b[0;31m \u001b[0maugmented_train_features\u001b[0m\u001b[0;34m,\u001b[0m \u001b[0maugmented_train_labels\u001b[0m \u001b[0;34m=\u001b[0m \u001b[0moversample_minority_class\u001b[0m\u001b[0;34m(\u001b[0m\u001b[0mtrain_features\u001b[0m\u001b[0;34m,\u001b[0m \u001b[0mtrain_labels\u001b[0m\u001b[0;34m,\u001b[0m \u001b[0mtarget_n_samples\u001b[0m\u001b[0;34m=\u001b[0m\u001b[0;36m85000\u001b[0m\u001b[0;34m)\u001b[0m\u001b[0;34m\u001b[0m\u001b[0;34m\u001b[0m\u001b[0m\n\u001b[0m\u001b[1;32m     52\u001b[0m \u001b[0;34m\u001b[0m\u001b[0m\n\u001b[1;32m     53\u001b[0m \u001b[0;31m# Stack augmented data\u001b[0m\u001b[0;34m\u001b[0m\u001b[0;34m\u001b[0m\u001b[0m\n",
            "\u001b[0;32m<ipython-input-47-338b99ad18b4>\u001b[0m in \u001b[0;36moversample_minority_class\u001b[0;34m(X, y, target_n_samples)\u001b[0m\n\u001b[1;32m     42\u001b[0m         \u001b[0;32mfor\u001b[0m \u001b[0m_\u001b[0m \u001b[0;32min\u001b[0m \u001b[0mrange\u001b[0m\u001b[0;34m(\u001b[0m\u001b[0mquota\u001b[0m\u001b[0;34m)\u001b[0m\u001b[0;34m:\u001b[0m\u001b[0;34m\u001b[0m\u001b[0;34m\u001b[0m\u001b[0m\n\u001b[1;32m     43\u001b[0m             \u001b[0midx\u001b[0m \u001b[0;34m=\u001b[0m \u001b[0mnp\u001b[0m\u001b[0;34m.\u001b[0m\u001b[0mrandom\u001b[0m\u001b[0;34m.\u001b[0m\u001b[0mrandint\u001b[0m\u001b[0;34m(\u001b[0m\u001b[0;36m0\u001b[0m\u001b[0;34m,\u001b[0m \u001b[0mlen\u001b[0m\u001b[0;34m(\u001b[0m\u001b[0mimages\u001b[0m\u001b[0;34m)\u001b[0m\u001b[0;34m)\u001b[0m\u001b[0;34m\u001b[0m\u001b[0;34m\u001b[0m\u001b[0m\n\u001b[0;32m---> 44\u001b[0;31m             \u001b[0maugmented_image\u001b[0m \u001b[0;34m=\u001b[0m \u001b[0mtransform\u001b[0m\u001b[0;34m(\u001b[0m\u001b[0mimage\u001b[0m\u001b[0;34m=\u001b[0m\u001b[0mimages\u001b[0m\u001b[0;34m[\u001b[0m\u001b[0midx\u001b[0m\u001b[0;34m]\u001b[0m\u001b[0;34m)\u001b[0m\u001b[0;34m[\u001b[0m\u001b[0;34m'image'\u001b[0m\u001b[0;34m]\u001b[0m\u001b[0;34m\u001b[0m\u001b[0;34m\u001b[0m\u001b[0m\n\u001b[0m\u001b[1;32m     45\u001b[0m             \u001b[0maugmented_images\u001b[0m\u001b[0;34m.\u001b[0m\u001b[0mappend\u001b[0m\u001b[0;34m(\u001b[0m\u001b[0maugmented_image\u001b[0m\u001b[0;34m)\u001b[0m\u001b[0;34m\u001b[0m\u001b[0;34m\u001b[0m\u001b[0m\n\u001b[1;32m     46\u001b[0m             \u001b[0maugmented_labels\u001b[0m\u001b[0;34m.\u001b[0m\u001b[0mappend\u001b[0m\u001b[0;34m(\u001b[0m\u001b[0mdigit_class\u001b[0m\u001b[0;34m)\u001b[0m\u001b[0;34m\u001b[0m\u001b[0;34m\u001b[0m\u001b[0m\n",
            "\u001b[0;32m/usr/local/lib/python3.11/dist-packages/albumentations/core/composition.py\u001b[0m in \u001b[0;36m__call__\u001b[0;34m(self, force_apply, *args, **data)\u001b[0m\n\u001b[1;32m    494\u001b[0m \u001b[0;34m\u001b[0m\u001b[0m\n\u001b[1;32m    495\u001b[0m         \u001b[0;32mfor\u001b[0m \u001b[0mt\u001b[0m \u001b[0;32min\u001b[0m \u001b[0mself\u001b[0m\u001b[0;34m.\u001b[0m\u001b[0mtransforms\u001b[0m\u001b[0;34m:\u001b[0m\u001b[0;34m\u001b[0m\u001b[0;34m\u001b[0m\u001b[0m\n\u001b[0;32m--> 496\u001b[0;31m             \u001b[0mdata\u001b[0m \u001b[0;34m=\u001b[0m \u001b[0mt\u001b[0m\u001b[0;34m(\u001b[0m\u001b[0;34m**\u001b[0m\u001b[0mdata\u001b[0m\u001b[0;34m)\u001b[0m\u001b[0;34m\u001b[0m\u001b[0;34m\u001b[0m\u001b[0m\n\u001b[0m\u001b[1;32m    497\u001b[0m             \u001b[0mself\u001b[0m\u001b[0;34m.\u001b[0m\u001b[0m_track_transform_params\u001b[0m\u001b[0;34m(\u001b[0m\u001b[0mt\u001b[0m\u001b[0;34m,\u001b[0m \u001b[0mdata\u001b[0m\u001b[0;34m)\u001b[0m\u001b[0;34m\u001b[0m\u001b[0;34m\u001b[0m\u001b[0m\n\u001b[1;32m    498\u001b[0m             \u001b[0mdata\u001b[0m \u001b[0;34m=\u001b[0m \u001b[0mself\u001b[0m\u001b[0;34m.\u001b[0m\u001b[0mcheck_data_post_transform\u001b[0m\u001b[0;34m(\u001b[0m\u001b[0mdata\u001b[0m\u001b[0;34m)\u001b[0m\u001b[0;34m\u001b[0m\u001b[0;34m\u001b[0m\u001b[0m\n",
            "\u001b[0;32m/usr/local/lib/python3.11/dist-packages/albumentations/core/transforms_interface.py\u001b[0m in \u001b[0;36m__call__\u001b[0;34m(self, force_apply, *args, **kwargs)\u001b[0m\n\u001b[1;32m    166\u001b[0m                     \u001b[0;32mraise\u001b[0m \u001b[0mValueError\u001b[0m\u001b[0;34m(\u001b[0m\u001b[0mmsg\u001b[0m\u001b[0;34m)\u001b[0m\u001b[0;34m\u001b[0m\u001b[0;34m\u001b[0m\u001b[0m\n\u001b[1;32m    167\u001b[0m \u001b[0;34m\u001b[0m\u001b[0m\n\u001b[0;32m--> 168\u001b[0;31m             \u001b[0mparams_dependent_on_data\u001b[0m \u001b[0;34m=\u001b[0m \u001b[0mself\u001b[0m\u001b[0;34m.\u001b[0m\u001b[0mget_params_dependent_on_data\u001b[0m\u001b[0;34m(\u001b[0m\u001b[0mparams\u001b[0m\u001b[0;34m=\u001b[0m\u001b[0mparams\u001b[0m\u001b[0;34m,\u001b[0m \u001b[0mdata\u001b[0m\u001b[0;34m=\u001b[0m\u001b[0mkwargs\u001b[0m\u001b[0;34m)\u001b[0m\u001b[0;34m\u001b[0m\u001b[0;34m\u001b[0m\u001b[0m\n\u001b[0m\u001b[1;32m    169\u001b[0m             \u001b[0mparams\u001b[0m\u001b[0;34m.\u001b[0m\u001b[0mupdate\u001b[0m\u001b[0;34m(\u001b[0m\u001b[0mparams_dependent_on_data\u001b[0m\u001b[0;34m)\u001b[0m\u001b[0;34m\u001b[0m\u001b[0;34m\u001b[0m\u001b[0m\n\u001b[1;32m    170\u001b[0m \u001b[0;34m\u001b[0m\u001b[0m\n",
            "\u001b[0;32m/usr/local/lib/python3.11/dist-packages/albumentations/augmentations/geometric/transforms.py\u001b[0m in \u001b[0;36mget_params_dependent_on_data\u001b[0;34m(self, params, data)\u001b[0m\n\u001b[1;32m   1049\u001b[0m         \u001b[0mimage_shape\u001b[0m \u001b[0;34m=\u001b[0m \u001b[0mparams\u001b[0m\u001b[0;34m[\u001b[0m\u001b[0;34m\"shape\"\u001b[0m\u001b[0;34m]\u001b[0m\u001b[0;34m[\u001b[0m\u001b[0;34m:\u001b[0m\u001b[0;36m2\u001b[0m\u001b[0;34m]\u001b[0m\u001b[0;34m\u001b[0m\u001b[0;34m\u001b[0m\u001b[0m\n\u001b[1;32m   1050\u001b[0m \u001b[0;34m\u001b[0m\u001b[0m\n\u001b[0;32m-> 1051\u001b[0;31m         \u001b[0mtranslate\u001b[0m \u001b[0;34m=\u001b[0m \u001b[0mself\u001b[0m\u001b[0;34m.\u001b[0m\u001b[0m_get_translate_params\u001b[0m\u001b[0;34m(\u001b[0m\u001b[0mimage_shape\u001b[0m\u001b[0;34m)\u001b[0m\u001b[0;34m\u001b[0m\u001b[0;34m\u001b[0m\u001b[0m\n\u001b[0m\u001b[1;32m   1052\u001b[0m         \u001b[0mshear\u001b[0m \u001b[0;34m=\u001b[0m \u001b[0mself\u001b[0m\u001b[0;34m.\u001b[0m\u001b[0m_get_shear_params\u001b[0m\u001b[0;34m(\u001b[0m\u001b[0;34m)\u001b[0m\u001b[0;34m\u001b[0m\u001b[0;34m\u001b[0m\u001b[0m\n\u001b[1;32m   1053\u001b[0m         scale = self.get_scale(\n",
            "\u001b[0;32m/usr/local/lib/python3.11/dist-packages/albumentations/augmentations/geometric/transforms.py\u001b[0m in \u001b[0;36m_get_translate_params\u001b[0;34m(self, image_shape)\u001b[0m\n\u001b[1;32m   1098\u001b[0m \u001b[0;34m\u001b[0m\u001b[0m\n\u001b[1;32m   1099\u001b[0m     \u001b[0;32mdef\u001b[0m \u001b[0m_get_translate_params\u001b[0m\u001b[0;34m(\u001b[0m\u001b[0mself\u001b[0m\u001b[0;34m,\u001b[0m \u001b[0mimage_shape\u001b[0m\u001b[0;34m:\u001b[0m \u001b[0mtuple\u001b[0m\u001b[0;34m[\u001b[0m\u001b[0mint\u001b[0m\u001b[0;34m,\u001b[0m \u001b[0mint\u001b[0m\u001b[0;34m]\u001b[0m\u001b[0;34m)\u001b[0m \u001b[0;34m->\u001b[0m \u001b[0mdict\u001b[0m\u001b[0;34m[\u001b[0m\u001b[0mstr\u001b[0m\u001b[0;34m,\u001b[0m \u001b[0mint\u001b[0m\u001b[0;34m]\u001b[0m\u001b[0;34m:\u001b[0m\u001b[0;34m\u001b[0m\u001b[0;34m\u001b[0m\u001b[0m\n\u001b[0;32m-> 1100\u001b[0;31m         \u001b[0mheight\u001b[0m\u001b[0;34m,\u001b[0m \u001b[0mwidth\u001b[0m \u001b[0;34m=\u001b[0m \u001b[0mimage_shape\u001b[0m\u001b[0;34m[\u001b[0m\u001b[0;34m:\u001b[0m\u001b[0;36m2\u001b[0m\u001b[0;34m]\u001b[0m\u001b[0;34m\u001b[0m\u001b[0;34m\u001b[0m\u001b[0m\n\u001b[0m\u001b[1;32m   1101\u001b[0m         \u001b[0;32mif\u001b[0m \u001b[0mself\u001b[0m\u001b[0;34m.\u001b[0m\u001b[0mtranslate_px\u001b[0m \u001b[0;32mis\u001b[0m \u001b[0;32mnot\u001b[0m \u001b[0;32mNone\u001b[0m\u001b[0;34m:\u001b[0m\u001b[0;34m\u001b[0m\u001b[0;34m\u001b[0m\u001b[0m\n\u001b[1;32m   1102\u001b[0m             return {\n",
            "\u001b[0;31mValueError\u001b[0m: not enough values to unpack (expected 2, got 1)"
          ]
        }
      ]
    },
    {
      "cell_type": "code",
      "source": [
        "plt.hist(train_labels_upsampled, width= 0.8)\n",
        "plt.xlabel('labels')\n",
        "plt.ylabel('counts')\n",
        "plt.title('Frequency of train labels')\n",
        "plt.xticks(np.unique(train_labels))\n",
        "\n",
        "plt.show()"
      ],
      "metadata": {
        "colab": {
          "base_uri": "https://localhost:8080/",
          "height": 472
        },
        "id": "Fj5PvU-CCkBK",
        "outputId": "219115f3-4052-4963-fbc1-2c1aca2c974c"
      },
      "execution_count": null,
      "outputs": [
        {
          "output_type": "display_data",
          "data": {
            "text/plain": [
              "<Figure size 640x480 with 1 Axes>"
            ],
            "image/png": "[encoded data removed]"
          },
          "metadata": {}
        }
      ]
    },
    {
      "cell_type": "code",
      "source": [
        "# Get count distribution for training data\n",
        "class_values_upsampled, class_counts_upsampled = np.unique(train_labels_upsampled, return_counts=True)\n",
        "print(class_counts)\n",
        "\n",
        "# Compute global imbalance ratio >> reduced to 1.71\n",
        "IR_mean, IR_per_class = calculate_global_imbalance_ratio(class_counts_upsampled)\n",
        "\n",
        "print(f\"Imbalance Ratio per Class: {IR_per_class}\")\n",
        "print(f\"Global Imbalance Ratio (Mean IR): {IR_mean}\")"
      ],
      "metadata": {
        "id": "A68LyGh7DMRo",
        "colab": {
          "base_uri": "https://localhost:8080/"
        },
        "outputId": "f36303dd-10d4-4bbf-d517-023097c1c8f8"
      },
      "execution_count": null,
      "outputs": [
        {
          "output_type": "stream",
          "name": "stdout",
          "text": [
            "[ 6716 13861 10585  8497  7458  9341  7773  7594  6848  6324]\n",
            "Imbalance Ratio per Class: [2.06387731 1.         1.30949457 1.63128163 1.85854116 1.48388823\n",
            " 1.78322398 1.82525678 2.02409463 2.19180898]\n",
            "Global Imbalance Ratio (Mean IR): 1.7171467272971708\n"
          ]
        }
      ]
    },
    {
      "cell_type": "code",
      "source": [
        "# Plot for train_labels_upsampled\n",
        "plt.hist(train_labels_upsampled, width=0.8, alpha=0.5, label='train_labels_upsampled')\n",
        "\n",
        "# Plot for train_labels\n",
        "plt.hist(train_labels, width=0.8, alpha=0.5, label='train_labels')\n",
        "\n",
        "# Add labels and title\n",
        "plt.xlabel('Labels')\n",
        "plt.ylabel('Counts')\n",
        "plt.title('Comparison of train_labels and train_labels_upsampled')\n",
        "\n",
        "# Add legend\n",
        "plt.legend()\n",
        "\n",
        "# Set x-ticks to show all unique labels\n",
        "plt.xticks(np.unique(train_labels_upsampled))\n",
        "\n",
        "# Show the plot\n",
        "plt.show()"
      ],
      "metadata": {
        "id": "NrjhnEnBWGKD",
        "colab": {
          "base_uri": "https://localhost:8080/",
          "height": 472
        },
        "outputId": "47a95ad3-8a87-46a5-c7aa-c7823f0a887e"
      },
      "execution_count": null,
      "outputs": [
        {
          "output_type": "display_data",
          "data": {
            "text/plain": [
              "<Figure size 640x480 with 1 Axes>"
            ],
            "image/png": "[encoded data removed]"
          },
          "metadata": {}
        }
      ]
    },
    {
      "cell_type": "markdown",
      "source": [
        "Although, there is still some imbalance, most modelling techniques are robust to slighlty imbalanced datasets. We will also include class weights to ensure imbalanceness is considered whilst training."
      ],
      "metadata": {
        "id": "WFuRTlpqVweo"
      }
    },
    {
      "cell_type": "markdown",
      "metadata": {
        "id": "g7TtBoXMwRz6"
      },
      "source": [
        "#### Flatten and standardise"
      ]
    },
    {
      "cell_type": "markdown",
      "source": [
        "Flatten"
      ],
      "metadata": {
        "id": "IyJgfqwyt5qK"
      }
    },
    {
      "cell_type": "code",
      "source": [
        "train_features = train_features_upsampled.reshape(train_features_upsampled.shape[0], -1)\n",
        "test_features = test_features.reshape(test_features.shape[0], -1)\n",
        "\n",
        "# Shape after flattening\n",
        "print(train_features.shape)\n",
        "print(test_features.shape)"
      ],
      "metadata": {
        "colab": {
          "base_uri": "https://localhost:8080/"
        },
        "id": "-d9XxEfSt6tf",
        "outputId": "635e3a19-7f47-4ff2-dc31-c591e97dc941"
      },
      "execution_count": null,
      "outputs": [
        {
          "output_type": "stream",
          "name": "stdout",
          "text": [
            "(84997, 1024)\n",
            "(26032, 1024)\n"
          ]
        }
      ]
    },
    {
      "cell_type": "markdown",
      "source": [
        "Standardise"
      ],
      "metadata": {
        "id": "nMR2v0FNsde8"
      }
    },
    {
      "cell_type": "code",
      "source": [
        "standardise = StandardScaler()\n",
        "train_features = standardise.fit_transform(train_features)\n",
        "test_features = standardise.transform(test_features)"
      ],
      "metadata": {
        "id": "HGMkK7w3cYgo"
      },
      "execution_count": null,
      "outputs": []
    },
    {
      "cell_type": "markdown",
      "metadata": {
        "id": "a5toSGe4wRz6"
      },
      "source": [
        "#### PCA decomposition with 95% variance"
      ]
    },
    {
      "cell_type": "code",
      "source": [
        "pca = PCA()\n",
        "pca.fit(train_features)\n",
        "\n",
        "# Calculate the cumulative sum of the explained variance ratio\n",
        "cumsum = np.cumsum(pca.explained_variance_ratio_)\n",
        "\n",
        "# Find the number of components that explain at least 95% variance\n",
        "d = np.argmax(cumsum >= 0.95) + 1  # Adding 1 because np.argmax returns 0-based index\n",
        "\n",
        "print(f\"Number of components explaining at least 95% variance: {d}\") # 48 components are needed\n"
      ],
      "metadata": {
        "colab": {
          "base_uri": "https://localhost:8080/"
        },
        "id": "PQSBcEnxog4F",
        "outputId": "dad66070-5f1e-4325-9395-a0ed65697907"
      },
      "execution_count": null,
      "outputs": [
        {
          "output_type": "stream",
          "name": "stdout",
          "text": [
            "Number of components explaining at least 95% variance: 48\n"
          ]
        }
      ]
    },
    {
      "cell_type": "code",
      "source": [
        "# Plot explained variance vs number of dimensions for training data\n",
        "plt.figure(figsize=(6,4))\n",
        "plt.plot(cumsum, linewidth=3)\n",
        "plt.axis([0, 400, 0, 1])\n",
        "plt.xlabel(\"Dimensions\")\n",
        "plt.ylabel(\"Explained Variance\")\n",
        "plt.plot([d, d], [0, 0.95], \"k:\")\n",
        "plt.plot([0, d], [0.95, 0.95], \"k:\")\n",
        "plt.plot(d, 0.95, \"ko\")\n",
        "plt.annotate(\"Elbow\", xy=(49, 0.90), xytext=(70, 0.7),\n",
        "             arrowprops=dict(arrowstyle=\"->\"), fontsize=16)\n",
        "plt.grid(True)\n",
        "plt.show()"
      ],
      "metadata": {
        "colab": {
          "base_uri": "https://localhost:8080/",
          "height": 393
        },
        "id": "bwVNdsnin5Eh",
        "outputId": "8ac9fd92-379d-4bab-8e5d-4cc0f96add40"
      },
      "execution_count": null,
      "outputs": [
        {
          "output_type": "display_data",
          "data": {
            "text/plain": [
              "<Figure size 600x400 with 1 Axes>"
            ],
            "image/png": "[encoded data removed]"
          },
          "metadata": {}
        }
      ]
    },
    {
      "cell_type": "code",
      "execution_count": null,
      "metadata": {
        "id": "oNRl84xpwRz7"
      },
      "outputs": [],
      "source": [
        "# Get PCA reduced data for training data\n",
        "pca = PCA(n_components = 48)\n",
        "train_features = pca.fit_transform(train_features)"
      ]
    },
    {
      "cell_type": "code",
      "execution_count": null,
      "metadata": {
        "colab": {
          "base_uri": "https://localhost:8080/"
        },
        "id": "kg7Hm3XS8B-z",
        "outputId": "549829b5-8449-4f52-cff8-fb273061aa7a"
      },
      "outputs": [
        {
          "output_type": "stream",
          "name": "stdout",
          "text": [
            "(84997, 48)\n"
          ]
        }
      ],
      "source": [
        "print(train_features.shape)"
      ]
    },
    {
      "cell_type": "code",
      "source": [
        "# Apply same transformation to test data\n",
        "test_features = pca.fit_transform(test_features)"
      ],
      "metadata": {
        "id": "1H-rYAcvwfPr"
      },
      "execution_count": null,
      "outputs": []
    },
    {
      "cell_type": "code",
      "source": [
        "# Prior to pickling the files I will check if the dimensions are as expected\n",
        "print(train_features.shape)\n",
        "print(train_labels_upsampled.shape)\n",
        "print(test_features.shape)\n",
        "print(test_labels.shape)"
      ],
      "metadata": {
        "colab": {
          "base_uri": "https://localhost:8080/"
        },
        "id": "j4-2EwIJZ7l6",
        "outputId": "4889b74c-814a-4ccc-cf51-5e06552f1096"
      },
      "execution_count": null,
      "outputs": [
        {
          "output_type": "stream",
          "name": "stdout",
          "text": [
            "(84997, 48)\n",
            "(84997, 1)\n",
            "(26032, 48)\n",
            "(26032, 1)\n"
          ]
        }
      ]
    },
    {
      "cell_type": "code",
      "execution_count": null,
      "metadata": {
        "id": "ewi0-dfNf1rm"
      },
      "outputs": [],
      "source": [
        "# Save results in an file so code above does not need to be re-run again\n",
        "# file = open('/content/drive/My Drive/data_asg1/train_features_transformed', 'wb')\n",
        "# pickle.dump(train_features, file)\n",
        "# file = open('/content/drive/My Drive/data_asg1/test_features_transformed', 'wb')\n",
        "# pickle.dump(test_features, file)\n",
        "# file = open('/content/drive/My Drive/data_asg1/train_labels_transformed', 'wb')\n",
        "# pickle.dump(train_labels_upsampled, file)\n",
        "# file = open('/content/drive/My Drive/data_asg1/test_labels_transformed', 'wb')\n",
        "# pickle.dump(test_labels, file)\n",
        "# file.close()"
      ]
    },
    {
      "cell_type": "markdown",
      "metadata": {
        "id": "80lWA47uMM2i"
      },
      "source": [
        "### 4.2 Testing Hyperparameters and Evaluating Models"
      ]
    },
    {
      "cell_type": "code",
      "source": [
        "# Read dataset - included to avoid running preprocessing steps above\n",
        "# train_features = pd.read_pickle(r'/content/drive/My Drive/data_asg1/train_features_transformed')\n",
        "# train_labels = pd.read_pickle(r'/content/drive/My Drive/data_asg1/train_labels_transformed')\n",
        "# test_features = pd.read_pickle(r'/content/drive/My Drive/data_asg1/test_features_transformed')\n",
        "# test_labels = pd.read_pickle(r'/content/drive/My Drive/data_asg1/test_labels_transformed')"
      ],
      "metadata": {
        "id": "AmK2-OXDyPpp"
      },
      "execution_count": null,
      "outputs": []
    },
    {
      "cell_type": "code",
      "source": [
        "# Check dimensions are ok after reading in data\n",
        "print(train_features.shape)\n",
        "print(train_labels.shape)\n",
        "print(test_features.shape)\n",
        "print(test_labels.shape)"
      ],
      "metadata": {
        "colab": {
          "base_uri": "https://localhost:8080/"
        },
        "id": "LG8cFAzLtsyc",
        "outputId": "e5d0a314-02a5-4693-c7a4-9f2a92d0cd57"
      },
      "execution_count": null,
      "outputs": [
        {
          "output_type": "stream",
          "name": "stdout",
          "text": [
            "(84997, 48)\n",
            "(84997, 1)\n",
            "(26032, 48)\n",
            "(26032, 1)\n"
          ]
        }
      ]
    },
    {
      "cell_type": "markdown",
      "source": [
        "Here we will calculate class weights and main testing score - f1. Class Weights will place less emphasis on majority classes whilst the f1 score is used instead of accuracy, since accuracy can be easily influenced by imbalanced data."
      ],
      "metadata": {
        "id": "PRDu1WKndL3K"
      }
    },
    {
      "cell_type": "code",
      "source": [
        "# Prior to training we will establish the metrics we establish the class weight and main metric used for testing\n",
        "\n",
        "# Class Weighting\n",
        "class_weights = class_weight.compute_sample_weight(\n",
        "    class_weight='balanced',\n",
        "    y=train_labels\n",
        ")\n",
        "print(class_weights)\n",
        "\n",
        "# Define the scoring metrics\n",
        "f1_weighted = make_scorer(f1_score, average='weighted')"
      ],
      "metadata": {
        "colab": {
          "base_uri": "https://localhost:8080/"
        },
        "id": "U_RdrfHMbKii",
        "outputId": "65d0af4b-d3c1-4bd0-aa23-6469f16d7515"
      },
      "execution_count": null,
      "outputs": [
        {
          "output_type": "stream",
          "name": "stdout",
          "text": [
            "[0.61320973 1.34403858 0.8029948  ... 1.34403858 1.34403858 1.34403858]\n"
          ]
        }
      ]
    },
    {
      "cell_type": "markdown",
      "metadata": {
        "id": "k6Bv4NnpwRz7"
      },
      "source": [
        "#### 4.2a. Random Forest"
      ]
    },
    {
      "cell_type": "markdown",
      "metadata": {
        "id": "Kiondc58wRz8"
      },
      "source": [
        "The algorithm can be implemented using `sklearn` or built from scratch."
      ]
    },
    {
      "cell_type": "markdown",
      "metadata": {
        "id": "slNnP-O6wRz8"
      },
      "source": [
        "##### Base model"
      ]
    },
    {
      "cell_type": "markdown",
      "metadata": {
        "id": "KgWpakpuwRz8"
      },
      "source": [
        "First we will see how well the base model performs."
      ]
    },
    {
      "cell_type": "code",
      "source": [
        "# Initialise model\n",
        "rf = RandomForestClassifier(random_state=42)"
      ],
      "metadata": {
        "id": "x1WQUGpRk0yk"
      },
      "execution_count": null,
      "outputs": []
    },
    {
      "cell_type": "markdown",
      "source": [
        "First we will see how well the default model performs"
      ],
      "metadata": {
        "id": "LcRaXocCxSMS"
      }
    },
    {
      "cell_type": "code",
      "source": [
        "base_rnd_clf = RandomForestClassifier()\n",
        "base_rnd_clf.fit(train_features, train_labels)\n",
        "predicted_labels = base_rnd_clf.predict(test_features)\n",
        "print(metrics.classification_report(test_labels, predicted_labels))"
      ],
      "metadata": {
        "colab": {
          "base_uri": "https://localhost:8080/"
        },
        "id": "VEdaOFTNxRv_",
        "outputId": "b6e8ddb3-8094-4e2e-b7fe-9010ac76d973"
      },
      "execution_count": null,
      "outputs": [
        {
          "output_type": "stream",
          "name": "stdout",
          "text": [
            "              precision    recall  f1-score   support\n",
            "\n",
            "           0       0.09      0.05      0.07      1744\n",
            "           1       0.28      0.46      0.35      5099\n",
            "           2       0.22      0.27      0.24      4149\n",
            "           3       0.11      0.09      0.10      2882\n",
            "           4       0.23      0.18      0.20      2523\n",
            "           5       0.10      0.14      0.12      2384\n",
            "           6       0.07      0.05      0.05      1977\n",
            "           7       0.06      0.04      0.05      2019\n",
            "           8       0.07      0.03      0.05      1660\n",
            "           9       0.07      0.03      0.04      1595\n",
            "\n",
            "    accuracy                           0.19     26032\n",
            "   macro avg       0.13      0.13      0.13     26032\n",
            "weighted avg       0.16      0.19      0.17     26032\n",
            "\n"
          ]
        }
      ]
    },
    {
      "cell_type": "markdown",
      "source": [
        "##### Hyperparameter testing"
      ],
      "metadata": {
        "id": "ys1VBoXgd9Re"
      }
    },
    {
      "cell_type": "markdown",
      "source": [
        "1. Test for Number of Estimators"
      ],
      "metadata": {
        "id": "td9LP8qtlJlq"
      }
    },
    {
      "cell_type": "code",
      "execution_count": null,
      "metadata": {
        "colab": {
          "base_uri": "https://localhost:8080/"
        },
        "id": "G4h2fj2x9MbV",
        "outputId": "08251da9-0216-4cbf-9d67-d5346e3f11a7"
      },
      "outputs": [
        {
          "metadata": {
            "tags": null
          },
          "name": "stdout",
          "output_type": "stream",
          "text": [
            "Fitting 3 folds for each of 3 candidates, totalling 9 fits\n"
          ]
        }
      ],
      "source": [
        "# Define parameter grid\n",
        "# n_estimators refers to the number of trees in the model\n",
        "param_grid = {\n",
        "    'n_estimators': [100,200,300]\n",
        "}\n",
        "\n",
        "\n",
        "# Perform GridSearch\n",
        "grid_search = GridSearchCV(rf,\n",
        "                          param_grid,\n",
        "                          cv=5,\n",
        "                          scoring=f1_weighted,\n",
        "                          return_train_score=True,\n",
        "                          n_jobs=-1,\n",
        "                          verbose=2)\n",
        "\n",
        "grid_search.fit(train_features, train_labels)\n",
        "\n",
        "# Results\n",
        "print(\"Training set score: {:.2f}\".format(grid_search.score(train_features,\n",
        "                                                            train_labels)))\n",
        "print(\"Best parameters: {}\".format(grid_search.best_params_))\n",
        "print(\"Best cross-validation score: {:.2f}\".format(grid_search.best_score_))\n",
        "print(\"Best estimator:\\n{}\".format(grid_search.best_estimator_))\n",
        "\n",
        "# 300 estimators was the best score"
      ]
    },
    {
      "cell_type": "markdown",
      "source": [
        "2. Test For Max Depth"
      ],
      "metadata": {
        "id": "p8ZO6mXunJWZ"
      }
    },
    {
      "cell_type": "code",
      "source": [
        "# Define parameter grid\n",
        "param_grid = {\n",
        "    'max_depth': [10,20,30]\n",
        "}\n",
        "\n",
        "# Perform GridSearch\n",
        "grid_search = GridSearchCV(rf,\n",
        "                          param_grid,\n",
        "                          cv=5,\n",
        "                          scoring=f1_weighted,\n",
        "                          return_train_score=True,\n",
        "                          n_jobs=-1,\n",
        "                          verbose=2)\n",
        "\n",
        "ggrid_search.fit(train_features, train_labels)\n",
        "\n",
        "# Results\n",
        "print(\"Training set score: {:.2f}\".format(grid_search.score(train_features,\n",
        "                                                            train_labels)))\n",
        "print(\"Best parameters: {}\".format(grid_search.best_params_))\n",
        "print(\"Best cross-validation score: {:.2f}\".format(grid_search.best_score_))\n",
        "print(\"Best estimator:\\n{}\".format(grid_search.best_estimator_))\n",
        "\n",
        "# 30 was best for max depth"
      ],
      "metadata": {
        "colab": {
          "base_uri": "https://localhost:8080/"
        },
        "id": "rWbN6RkvEcSx",
        "outputId": "cf62ae11-8b5e-4f81-c798-4460a39a2cf9",
        "collapsed": true
      },
      "execution_count": null,
      "outputs": [
        {
          "output_type": "stream",
          "name": "stdout",
          "text": [
            "Fitting 5 folds for each of 3 candidates, totalling 15 fits\n"
          ]
        },
        {
          "output_type": "stream",
          "name": "stderr",
          "text": [
            "/usr/local/lib/python3.11/dist-packages/joblib/externals/loky/process_executor.py:752: UserWarning: A worker stopped while some jobs were given to the executor. This can be caused by a too short worker timeout or by a memory leak.\n",
            "  warnings.warn(\n"
          ]
        },
        {
          "output_type": "error",
          "ename": "KeyboardInterrupt",
          "evalue": "",
          "traceback": [
            "\u001b[0;31m---------------------------------------------------------------------------\u001b[0m",
            "\u001b[0;31mKeyboardInterrupt\u001b[0m                         Traceback (most recent call last)",
            "\u001b[0;32m<ipython-input-34-bd6828574dd4>\u001b[0m in \u001b[0;36m<cell line: 0>\u001b[0;34m()\u001b[0m\n\u001b[1;32m     16\u001b[0m                           verbose=2)\n\u001b[1;32m     17\u001b[0m \u001b[0;34m\u001b[0m\u001b[0m\n\u001b[0;32m---> 18\u001b[0;31m \u001b[0mgrid_search\u001b[0m\u001b[0;34m.\u001b[0m\u001b[0mfit\u001b[0m\u001b[0;34m(\u001b[0m\u001b[0mtrain_features\u001b[0m\u001b[0;34m,\u001b[0m \u001b[0mtrain_labels\u001b[0m\u001b[0;34m)\u001b[0m\u001b[0;34m\u001b[0m\u001b[0;34m\u001b[0m\u001b[0m\n\u001b[0m\u001b[1;32m     19\u001b[0m \u001b[0;34m\u001b[0m\u001b[0m\n\u001b[1;32m     20\u001b[0m \u001b[0;31m# Results\u001b[0m\u001b[0;34m\u001b[0m\u001b[0;34m\u001b[0m\u001b[0m\n",
            "\u001b[0;32m/usr/local/lib/python3.11/dist-packages/sklearn/base.py\u001b[0m in \u001b[0;36mwrapper\u001b[0;34m(estimator, *args, **kwargs)\u001b[0m\n\u001b[1;32m   1387\u001b[0m                 )\n\u001b[1;32m   1388\u001b[0m             ):\n\u001b[0;32m-> 1389\u001b[0;31m                 \u001b[0;32mreturn\u001b[0m \u001b[0mfit_method\u001b[0m\u001b[0;34m(\u001b[0m\u001b[0mestimator\u001b[0m\u001b[0;34m,\u001b[0m \u001b[0;34m*\u001b[0m\u001b[0margs\u001b[0m\u001b[0;34m,\u001b[0m \u001b[0;34m**\u001b[0m\u001b[0mkwargs\u001b[0m\u001b[0;34m)\u001b[0m\u001b[0;34m\u001b[0m\u001b[0;34m\u001b[0m\u001b[0m\n\u001b[0m\u001b[1;32m   1390\u001b[0m \u001b[0;34m\u001b[0m\u001b[0m\n\u001b[1;32m   1391\u001b[0m         \u001b[0;32mreturn\u001b[0m \u001b[0mwrapper\u001b[0m\u001b[0;34m\u001b[0m\u001b[0;34m\u001b[0m\u001b[0m\n",
            "\u001b[0;32m/usr/local/lib/python3.11/dist-packages/sklearn/model_selection/_search.py\u001b[0m in \u001b[0;36mfit\u001b[0;34m(self, X, y, **params)\u001b[0m\n\u001b[1;32m   1022\u001b[0m                 \u001b[0;32mreturn\u001b[0m \u001b[0mresults\u001b[0m\u001b[0;34m\u001b[0m\u001b[0;34m\u001b[0m\u001b[0m\n\u001b[1;32m   1023\u001b[0m \u001b[0;34m\u001b[0m\u001b[0m\n\u001b[0;32m-> 1024\u001b[0;31m             \u001b[0mself\u001b[0m\u001b[0;34m.\u001b[0m\u001b[0m_run_search\u001b[0m\u001b[0;34m(\u001b[0m\u001b[0mevaluate_candidates\u001b[0m\u001b[0;34m)\u001b[0m\u001b[0;34m\u001b[0m\u001b[0;34m\u001b[0m\u001b[0m\n\u001b[0m\u001b[1;32m   1025\u001b[0m \u001b[0;34m\u001b[0m\u001b[0m\n\u001b[1;32m   1026\u001b[0m             \u001b[0;31m# multimetric is determined here because in the case of a callable\u001b[0m\u001b[0;34m\u001b[0m\u001b[0;34m\u001b[0m\u001b[0m\n",
            "\u001b[0;32m/usr/local/lib/python3.11/dist-packages/sklearn/model_selection/_search.py\u001b[0m in \u001b[0;36m_run_search\u001b[0;34m(self, evaluate_candidates)\u001b[0m\n\u001b[1;32m   1569\u001b[0m     \u001b[0;32mdef\u001b[0m \u001b[0m_run_search\u001b[0m\u001b[0;34m(\u001b[0m\u001b[0mself\u001b[0m\u001b[0;34m,\u001b[0m \u001b[0mevaluate_candidates\u001b[0m\u001b[0;34m)\u001b[0m\u001b[0;34m:\u001b[0m\u001b[0;34m\u001b[0m\u001b[0;34m\u001b[0m\u001b[0m\n\u001b[1;32m   1570\u001b[0m         \u001b[0;34m\"\"\"Search all candidates in param_grid\"\"\"\u001b[0m\u001b[0;34m\u001b[0m\u001b[0;34m\u001b[0m\u001b[0m\n\u001b[0;32m-> 1571\u001b[0;31m         \u001b[0mevaluate_candidates\u001b[0m\u001b[0;34m(\u001b[0m\u001b[0mParameterGrid\u001b[0m\u001b[0;34m(\u001b[0m\u001b[0mself\u001b[0m\u001b[0;34m.\u001b[0m\u001b[0mparam_grid\u001b[0m\u001b[0;34m)\u001b[0m\u001b[0;34m)\u001b[0m\u001b[0;34m\u001b[0m\u001b[0;34m\u001b[0m\u001b[0m\n\u001b[0m\u001b[1;32m   1572\u001b[0m \u001b[0;34m\u001b[0m\u001b[0m\n\u001b[1;32m   1573\u001b[0m \u001b[0;34m\u001b[0m\u001b[0m\n",
            "\u001b[0;32m/usr/local/lib/python3.11/dist-packages/sklearn/model_selection/_search.py\u001b[0m in \u001b[0;36mevaluate_candidates\u001b[0;34m(candidate_params, cv, more_results)\u001b[0m\n\u001b[1;32m    968\u001b[0m                     )\n\u001b[1;32m    969\u001b[0m \u001b[0;34m\u001b[0m\u001b[0m\n\u001b[0;32m--> 970\u001b[0;31m                 out = parallel(\n\u001b[0m\u001b[1;32m    971\u001b[0m                     delayed(_fit_and_score)(\n\u001b[1;32m    972\u001b[0m                         \u001b[0mclone\u001b[0m\u001b[0;34m(\u001b[0m\u001b[0mbase_estimator\u001b[0m\u001b[0;34m)\u001b[0m\u001b[0;34m,\u001b[0m\u001b[0;34m\u001b[0m\u001b[0;34m\u001b[0m\u001b[0m\n",
            "\u001b[0;32m/usr/local/lib/python3.11/dist-packages/sklearn/utils/parallel.py\u001b[0m in \u001b[0;36m__call__\u001b[0;34m(self, iterable)\u001b[0m\n\u001b[1;32m     75\u001b[0m             \u001b[0;32mfor\u001b[0m \u001b[0mdelayed_func\u001b[0m\u001b[0;34m,\u001b[0m \u001b[0margs\u001b[0m\u001b[0;34m,\u001b[0m \u001b[0mkwargs\u001b[0m \u001b[0;32min\u001b[0m \u001b[0miterable\u001b[0m\u001b[0;34m\u001b[0m\u001b[0;34m\u001b[0m\u001b[0m\n\u001b[1;32m     76\u001b[0m         )\n\u001b[0;32m---> 77\u001b[0;31m         \u001b[0;32mreturn\u001b[0m \u001b[0msuper\u001b[0m\u001b[0;34m(\u001b[0m\u001b[0;34m)\u001b[0m\u001b[0;34m.\u001b[0m\u001b[0m__call__\u001b[0m\u001b[0;34m(\u001b[0m\u001b[0miterable_with_config\u001b[0m\u001b[0;34m)\u001b[0m\u001b[0;34m\u001b[0m\u001b[0;34m\u001b[0m\u001b[0m\n\u001b[0m\u001b[1;32m     78\u001b[0m \u001b[0;34m\u001b[0m\u001b[0m\n\u001b[1;32m     79\u001b[0m \u001b[0;34m\u001b[0m\u001b[0m\n",
            "\u001b[0;32m/usr/local/lib/python3.11/dist-packages/joblib/parallel.py\u001b[0m in \u001b[0;36m__call__\u001b[0;34m(self, iterable)\u001b[0m\n\u001b[1;32m   2005\u001b[0m         \u001b[0mnext\u001b[0m\u001b[0;34m(\u001b[0m\u001b[0moutput\u001b[0m\u001b[0;34m)\u001b[0m\u001b[0;34m\u001b[0m\u001b[0;34m\u001b[0m\u001b[0m\n\u001b[1;32m   2006\u001b[0m \u001b[0;34m\u001b[0m\u001b[0m\n\u001b[0;32m-> 2007\u001b[0;31m         \u001b[0;32mreturn\u001b[0m \u001b[0moutput\u001b[0m \u001b[0;32mif\u001b[0m \u001b[0mself\u001b[0m\u001b[0;34m.\u001b[0m\u001b[0mreturn_generator\u001b[0m \u001b[0;32melse\u001b[0m \u001b[0mlist\u001b[0m\u001b[0;34m(\u001b[0m\u001b[0moutput\u001b[0m\u001b[0;34m)\u001b[0m\u001b[0;34m\u001b[0m\u001b[0;34m\u001b[0m\u001b[0m\n\u001b[0m\u001b[1;32m   2008\u001b[0m \u001b[0;34m\u001b[0m\u001b[0m\n\u001b[1;32m   2009\u001b[0m     \u001b[0;32mdef\u001b[0m \u001b[0m__repr__\u001b[0m\u001b[0;34m(\u001b[0m\u001b[0mself\u001b[0m\u001b[0;34m)\u001b[0m\u001b[0;34m:\u001b[0m\u001b[0;34m\u001b[0m\u001b[0;34m\u001b[0m\u001b[0m\n",
            "\u001b[0;32m/usr/local/lib/python3.11/dist-packages/joblib/parallel.py\u001b[0m in \u001b[0;36m_get_outputs\u001b[0;34m(self, iterator, pre_dispatch)\u001b[0m\n\u001b[1;32m   1648\u001b[0m \u001b[0;34m\u001b[0m\u001b[0m\n\u001b[1;32m   1649\u001b[0m             \u001b[0;32mwith\u001b[0m \u001b[0mself\u001b[0m\u001b[0;34m.\u001b[0m\u001b[0m_backend\u001b[0m\u001b[0;34m.\u001b[0m\u001b[0mretrieval_context\u001b[0m\u001b[0;34m(\u001b[0m\u001b[0;34m)\u001b[0m\u001b[0;34m:\u001b[0m\u001b[0;34m\u001b[0m\u001b[0;34m\u001b[0m\u001b[0m\n\u001b[0;32m-> 1650\u001b[0;31m                 \u001b[0;32myield\u001b[0m \u001b[0;32mfrom\u001b[0m \u001b[0mself\u001b[0m\u001b[0;34m.\u001b[0m\u001b[0m_retrieve\u001b[0m\u001b[0;34m(\u001b[0m\u001b[0;34m)\u001b[0m\u001b[0;34m\u001b[0m\u001b[0;34m\u001b[0m\u001b[0m\n\u001b[0m\u001b[1;32m   1651\u001b[0m \u001b[0;34m\u001b[0m\u001b[0m\n\u001b[1;32m   1652\u001b[0m         \u001b[0;32mexcept\u001b[0m \u001b[0mGeneratorExit\u001b[0m\u001b[0;34m:\u001b[0m\u001b[0;34m\u001b[0m\u001b[0;34m\u001b[0m\u001b[0m\n",
            "\u001b[0;32m/usr/local/lib/python3.11/dist-packages/joblib/parallel.py\u001b[0m in \u001b[0;36m_retrieve\u001b[0;34m(self)\u001b[0m\n\u001b[1;32m   1760\u001b[0m                 (self._jobs[0].get_status(\n\u001b[1;32m   1761\u001b[0m                     timeout=self.timeout) == TASK_PENDING)):\n\u001b[0;32m-> 1762\u001b[0;31m                 \u001b[0mtime\u001b[0m\u001b[0;34m.\u001b[0m\u001b[0msleep\u001b[0m\u001b[0;34m(\u001b[0m\u001b[0;36m0.01\u001b[0m\u001b[0;34m)\u001b[0m\u001b[0;34m\u001b[0m\u001b[0;34m\u001b[0m\u001b[0m\n\u001b[0m\u001b[1;32m   1763\u001b[0m                 \u001b[0;32mcontinue\u001b[0m\u001b[0;34m\u001b[0m\u001b[0;34m\u001b[0m\u001b[0m\n\u001b[1;32m   1764\u001b[0m \u001b[0;34m\u001b[0m\u001b[0m\n",
            "\u001b[0;31mKeyboardInterrupt\u001b[0m: "
          ]
        }
      ]
    },
    {
      "cell_type": "markdown",
      "source": [
        "3. Test for Min Samples Split"
      ],
      "metadata": {
        "id": "1uygNFmhnNzE"
      }
    },
    {
      "cell_type": "code",
      "source": [
        "# Define parameter grid\n",
        "param_grid = {\n",
        "    'max_samples':[0.7], #Reduce amount for training\n",
        "    'oob_score':[True],\n",
        "    'min_samples_split': [10,20,30]\n",
        "}\n",
        "\n",
        "# Perform GridSearch\n",
        "grid_search = GridSearchCV(rf,\n",
        "                      param_grid,\n",
        "                      cv=5,\n",
        "                      scoring= f1_weighted,\n",
        "                      return_train_score=True,\n",
        "                      n_jobs=-1,\n",
        "                      verbose=2)\n",
        "\n",
        "grid_search.fit(train_features, train_labels)\n",
        "\n",
        "# Results\n",
        "print(\"Training set score: {:.2f}\".format(grid_search.score(train_features,\n",
        "                                                            train_labels)))\n",
        "print(\"Best parameters: {}\".format(grid_search.best_params_))\n",
        "print(\"Best cross-validation score: {:.2f}\".format(grid_search.best_score_))\n",
        "print(\"Best estimator:\\n{}\".format(grid_search.best_estimator_))\n",
        "\n",
        "# best min_sample_split was 10"
      ],
      "metadata": {
        "colab": {
          "base_uri": "https://localhost:8080/"
        },
        "id": "ppcTbYsbKDSx",
        "outputId": "7b8a2b57-ab20-4946-91d2-786f5d365174"
      },
      "execution_count": null,
      "outputs": [
        {
          "output_type": "stream",
          "name": "stdout",
          "text": [
            "Fitting 5 folds for each of 3 candidates, totalling 15 fits\n"
          ]
        },
        {
          "output_type": "stream",
          "name": "stderr",
          "text": [
            "/usr/local/lib/python3.11/dist-packages/sklearn/base.py:1389: DataConversionWarning: A column-vector y was passed when a 1d array was expected. Please change the shape of y to (n_samples,), for example using ravel().\n",
            "  return fit_method(estimator, *args, **kwargs)\n"
          ]
        },
        {
          "output_type": "stream",
          "name": "stdout",
          "text": [
            "Training set score: 0.99\n",
            "Best parameters: {'max_samples': 0.7, 'min_samples_split': 10, 'oob_score': True}\n",
            "Best cross-validation score: 0.60\n",
            "Best estimator:\n",
            "RandomForestClassifier(max_samples=0.7, min_samples_split=10, oob_score=True,\n",
            "                       random_state=42)\n"
          ]
        }
      ]
    },
    {
      "cell_type": "markdown",
      "source": [
        "4. Test for Min Sample Leaf"
      ],
      "metadata": {
        "id": "QUxkBV95Y8Ep"
      }
    },
    {
      "cell_type": "code",
      "source": [
        "# Tune min sample leaf for Random Forest\n",
        "# Define parameter grid\n",
        "\n",
        "param_grid = {\n",
        "    'max_samples':[0.7], #Reduce amount for training\n",
        "    'oob_score':[True],\n",
        "    'min_samples_leaf': [1,3,5,7]\n",
        "}\n",
        "\n",
        "# Perform GridSearch\n",
        "grid_search = GridSearchCV(rf,\n",
        "                      param_grid,\n",
        "                      cv=5,\n",
        "                      scoring= f1_weighted,\n",
        "                      return_train_score=True,\n",
        "                      n_jobs=-1,\n",
        "                      verbose=2)\n",
        "\n",
        "grid_search.fit(train_features, train_labels)\n",
        "\n",
        "# Results\n",
        "print(\"Training set score: {:.2f}\".format(grid_search.score(train_features,\n",
        "                                                            train_labels)))\n",
        "print(\"Best parameters: {}\".format(grid_search.best_params_))\n",
        "print(\"Best cross-validation score: {:.2f}\".format(grid_search.best_score_))\n",
        "print(\"Best estimator:\\n{}\".format(grid_search.best_estimator_))\n",
        "\n",
        "# Best Min Sample Leaf is 3"
      ],
      "metadata": {
        "colab": {
          "base_uri": "https://localhost:8080/"
        },
        "id": "_ughl5l3-Fpa",
        "outputId": "c9ebbd9b-4fd0-4e71-ef33-434497912ab7"
      },
      "execution_count": null,
      "outputs": [
        {
          "output_type": "stream",
          "name": "stdout",
          "text": [
            "Fitting 5 folds for each of 4 candidates, totalling 20 fits\n"
          ]
        },
        {
          "output_type": "stream",
          "name": "stderr",
          "text": [
            "/usr/local/lib/python3.11/dist-packages/sklearn/base.py:1389: DataConversionWarning: A column-vector y was passed when a 1d array was expected. Please change the shape of y to (n_samples,), for example using ravel().\n",
            "  return fit_method(estimator, *args, **kwargs)\n"
          ]
        },
        {
          "output_type": "stream",
          "name": "stdout",
          "text": [
            "Training set score: 1.00\n",
            "Best parameters: {'max_samples': 0.7, 'min_samples_leaf': 3, 'oob_score': True}\n",
            "Best cross-validation score: 0.60\n",
            "Best estimator:\n",
            "RandomForestClassifier(max_samples=0.7, min_samples_leaf=3, oob_score=True,\n",
            "                       random_state=42)\n"
          ]
        }
      ]
    },
    {
      "cell_type": "markdown",
      "source": [
        "5. Test for max features"
      ],
      "metadata": {
        "id": "x4Hlfa4SwjWF"
      }
    },
    {
      "cell_type": "code",
      "source": [
        "param_grid = {\n",
        "    'max_samples':[0.7], #Reduce amount for training\n",
        "    'oob_score':[True],\n",
        "    'max_features': ['sqrt','log',None]\n",
        "}\n",
        "\n",
        "# Perform GridSearch\n",
        "grid_search = GridSearchCV(rf,\n",
        "                      param_grid,\n",
        "                      cv=5,\n",
        "                      scoring= f1_weighted,\n",
        "                      return_train_score=True,\n",
        "                      n_jobs=-1,\n",
        "                      verbose=2)\n",
        "\n",
        "grid_search.fit(train_features, train_labels)\n",
        "\n",
        "# Results\n",
        "print(\"Training set score: {:.2f}\".format(grid_search.score(train_features,\n",
        "                                                            train_labels)))\n",
        "print(\"Best parameters: {}\".format(grid_search.best_params_))\n",
        "print(\"Best cross-validation score: {:.2f}\".format(grid_search.best_score_))\n",
        "print(\"Best estimator:\\n{}\".format(grid_search.best_estimator_))\n",
        "\n",
        "# Best max_features is sqrt"
      ],
      "metadata": {
        "id": "GUXL4t7BqktY",
        "colab": {
          "base_uri": "https://localhost:8080/"
        },
        "outputId": "4b1e79b7-4ea8-4774-dd80-69f515588ef4"
      },
      "execution_count": null,
      "outputs": [
        {
          "output_type": "stream",
          "name": "stdout",
          "text": [
            "Fitting 5 folds for each of 3 candidates, totalling 15 fits\n"
          ]
        },
        {
          "output_type": "stream",
          "name": "stderr",
          "text": [
            "/usr/local/lib/python3.11/dist-packages/sklearn/model_selection/_validation.py:528: FitFailedWarning: \n",
            "5 fits failed out of a total of 15.\n",
            "The score on these train-test partitions for these parameters will be set to nan.\n",
            "If these failures are not expected, you can try to debug them by setting error_score='raise'.\n",
            "\n",
            "Below are more details about the failures:\n",
            "--------------------------------------------------------------------------------\n",
            "5 fits failed with the following error:\n",
            "Traceback (most recent call last):\n",
            "  File \"/usr/local/lib/python3.11/dist-packages/sklearn/model_selection/_validation.py\", line 866, in _fit_and_score\n",
            "    estimator.fit(X_train, y_train, **fit_params)\n",
            "  File \"/usr/local/lib/python3.11/dist-packages/sklearn/base.py\", line 1382, in wrapper\n",
            "    estimator._validate_params()\n",
            "  File \"/usr/local/lib/python3.11/dist-packages/sklearn/base.py\", line 436, in _validate_params\n",
            "    validate_parameter_constraints(\n",
            "  File \"/usr/local/lib/python3.11/dist-packages/sklearn/utils/_param_validation.py\", line 98, in validate_parameter_constraints\n",
            "    raise InvalidParameterError(\n",
            "sklearn.utils._param_validation.InvalidParameterError: The 'max_features' parameter of RandomForestClassifier must be an int in the range [1, inf), a float in the range (0.0, 1.0], a str among {'sqrt', 'log2'} or None. Got 'log' instead.\n",
            "\n",
            "  warnings.warn(some_fits_failed_message, FitFailedWarning)\n",
            "/usr/local/lib/python3.11/dist-packages/sklearn/model_selection/_search.py:1108: UserWarning: One or more of the test scores are non-finite: [0.64919913        nan 0.63384962]\n",
            "  warnings.warn(\n",
            "/usr/local/lib/python3.11/dist-packages/sklearn/model_selection/_search.py:1108: UserWarning: One or more of the train scores are non-finite: [0.99998518        nan 0.99983109]\n",
            "  warnings.warn(\n",
            "/usr/local/lib/python3.11/dist-packages/sklearn/base.py:1389: DataConversionWarning: A column-vector y was passed when a 1d array was expected. Please change the shape of y to (n_samples,), for example using ravel().\n",
            "  return fit_method(estimator, *args, **kwargs)\n"
          ]
        },
        {
          "output_type": "stream",
          "name": "stdout",
          "text": [
            "Training set score: 1.00\n",
            "Best parameters: {'max_features': 'sqrt', 'max_samples': 0.7, 'oob_score': True}\n",
            "Best cross-validation score: 0.65\n",
            "Best estimator:\n",
            "RandomForestClassifier(max_samples=0.7, oob_score=True, random_state=42)\n"
          ]
        }
      ]
    },
    {
      "cell_type": "markdown",
      "source": [
        "6. Test for criterion"
      ],
      "metadata": {
        "id": "NcKte2G8-fx0"
      }
    },
    {
      "cell_type": "code",
      "source": [
        "# Tune criterion for Random Forest\n",
        "\n",
        "param_grid = {\n",
        "    'criterion': ['gini','entropy']\n",
        "}\n",
        "\n",
        "# Perform GridSearch\n",
        "grid_search = GridSearchCV(rf,\n",
        "                          param_grid,\n",
        "                          cv=5,\n",
        "                          scoring=f1_weighted,\n",
        "                          return_train_score=True,\n",
        "                          n_jobs=-1,\n",
        "                          verbose=2)\n",
        "\n",
        "grid_search.fit(train_features, train_labels)\n",
        "\n",
        "# Results\n",
        "print(\"Training set score: {:.2f}\".format(grid_search.score(train_features,\n",
        "                                                            train_labels)))\n",
        "print(\"Best parameters: {}\".format(grid_search.best_params_))\n",
        "print(\"Best cross-validation score: {:.2f}\".format(grid_search.best_score_))\n",
        "print(\"Best estimator:\\n{}\".format(grid_search.best_estimator_))\n",
        "\n",
        "# Best criterion was entropy"
      ],
      "metadata": {
        "colab": {
          "base_uri": "https://localhost:8080/"
        },
        "id": "jfTCMt82-e5K",
        "outputId": "0a206dbd-1540-41a4-df81-f6510cba3bd8"
      },
      "execution_count": null,
      "outputs": [
        {
          "output_type": "stream",
          "name": "stdout",
          "text": [
            "Fitting 5 folds for each of 2 candidates, totalling 10 fits\n"
          ]
        },
        {
          "output_type": "stream",
          "name": "stderr",
          "text": [
            "/usr/local/lib/python3.11/dist-packages/joblib/externals/loky/process_executor.py:752: UserWarning: A worker stopped while some jobs were given to the executor. This can be caused by a too short worker timeout or by a memory leak.\n",
            "  warnings.warn(\n",
            "/usr/local/lib/python3.11/dist-packages/sklearn/base.py:1389: DataConversionWarning: A column-vector y was passed when a 1d array was expected. Please change the shape of y to (n_samples,), for example using ravel().\n",
            "  return fit_method(estimator, *args, **kwargs)\n"
          ]
        },
        {
          "output_type": "stream",
          "name": "stdout",
          "text": [
            "Training set score: 1.00\n",
            "Best parameters: {'criterion': 'entropy'}\n",
            "Best cross-validation score: 0.66\n",
            "Best estimator:\n",
            "RandomForestClassifier(criterion='entropy', random_state=42)\n"
          ]
        }
      ]
    },
    {
      "cell_type": "markdown",
      "metadata": {
        "id": "N-1pZi9xwRz8"
      },
      "source": [
        "##### Performance Evaluation"
      ]
    },
    {
      "cell_type": "markdown",
      "metadata": {
        "id": "h6bvOa2ewRz8"
      },
      "source": [
        "Using relevant metrics such as precision, recall, F1-score, and accuracy."
      ]
    },
    {
      "cell_type": "code",
      "source": [
        "# Initially with the parameters tested, the model did not do well\n",
        "initial_best_rnd_clf = RandomForestClassifier(n_estimators=300,\n",
        "                                              max_depth = 30,\n",
        "                                              min_samples_split = 10,\n",
        "                                              min_samples_leaf = 3,\n",
        "                                              criterion = \"entropy\",\n",
        "                                              max_features = \"sqrt\",\n",
        "                                              bootstrap = True,\n",
        "                                              oob_score = True,\n",
        "                                              n_jobs=-1)\n",
        "initial_best_rnd_clf.fit(train_features,\n",
        "                    train_labels,\n",
        "                    sample_weight = class_weights)\n",
        "predicted_labels = initial_best_rnd_clf.predict(test_features)\n",
        "print(metrics.classification_report(test_labels, predicted_labels))"
      ],
      "metadata": {
        "colab": {
          "base_uri": "https://localhost:8080/"
        },
        "id": "ACrz3miPOE_J",
        "outputId": "ebd1d111-41ec-4797-ca43-698bb4918727",
        "collapsed": true
      },
      "execution_count": null,
      "outputs": [
        {
          "output_type": "stream",
          "name": "stderr",
          "text": [
            "/usr/local/lib/python3.11/dist-packages/sklearn/base.py:1389: DataConversionWarning: A column-vector y was passed when a 1d array was expected. Please change the shape of y to (n_samples,), for example using ravel().\n",
            "  return fit_method(estimator, *args, **kwargs)\n"
          ]
        },
        {
          "output_type": "stream",
          "name": "stdout",
          "text": [
            "              precision    recall  f1-score   support\n",
            "\n",
            "           0       0.11      0.08      0.09      1744\n",
            "           1       0.31      0.38      0.34      5099\n",
            "           2       0.22      0.23      0.23      4149\n",
            "           3       0.12      0.10      0.11      2882\n",
            "           4       0.21      0.23      0.22      2523\n",
            "           5       0.09      0.11      0.10      2384\n",
            "           6       0.07      0.05      0.06      1977\n",
            "           7       0.06      0.06      0.06      2019\n",
            "           8       0.07      0.05      0.06      1660\n",
            "           9       0.08      0.06      0.07      1595\n",
            "\n",
            "    accuracy                           0.18     26032\n",
            "   macro avg       0.13      0.14      0.13     26032\n",
            "weighted avg       0.16      0.18      0.17     26032\n",
            "\n"
          ]
        }
      ]
    },
    {
      "cell_type": "markdown",
      "source": [
        "Interestingly, the performance is not much different from the base model. However, the f1-scores for minority classes has slightly improved with little improvement in average weighted f1-score. Overall, the score is quite low, potentially because the model is overfitting."
      ],
      "metadata": {
        "id": "BKvJCjO14YlC"
      }
    },
    {
      "cell_type": "code",
      "source": [
        "# Model is overfitting\n",
        "predicted_labels = initial_best_rnd_clf.predict(train_features)\n",
        "print(metrics.classification_report(train_labels, predicted_labels))"
      ],
      "metadata": {
        "colab": {
          "base_uri": "https://localhost:8080/"
        },
        "id": "NfXvYnTx4cd1",
        "outputId": "3d7a88a4-1643-4c59-c1ac-2ac6edd22c3a"
      },
      "execution_count": null,
      "outputs": [
        {
          "output_type": "stream",
          "name": "stdout",
          "text": [
            "              precision    recall  f1-score   support\n",
            "\n",
            "           0       1.00      1.00      1.00      6716\n",
            "           1       1.00      1.00      1.00     13861\n",
            "           2       1.00      1.00      1.00     10585\n",
            "           3       1.00      1.00      1.00      8497\n",
            "           4       1.00      1.00      1.00      7458\n",
            "           5       1.00      1.00      1.00      9341\n",
            "           6       1.00      1.00      1.00      7773\n",
            "           7       1.00      1.00      1.00      7594\n",
            "           8       1.00      1.00      1.00      6848\n",
            "           9       1.00      1.00      1.00      6324\n",
            "\n",
            "    accuracy                           1.00     84997\n",
            "   macro avg       1.00      1.00      1.00     84997\n",
            "weighted avg       1.00      1.00      1.00     84997\n",
            "\n"
          ]
        }
      ]
    },
    {
      "cell_type": "markdown",
      "source": [
        "The model is overfitting therefore to reduce the number of small branches which are potentially capturing noise, min_sampled_split and min_samples_leaf was increased. Max Depth was also decreased to avoid additional complexity in the tree"
      ],
      "metadata": {
        "id": "r2hUyJyw4lk9"
      }
    },
    {
      "cell_type": "code",
      "source": [],
      "metadata": {
        "id": "br3s5_c1nW2K"
      },
      "execution_count": null,
      "outputs": []
    },
    {
      "cell_type": "code",
      "execution_count": null,
      "metadata": {
        "id": "ju1r-Lll6aQw",
        "colab": {
          "base_uri": "https://localhost:8080/"
        },
        "outputId": "fdc4b057-f653-400a-a976-23f7cd685824"
      },
      "outputs": [
        {
          "output_type": "stream",
          "name": "stderr",
          "text": [
            "/usr/local/lib/python3.11/dist-packages/sklearn/base.py:1389: DataConversionWarning: A column-vector y was passed when a 1d array was expected. Please change the shape of y to (n_samples,), for example using ravel().\n",
            "  return fit_method(estimator, *args, **kwargs)\n"
          ]
        },
        {
          "output_type": "stream",
          "name": "stdout",
          "text": [
            "Training time: 1038.5778377056122\n",
            "              precision    recall  f1-score   support\n",
            "\n",
            "           0       0.10      0.10      0.10      1744\n",
            "           1       0.32      0.33      0.33      5099\n",
            "           2       0.22      0.21      0.21      4149\n",
            "           3       0.12      0.11      0.11      2882\n",
            "           4       0.21      0.26      0.23      2523\n",
            "           5       0.10      0.10      0.10      2384\n",
            "           6       0.07      0.05      0.06      1977\n",
            "           7       0.05      0.06      0.06      2019\n",
            "           8       0.06      0.06      0.06      1660\n",
            "           9       0.07      0.07      0.07      1595\n",
            "\n",
            "    accuracy                           0.17     26032\n",
            "   macro avg       0.13      0.13      0.13     26032\n",
            "weighted avg       0.16      0.17      0.17     26032\n",
            "\n"
          ]
        }
      ],
      "source": [
        "best_rnd_clf = RandomForestClassifier(n_estimators=500,\n",
        "                                      max_depth = 20,\n",
        "                                      min_samples_split = 20,\n",
        "                                      min_samples_leaf = 7,\n",
        "                                      max_features = \"sqrt\",\n",
        "                                      criterion = \"entropy\",\n",
        "                                      bootstrap = True,\n",
        "                                      oob_score = True,\n",
        "                                      n_jobs=-1)\n",
        "t0 = time.time()\n",
        "best_rnd_clf.fit(train_features, train_labels, sample_weight = class_weights)\n",
        "print(\"Training time:\", time.time()-t0) #Training time took roughly 17 minutes\n",
        "predicted_labels = best_rnd_clf.predict(test_features)\n",
        "print(metrics.classification_report(test_labels, predicted_labels))"
      ]
    },
    {
      "cell_type": "code",
      "source": [
        "# Save Model\n",
        "file = open('/content/drive/My Drive/data_asg1/best_rnd_clf', 'wb')\n",
        "joblib.dump(best_rnd_clf, file)\n",
        "file.close()"
      ],
      "metadata": {
        "id": "IXqGrOaFfqt1"
      },
      "execution_count": null,
      "outputs": []
    },
    {
      "cell_type": "markdown",
      "metadata": {
        "id": "zG0IP_IlwRz8"
      },
      "source": [
        "#### 4.2b. Gradient Boosting Model"
      ]
    },
    {
      "cell_type": "markdown",
      "source": [
        "###### Base Model"
      ],
      "metadata": {
        "id": "KI4r7on2hz6B"
      }
    },
    {
      "cell_type": "code",
      "source": [
        "# Default model for XGBClassifier\n",
        "xgb = XGBClassifier(random_state=42)\n",
        "t0 = time.time()\n",
        "xgb.fit(train_features, train_labels)\n",
        "print(\"Training time:\", time.time()-t0) # Training time took 43 seconds\n",
        "predicted_labels = xgb.predict(test_features)\n",
        "print(metrics.classification_report(test_labels, predicted_labels))"
      ],
      "metadata": {
        "colab": {
          "base_uri": "https://localhost:8080/"
        },
        "id": "doN-vem5aHhy",
        "outputId": "69504b3e-6b79-49d4-e1a0-24990bfee00b"
      },
      "execution_count": null,
      "outputs": [
        {
          "output_type": "stream",
          "name": "stdout",
          "text": [
            "Training time: 43.253286361694336\n",
            "              precision    recall  f1-score   support\n",
            "\n",
            "           0       0.11      0.09      0.10      1744\n",
            "           1       0.33      0.32      0.33      5099\n",
            "           2       0.23      0.22      0.23      4149\n",
            "           3       0.11      0.10      0.10      2882\n",
            "           4       0.22      0.17      0.19      2523\n",
            "           5       0.11      0.16      0.13      2384\n",
            "           6       0.09      0.10      0.09      1977\n",
            "           7       0.07      0.07      0.07      2019\n",
            "           8       0.08      0.09      0.08      1660\n",
            "           9       0.06      0.06      0.06      1595\n",
            "\n",
            "    accuracy                           0.17     26032\n",
            "   macro avg       0.14      0.14      0.14     26032\n",
            "weighted avg       0.17      0.17      0.17     26032\n",
            "\n"
          ]
        }
      ]
    },
    {
      "cell_type": "markdown",
      "source": [
        "From the results above, we can see that the model does not generalise well at all. It predicts class 1 and 2 the best, but poorly for the undersampled classes 0,4,6 to 9."
      ],
      "metadata": {
        "id": "C9qxO34FbosW"
      }
    },
    {
      "cell_type": "markdown",
      "source": [
        "##### Hyperparameters Tuning - Gradient Boosting Model"
      ],
      "metadata": {
        "id": "L1VJ8aCnGF4E"
      }
    },
    {
      "cell_type": "markdown",
      "source": [
        "Prior to choosing for the important parameters n_estimators and max_depth, a model was trained to roughly estimate expected performance when testing for other parameters such as learning rate, min child weight and subsample."
      ],
      "metadata": {
        "id": "XZhjaa-Yupa6"
      }
    },
    {
      "cell_type": "markdown",
      "source": [
        "1. Test Learning Rate"
      ],
      "metadata": {
        "id": "h4cbkMIKjLlv"
      }
    },
    {
      "cell_type": "code",
      "source": [
        "# Define the base model\n",
        "normal_xgb = XGBClassifier(random_state=42)\n",
        "\n",
        "# Test Learning Rate\n",
        "param_grid = {\n",
        "    'learning_rate': [0.05, 0.1, 0.2]\n",
        "}\n",
        "\n",
        "search_xgb_learning_rate = GridSearchCV(normal_xgb,\n",
        "                                        param_grid,\n",
        "                                        cv=5,\n",
        "                                        scoring=f1_weighted,\n",
        "                                        return_train_score=True,\n",
        "                                        n_jobs=-1,\n",
        "                                        verbose=2\n",
        ")\n",
        "\n",
        "search_xgb_learning_rate.fit(train_features,\n",
        "                             train_labels,\n",
        "                             sample_weight = class_weights)\n",
        "\n",
        "print(\"Best n_estimators:\", search_xgb_learning_rate.best_params_)\n",
        "print(\"Best F1 score:\", search_xgb_learning_rate.best_score_)"
      ],
      "metadata": {
        "colab": {
          "base_uri": "https://localhost:8080/"
        },
        "id": "LSsKHE1-baTm",
        "outputId": "f79c246f-99e1-466c-97de-58565cfb67de"
      },
      "execution_count": null,
      "outputs": [
        {
          "output_type": "stream",
          "name": "stdout",
          "text": [
            "Fitting 5 folds for each of 3 candidates, totalling 15 fits\n",
            "Best n_estimators: {'learning_rate': 0.2}\n",
            "Best F1 score: 0.6842139509847762\n"
          ]
        }
      ]
    },
    {
      "cell_type": "markdown",
      "source": [
        "2. Test Minimimum Child Weight"
      ],
      "metadata": {
        "id": "zqThe1dNjUsi"
      }
    },
    {
      "cell_type": "code",
      "source": [
        "# Test min child weight\n",
        "\n",
        "# Test Learning Rate\n",
        "param_grid = {\n",
        "    'min_child_weight': [1, 3, 5, 7],\n",
        "}\n",
        "\n",
        "search_xgb_min_child_weight = GridSearchCV(normal_xgb,\n",
        "                                          param_grid,\n",
        "                                          cv=5,\n",
        "                                          scoring=f1_weighted,\n",
        "                                          return_train_score=True,\n",
        "                                          n_jobs=-1,\n",
        "                                          verbose=2\n",
        ")\n",
        "\n",
        "search_xgb_min_child_weight.fit(train_features,\n",
        "                                train_labels,\n",
        "                                sample_weight = class_weights)\n",
        "\n",
        "print(\"Best n_estimators:\", search_xgb_min_child_weight.best_params_)\n",
        "print(\"Best F1 score:\", search_xgb_min_child_weight.best_score_)"
      ],
      "metadata": {
        "colab": {
          "base_uri": "https://localhost:8080/"
        },
        "id": "R8bZnttp51SM",
        "outputId": "ad839151-cb24-40d4-fa31-ef1b3b838ee7"
      },
      "execution_count": null,
      "outputs": [
        {
          "output_type": "stream",
          "name": "stdout",
          "text": [
            "Fitting 5 folds for each of 4 candidates, totalling 20 fits\n",
            "Best n_estimators: {'min_child_weight': 7}\n",
            "Best F1 score: 0.7040248552748208\n"
          ]
        }
      ]
    },
    {
      "cell_type": "markdown",
      "source": [
        "3. Test Subsample"
      ],
      "metadata": {
        "id": "SUevYti9jdtI"
      }
    },
    {
      "cell_type": "code",
      "source": [
        "# Test Subsample\n",
        "param_grid = {\n",
        "    'subsample': [0.6, 0.7, 0.8, 0.9, 1.0],\n",
        "}\n",
        "\n",
        "search_xgb_subsample = GridSearchCV(normal_xgb,\n",
        "                                    param_grid,\n",
        "                                    cv=5,\n",
        "                                    scoring=f1_weighted,\n",
        "                                    return_train_score=True,\n",
        "                                    n_jobs=-1,\n",
        "                                    verbose=2\n",
        ")\n",
        "\n",
        "search_xgb_subsample.fit(train_features,\n",
        "                        train_labels,\n",
        "                        sample_weight = class_weights)\n",
        "\n",
        "print(\"Best n_estimators:\", search_xgb_subsample.best_params_)\n",
        "print(\"Best F1 score:\", search_xgb_subsample.best_score_)"
      ],
      "metadata": {
        "colab": {
          "base_uri": "https://localhost:8080/"
        },
        "id": "h5iwf96k_K30",
        "outputId": "f9521017-45c8-47e9-dbfe-a61ed78c9ef8"
      },
      "execution_count": null,
      "outputs": [
        {
          "output_type": "stream",
          "name": "stdout",
          "text": [
            "Fitting 5 folds for each of 5 candidates, totalling 25 fits\n",
            "Best n_estimators: {'subsample': 0.8}\n",
            "Best F1 score: 0.7126759164043672\n"
          ]
        }
      ]
    },
    {
      "cell_type": "markdown",
      "source": [
        "Now we will test the hyperparameters which take a bit longer to run."
      ],
      "metadata": {
        "id": "jfohavZFw_F5"
      }
    },
    {
      "cell_type": "markdown",
      "source": [
        "4. Test Max Depth"
      ],
      "metadata": {
        "id": "R5crTv9djhZ3"
      }
    },
    {
      "cell_type": "code",
      "source": [
        "# Features which take too long to run: Number of estimators and max depth\n",
        "# Test Max Depth\n",
        "\n",
        "param_grid = {\n",
        "    'max_depth': [10, 20, 30]\n",
        "}\n",
        "\n",
        "search_xgb_max_depth = GridSearchCV(normal_xgb,\n",
        "                                    param_grid,\n",
        "                                    cv=5,\n",
        "                                    scoring=f1_weighted,\n",
        "                                    return_train_score=True,\n",
        "                                    n_jobs=-1,\n",
        "                                    verbose=2\n",
        ")\n",
        "\n",
        "search_xgb_max_depth.fit(train_features,\n",
        "                         train_labels,\n",
        "                         sample_weight = class_weights)\n",
        "\n",
        "print(\"Best n_estimators:\", search_xgb_max_depth.best_params_)\n",
        "print(\"Best F1 score:\", search_xgb_max_depth.best_score_)\n",
        "\n",
        "# Max depth with best performance is 10."
      ],
      "metadata": {
        "colab": {
          "base_uri": "https://localhost:8080/",
          "height": 139
        },
        "id": "yMkDY7XFujY2",
        "outputId": "61f4fd7b-a93f-462d-e817-d011784ee7ed"
      },
      "execution_count": null,
      "outputs": [
        {
          "output_type": "stream",
          "name": "stdout",
          "text": [
            "Fitting 5 folds for each of 3 candidates, totalling 15 fits\n",
            "🔄 Keeping session alive...\n",
            "🔄 Keeping session alive...\n",
            "🔄 Keeping session alive...\n",
            "🔄 Keeping session alive...\n",
            "Best n_estimators: {'max_depth': 10}\n",
            "Best F1 score: 0.726307616310469\n"
          ]
        }
      ]
    },
    {
      "cell_type": "markdown",
      "source": [
        "5. Test Number of Estimators"
      ],
      "metadata": {
        "id": "wtxMRrEsjnWD"
      }
    },
    {
      "cell_type": "code",
      "source": [
        "# Test n_estimators\n",
        "param_grid = {\n",
        "    'n_estimators': [100, 200, 300]\n",
        "}\n",
        "\n",
        "search_xgb_n_estimators = GridSearchCV(normal_xgb,\n",
        "                                   param_grid ,\n",
        "                                   cv=5,\n",
        "                                   scoring=f1_weighted,\n",
        "                                   return_train_score=True,\n",
        "                                   n_jobs=-1,\n",
        "                                   verbose=2\n",
        ")\n",
        "\n",
        "search_xgb_n_estimators.fit(train_features, train_labels, sample_weight = classes_weights)\n",
        "\n",
        "print(\"Best n_estimators:\", search_xgb_n_estimators.best_params_)\n",
        "print(\"Best F1 score:\", search_xgb_n_estimators.best_score_)"
      ],
      "metadata": {
        "colab": {
          "base_uri": "https://localhost:8080/"
        },
        "id": "H_HZwXGx5KR0",
        "outputId": "58f19765-7f2c-4178-8313-cc82f4ddda2a"
      },
      "execution_count": null,
      "outputs": [
        {
          "output_type": "stream",
          "name": "stdout",
          "text": [
            "Fitting 5 folds for each of 3 candidates, totalling 15 fits\n",
            "Best n_estimators: {'n_estimators': 300}\n",
            "Best F1 score: 0.7494999029604449\n"
          ]
        }
      ]
    },
    {
      "cell_type": "markdown",
      "metadata": {
        "id": "P4ojhtU3wRz8"
      },
      "source": [
        "##### Performance Evaluation"
      ]
    },
    {
      "cell_type": "code",
      "source": [
        "# Define best parameters\n",
        "best_params = {\n",
        "    'n_estimators': 300,\n",
        "    'max_depth': 10,\n",
        "    'min_child_weight': 7,\n",
        "    'subsample': 0.8,\n",
        "    'learning_rate': 0.05,\n",
        "    'device': 'cuda'\n",
        "}\n",
        "\n",
        "# Initialize the classifier\n",
        "best_XGB_clf = XGBClassifier(**best_params)\n",
        "\n",
        "# Fit the model\n",
        "best_XGB_clf.fit(train_features, train_labels, sample_weight=class_weights)\n",
        "\n",
        "# Predict\n",
        "predicted_labels = best_XGB_clf.predict(test_features)\n",
        "\n",
        "# Evaluate model\n",
        "print(classification_report(test_labels, predicted_labels))\n"
      ],
      "metadata": {
        "id": "xIx41sF6XsVE",
        "colab": {
          "base_uri": "https://localhost:8080/"
        },
        "outputId": "c7233916-3fdd-4eb1-c6b6-ca7b957f2941"
      },
      "execution_count": null,
      "outputs": [
        {
          "output_type": "stream",
          "name": "stdout",
          "text": [
            "              precision    recall  f1-score   support\n",
            "\n",
            "           0       0.10      0.09      0.09      1744\n",
            "           1       0.35      0.26      0.30      5099\n",
            "           2       0.24      0.21      0.22      4149\n",
            "           3       0.11      0.11      0.11      2882\n",
            "           4       0.20      0.19      0.19      2523\n",
            "           5       0.09      0.12      0.10      2384\n",
            "           6       0.08      0.10      0.09      1977\n",
            "           7       0.06      0.07      0.06      2019\n",
            "           8       0.07      0.10      0.09      1660\n",
            "           9       0.07      0.08      0.08      1595\n",
            "\n",
            "    accuracy                           0.15     26032\n",
            "   macro avg       0.14      0.13      0.13     26032\n",
            "weighted avg       0.17      0.15      0.16     26032\n",
            "\n"
          ]
        }
      ]
    },
    {
      "cell_type": "markdown",
      "source": [
        "Model performs slightly worse than the base model."
      ],
      "metadata": {
        "id": "yCdLwzOWwwt8"
      }
    },
    {
      "cell_type": "code",
      "source": [
        "# Overfitting on training set\n",
        "predicted_labels = best_XGB_clf.predict(train_features)\n",
        "print(metrics.classification_report(train_labels, predicted_labels))"
      ],
      "metadata": {
        "colab": {
          "base_uri": "https://localhost:8080/"
        },
        "id": "RfLSHexk0xB4",
        "outputId": "d59a09ed-b5fe-4a47-cf45-02c317a0892a"
      },
      "execution_count": null,
      "outputs": [
        {
          "output_type": "stream",
          "name": "stdout",
          "text": [
            "              precision    recall  f1-score   support\n",
            "\n",
            "           0       0.99      1.00      0.99      6716\n",
            "           1       0.98      0.98      0.98     13861\n",
            "           2       0.99      0.98      0.99     10585\n",
            "           3       0.99      0.99      0.99      8497\n",
            "           4       0.99      0.99      0.99      7458\n",
            "           5       1.00      0.99      0.99      9341\n",
            "           6       1.00      0.99      0.99      7773\n",
            "           7       0.99      0.99      0.99      7594\n",
            "           8       0.99      1.00      0.99      6848\n",
            "           9       0.99      1.00      0.99      6324\n",
            "\n",
            "    accuracy                           0.99     84997\n",
            "   macro avg       0.99      0.99      0.99     84997\n",
            "weighted avg       0.99      0.99      0.99     84997\n",
            "\n"
          ]
        }
      ]
    },
    {
      "cell_type": "markdown",
      "source": [
        "To account for overfitting, I included reg_alpha and reg_alpha to make the model more conservative, and also included colsample_bytree. Numbers did not seem to deviate too much from base model still."
      ],
      "metadata": {
        "id": "Hz66NytB3u0R"
      }
    },
    {
      "cell_type": "code",
      "source": [
        "improved_params = {\n",
        "    \"n_estimators\": 100,\n",
        "    \"max_depth\": 20,\n",
        "    \"gamma\": 0,\n",
        "    \"learning_rate\":None,\n",
        "    \"reg_lambda\": 1,\n",
        "    'reg_alpha': 0.5,\n",
        "    \"subsample\": 0.8,\n",
        "    'colsample_bytree': 0.8,\n",
        "    \"device\":\"cuda\",\n",
        "    \"tree_method\": \"hist\",\n",
        "}\n",
        "\n",
        "# Initialize the classifier\n",
        "best_XGB_clf = XGBClassifier(**improved_params)\n",
        "\n",
        "# Fit the model\n",
        "best_XGB_clf.fit(train_features, train_labels, sample_weight=class_weights)\n",
        "\n",
        "# Predict\n",
        "predicted_labels = best_XGB_clf.predict(test_features)\n",
        "\n",
        "# Evaluate model\n",
        "print(classification_report(test_labels, predicted_labels))"
      ],
      "metadata": {
        "id": "52OpFQOX1q6i",
        "colab": {
          "base_uri": "https://localhost:8080/"
        },
        "outputId": "f2bb1f5f-3eac-46a0-9fe3-a1a606f59084"
      },
      "execution_count": null,
      "outputs": [
        {
          "output_type": "stream",
          "name": "stdout",
          "text": [
            "              precision    recall  f1-score   support\n",
            "\n",
            "           0       0.10      0.08      0.09      1744\n",
            "           1       0.35      0.29      0.32      5099\n",
            "           2       0.24      0.22      0.23      4149\n",
            "           3       0.12      0.11      0.12      2882\n",
            "           4       0.20      0.16      0.18      2523\n",
            "           5       0.09      0.13      0.11      2384\n",
            "           6       0.08      0.11      0.09      1977\n",
            "           7       0.06      0.06      0.06      2019\n",
            "           8       0.07      0.09      0.08      1660\n",
            "           9       0.07      0.08      0.08      1595\n",
            "\n",
            "    accuracy                           0.16     26032\n",
            "   macro avg       0.14      0.13      0.13     26032\n",
            "weighted avg       0.17      0.16      0.17     26032\n",
            "\n"
          ]
        }
      ]
    },
    {
      "cell_type": "code",
      "source": [
        "# Save the base model\n",
        "file = open('/content/drive/My Drive/data_asg1/best_xgb_clf', 'wb')\n",
        "joblib.dump(xgb, file) ## Save base model here\n",
        "file.close()"
      ],
      "metadata": {
        "id": "wfik6Ts5CgvM"
      },
      "execution_count": null,
      "outputs": []
    },
    {
      "cell_type": "markdown",
      "source": [
        "#### 4.2c. Naive Bayes Classifier"
      ],
      "metadata": {
        "id": "Yn02Stmv1x7I"
      }
    },
    {
      "cell_type": "markdown",
      "source": [
        "##### Base model"
      ],
      "metadata": {
        "id": "asaXF63wDKrM"
      }
    },
    {
      "cell_type": "code",
      "source": [
        "# Define the base model\n",
        "gnb = GaussianNB()\n",
        "gnb.fit(train_features, train_labels)\n",
        "predicted_labels = gnb.predict(test_features)\n",
        "print(metrics.classification_report(test_labels, predicted_labels))"
      ],
      "metadata": {
        "colab": {
          "base_uri": "https://localhost:8080/"
        },
        "id": "FCwohxk6DJ-O",
        "outputId": "d0fd4e0b-f7bc-417b-b474-ae2b4a76f53c"
      },
      "execution_count": null,
      "outputs": [
        {
          "output_type": "stream",
          "name": "stdout",
          "text": [
            "              precision    recall  f1-score   support\n",
            "\n",
            "           0       0.10      0.06      0.08      1744\n",
            "           1       0.23      0.62      0.33      5099\n",
            "           2       0.22      0.09      0.13      4149\n",
            "           3       0.12      0.05      0.07      2882\n",
            "           4       0.17      0.07      0.10      2523\n",
            "           5       0.13      0.10      0.11      2384\n",
            "           6       0.09      0.09      0.09      1977\n",
            "           7       0.10      0.12      0.11      2019\n",
            "           8       0.07      0.03      0.04      1660\n",
            "           9       0.09      0.02      0.03      1595\n",
            "\n",
            "    accuracy                           0.18     26032\n",
            "   macro avg       0.13      0.12      0.11     26032\n",
            "weighted avg       0.15      0.18      0.14     26032\n",
            "\n"
          ]
        },
        {
          "output_type": "stream",
          "name": "stderr",
          "text": [
            "/usr/local/lib/python3.11/dist-packages/sklearn/utils/validation.py:1408: DataConversionWarning: A column-vector y was passed when a 1d array was expected. Please change the shape of y to (n_samples, ), for example using ravel().\n",
            "  y = column_or_1d(y, warn=True)\n"
          ]
        }
      ]
    },
    {
      "cell_type": "markdown",
      "source": [
        "##### Hyperparameter Tuning"
      ],
      "metadata": {
        "id": "VEENc_GfDfle"
      }
    },
    {
      "cell_type": "markdown",
      "source": [
        "1. Identify best value for Variance Smoothing"
      ],
      "metadata": {
        "id": "e1HBCji5DlUh"
      }
    },
    {
      "cell_type": "code",
      "source": [
        "# Define the base model\n",
        "gnb = GaussianNB()\n",
        "\n",
        "# Define the parameter grid for hyperparameter tuning\n",
        "params_NB = {'var_smoothing': [1e-9, 1e-8, 1e-7, 1e-6, 1e-5, 1e-4]}\n",
        "\n",
        "search_gnb_alpha = GridSearchCV(gnb ,\n",
        "                                params_NB ,\n",
        "                                cv=5,\n",
        "                                scoring=f1_weighted,\n",
        "                                return_train_score=True,\n",
        "                                n_jobs=-1,\n",
        "                                verbose=2)\n",
        "\n",
        "search_gnb_alpha.fit(train_features, train_labels)\n",
        "\n",
        "print(\"Best n_estimators:\", search_gnb_alpha.best_params_)\n",
        "print(\"Best F1 score:\", search_gnb_alpha.best_score_)\n"
      ],
      "metadata": {
        "colab": {
          "base_uri": "https://localhost:8080/"
        },
        "id": "XOVAjxwY2sy1",
        "outputId": "5fe39758-758e-472f-f1cb-1a238d4ae05f"
      },
      "execution_count": null,
      "outputs": [
        {
          "output_type": "stream",
          "name": "stdout",
          "text": [
            "Fitting 5 folds for each of 6 candidates, totalling 30 fits\n",
            "Best n_estimators: {'var_smoothing': 1e-09}\n",
            "Best F1 score: 0.21479199298459184\n"
          ]
        },
        {
          "output_type": "stream",
          "name": "stderr",
          "text": [
            "/usr/local/lib/python3.11/dist-packages/sklearn/utils/validation.py:1408: DataConversionWarning: A column-vector y was passed when a 1d array was expected. Please change the shape of y to (n_samples, ), for example using ravel().\n",
            "  y = column_or_1d(y, warn=True)\n"
          ]
        }
      ]
    },
    {
      "cell_type": "markdown",
      "source": [
        "2. Test Priors"
      ],
      "metadata": {
        "id": "dH2midizGPhc"
      }
    },
    {
      "cell_type": "code",
      "source": [
        "# Define the parameter grid for hyperparameter tuning\n",
        "priors_to_test = [\n",
        "    None,\n",
        "    [0.1] * 10,  # Uniform priors for 10 classes\n",
        "    [0.05, 0.05, 0.05, 0.05, 0.15, 0.15, 0.15, 0.15, 0.1, 0.1]  # Custom priors\n",
        "]\n",
        "# 2. Create a parameter grid for GridSearchCV\n",
        "param_priors = {'priors': priors_to_test}\n",
        "\n",
        "search_gnb_priors = GridSearchCV(gnb,\n",
        "                                param_priors ,\n",
        "                                cv=5,\n",
        "                                scoring=f1_weighted,\n",
        "                                return_train_score=True,\n",
        "                                n_jobs=-1,\n",
        "                                verbose=2)\n",
        "\n",
        "search_gnb_priors.fit(train_features, train_labels)\n",
        "\n",
        "print(\"Best n_estimators:\", search_gnb_priors.best_params_)\n",
        "print(\"Best F1 score:\", search_gnb_priors.best_score_)\n"
      ],
      "metadata": {
        "colab": {
          "base_uri": "https://localhost:8080/"
        },
        "id": "tceHAvQWMZfB",
        "outputId": "4df08087-05d1-4800-f4cd-497275e85f18"
      },
      "execution_count": null,
      "outputs": [
        {
          "output_type": "stream",
          "name": "stdout",
          "text": [
            "Fitting 5 folds for each of 3 candidates, totalling 15 fits\n",
            "Best n_estimators: {'priors': [0.1, 0.1, 0.1, 0.1, 0.1, 0.1, 0.1, 0.1, 0.1, 0.1]}\n",
            "Best F1 score: 0.23548981827596344\n"
          ]
        },
        {
          "output_type": "stream",
          "name": "stderr",
          "text": [
            "/usr/local/lib/python3.11/dist-packages/sklearn/utils/validation.py:1408: DataConversionWarning: A column-vector y was passed when a 1d array was expected. Please change the shape of y to (n_samples, ), for example using ravel().\n",
            "  y = column_or_1d(y, warn=True)\n"
          ]
        }
      ]
    },
    {
      "cell_type": "markdown",
      "source": [
        "##### Performance Evaluation"
      ],
      "metadata": {
        "id": "fEwNSNs7OJGf"
      }
    },
    {
      "cell_type": "code",
      "source": [
        "best_gnb_clf = GaussianNB(priors = [0.1] * 10,\n",
        "                      var_smoothing=1e-09)\n",
        "t0 = time.time()\n",
        "best_gnb_clf.fit(train_features, train_labels)\n",
        "print(\"Training time:\", time.time()-t0) # Less than 1 second\n",
        "predicted_labels = best_gnb_clf.predict(test_features)\n",
        "print(metrics.classification_report(test_labels, predicted_labels))"
      ],
      "metadata": {
        "colab": {
          "base_uri": "https://localhost:8080/"
        },
        "id": "2bevS0WeHATd",
        "outputId": "fc6e7b4b-7f56-4b85-d3a3-b94469f0fa0e"
      },
      "execution_count": null,
      "outputs": [
        {
          "output_type": "stream",
          "name": "stdout",
          "text": [
            "Training time: 0.07915425300598145\n",
            "              precision    recall  f1-score   support\n",
            "\n",
            "           0       0.11      0.08      0.09      1744\n",
            "           1       0.23      0.55      0.33      5099\n",
            "           2       0.22      0.06      0.10      4149\n",
            "           3       0.12      0.07      0.09      2882\n",
            "           4       0.16      0.12      0.14      2523\n",
            "           5       0.12      0.07      0.09      2384\n",
            "           6       0.08      0.08      0.08      1977\n",
            "           7       0.10      0.13      0.11      2019\n",
            "           8       0.07      0.04      0.05      1660\n",
            "           9       0.08      0.04      0.05      1595\n",
            "\n",
            "    accuracy                           0.17     26032\n",
            "   macro avg       0.13      0.13      0.11     26032\n",
            "weighted avg       0.15      0.17      0.14     26032\n",
            "\n"
          ]
        },
        {
          "output_type": "stream",
          "name": "stderr",
          "text": [
            "/usr/local/lib/python3.11/dist-packages/sklearn/utils/validation.py:1408: DataConversionWarning: A column-vector y was passed when a 1d array was expected. Please change the shape of y to (n_samples, ), for example using ravel().\n",
            "  y = column_or_1d(y, warn=True)\n"
          ]
        }
      ]
    },
    {
      "cell_type": "code",
      "source": [
        "# Save model\n",
        "file = open('/content/drive/My Drive/data_asg1/best_gnb_clf', 'wb')\n",
        "joblib.dump(best_gnb_clf, file) ## Save best model here\n",
        "file.close()"
      ],
      "metadata": {
        "id": "VT1vOyrJGjDV"
      },
      "execution_count": null,
      "outputs": []
    },
    {
      "cell_type": "markdown",
      "source": [
        "#### 4.2d. Nearest Neighbours Classifier"
      ],
      "metadata": {
        "id": "tyAKPbHMVFuu"
      }
    },
    {
      "cell_type": "markdown",
      "source": [
        "###### Base Model"
      ],
      "metadata": {
        "id": "VDoxMBGAi3Vw"
      }
    },
    {
      "cell_type": "code",
      "source": [
        "knn = KNeighborsClassifier()\n",
        "knn.fit(train_features, train_labels)\n",
        "predicted_labels = knn.predict(test_features)\n",
        "print(metrics.classification_report(test_labels, predicted_labels))"
      ],
      "metadata": {
        "colab": {
          "base_uri": "https://localhost:8080/"
        },
        "id": "VVDGwz6Fk4N9",
        "outputId": "8d02648b-456c-40cc-c9eb-ca485984a01b"
      },
      "execution_count": null,
      "outputs": [
        {
          "output_type": "stream",
          "name": "stderr",
          "text": [
            "/usr/local/lib/python3.11/dist-packages/sklearn/neighbors/_classification.py:239: DataConversionWarning: A column-vector y was passed when a 1d array was expected. Please change the shape of y to (n_samples,), for example using ravel().\n",
            "  return self._fit(X, y)\n"
          ]
        },
        {
          "output_type": "stream",
          "name": "stdout",
          "text": [
            "              precision    recall  f1-score   support\n",
            "\n",
            "           0       0.11      0.20      0.15      1744\n",
            "           1       0.28      0.49      0.36      5099\n",
            "           2       0.23      0.17      0.20      4149\n",
            "           3       0.12      0.10      0.11      2882\n",
            "           4       0.17      0.13      0.15      2523\n",
            "           5       0.10      0.07      0.08      2384\n",
            "           6       0.08      0.06      0.07      1977\n",
            "           7       0.06      0.02      0.03      2019\n",
            "           8       0.06      0.06      0.06      1660\n",
            "           9       0.06      0.03      0.04      1595\n",
            "\n",
            "    accuracy                           0.18     26032\n",
            "   macro avg       0.13      0.13      0.12     26032\n",
            "weighted avg       0.16      0.18      0.16     26032\n",
            "\n"
          ]
        }
      ]
    },
    {
      "cell_type": "markdown",
      "source": [
        "##### Hyperparameter Tuning"
      ],
      "metadata": {
        "id": "BWutU4PGzirf"
      }
    },
    {
      "cell_type": "markdown",
      "source": [
        "1. Find best k"
      ],
      "metadata": {
        "id": "9gbulodypkcb"
      }
    },
    {
      "cell_type": "code",
      "source": [
        "knn = KNeighborsClassifier()\n",
        "\n",
        "param_grid = {'n_neighbors': [10,20,30,40,50],\n",
        "              'weights' : ['distance']}\n",
        "\n",
        "search_knn_best_k = GridSearchCV(knn, param_grid, cv=5, scoring=f1_weighted, n_jobs=-1)\n",
        "search_knn_best_k.fit(train_features, train_labels)\n",
        "\n",
        "print(\"Best Parameters:\", search_knn_best_k.best_params_)\n",
        "print(\"Best F1 score:\", search_knn_best_k.best_score_)"
      ],
      "metadata": {
        "id": "nyeRRbSdXKoR",
        "colab": {
          "base_uri": "https://localhost:8080/"
        },
        "outputId": "7998aea3-b67e-416e-f8e8-19f1536c7e12"
      },
      "execution_count": null,
      "outputs": [
        {
          "output_type": "stream",
          "name": "stdout",
          "text": [
            "Best Parameters: {'n_neighbors': 20, 'weights': 'distance'}\n",
            "Best F1 score: 0.5514406231000767\n"
          ]
        },
        {
          "output_type": "stream",
          "name": "stderr",
          "text": [
            "/usr/local/lib/python3.11/dist-packages/sklearn/neighbors/_classification.py:239: DataConversionWarning: A column-vector y was passed when a 1d array was expected. Please change the shape of y to (n_samples,), for example using ravel().\n",
            "  return self._fit(X, y)\n"
          ]
        }
      ]
    },
    {
      "cell_type": "markdown",
      "source": [
        "2. Find best search algorithm"
      ],
      "metadata": {
        "id": "UPYjyRALqKoL"
      }
    },
    {
      "cell_type": "code",
      "source": [
        "param_grid = {'n_neighbors': [20],\n",
        "              'weights' : ['distance'],\n",
        "              'algorithm': ['auto', 'ball_tree', 'kd_tree','brute']}\n",
        "\n",
        "search_knn_best_algorithm = GridSearchCV(knn, param_grid, cv=5, scoring=f1_weighted, n_jobs=-1)\n",
        "search_knn_best_algorithm.fit(train_features, train_labels)\n",
        "\n",
        "print(\"Best Parameters:\", search_knn_best_algorithm.best_params_)\n",
        "print(\"Best F1 score:\", search_knn_best_algorithm.best_score_)"
      ],
      "metadata": {
        "colab": {
          "base_uri": "https://localhost:8080/"
        },
        "id": "sX6b-PS_pwGP",
        "outputId": "ccc8e0fc-733c-4644-8bab-79df5a46d9b3"
      },
      "execution_count": null,
      "outputs": [
        {
          "output_type": "stream",
          "name": "stdout",
          "text": [
            "Best Parameters: {'algorithm': 'auto', 'n_neighbors': 20, 'weights': 'distance'}\n",
            "Best F1 score: 0.5514406231000767\n"
          ]
        },
        {
          "output_type": "stream",
          "name": "stderr",
          "text": [
            "/usr/local/lib/python3.11/dist-packages/sklearn/neighbors/_classification.py:239: DataConversionWarning: A column-vector y was passed when a 1d array was expected. Please change the shape of y to (n_samples,), for example using ravel().\n",
            "  return self._fit(X, y)\n"
          ]
        }
      ]
    },
    {
      "cell_type": "markdown",
      "source": [
        "3. Find the best metric"
      ],
      "metadata": {
        "id": "EPsMZAaEyMgt"
      }
    },
    {
      "cell_type": "code",
      "source": [
        "param_grid = {'n_neighbors': [20],\n",
        "              'weights' : ['distance'],\n",
        "              'algorithm': ['auto'],\n",
        "              'metric':['euclidean','manhattan','minkowski','mahalanobis']}\n",
        "\n",
        "search_knn_best_metric = GridSearchCV(knn, param_grid, cv=5, scoring=f1_weighted, n_jobs=-1)\n",
        "search_knn_best_metric.fit(train_features, train_labels)\n",
        "\n",
        "print(\"Best Parameters:\", search_knn_best_metric.best_params_)\n",
        "print(\"Best F1 score:\", search_knn_best_metric.best_score_)"
      ],
      "metadata": {
        "colab": {
          "base_uri": "https://localhost:8080/"
        },
        "id": "QO7ogcLOkJVF",
        "outputId": "c9ce0749-a208-41f1-9204-e1af2de6106e"
      },
      "execution_count": null,
      "outputs": [
        {
          "output_type": "stream",
          "name": "stdout",
          "text": [
            "Best Parameters: {'algorithm': 'auto', 'metric': 'manhattan', 'n_neighbors': 20, 'weights': 'distance'}\n",
            "Best F1 score: 0.5529858534499202\n"
          ]
        },
        {
          "output_type": "stream",
          "name": "stderr",
          "text": [
            "/usr/local/lib/python3.11/dist-packages/sklearn/model_selection/_search.py:1108: UserWarning: One or more of the test scores are non-finite: [0.512261   0.55298585 0.512261          nan]\n",
            "  warnings.warn(\n",
            "/usr/local/lib/python3.11/dist-packages/sklearn/neighbors/_classification.py:239: DataConversionWarning: A column-vector y was passed when a 1d array was expected. Please change the shape of y to (n_samples,), for example using ravel().\n",
            "  return self._fit(X, y)\n"
          ]
        }
      ]
    },
    {
      "cell_type": "markdown",
      "source": [
        "##### Performance Evaluation"
      ],
      "metadata": {
        "id": "0Hqd8aHCzpgf"
      }
    },
    {
      "cell_type": "code",
      "source": [
        "predicted_labels = search_knn_best_metric.predict(test_features)\n",
        "print(metrics.classification_report(test_labels, predicted_labels))"
      ],
      "metadata": {
        "colab": {
          "base_uri": "https://localhost:8080/"
        },
        "id": "rUL2WqTW1IdJ",
        "outputId": "ac9ab7e9-56e4-4ae1-deea-b5662cde436b"
      },
      "execution_count": null,
      "outputs": [
        {
          "output_type": "stream",
          "name": "stdout",
          "text": [
            "              precision    recall  f1-score   support\n",
            "\n",
            "           0       0.15      0.12      0.14      1744\n",
            "           1       0.27      0.56      0.37      5099\n",
            "           2       0.25      0.20      0.22      4149\n",
            "           3       0.12      0.10      0.11      2882\n",
            "           4       0.17      0.13      0.14      2523\n",
            "           5       0.10      0.07      0.09      2384\n",
            "           6       0.09      0.07      0.08      1977\n",
            "           7       0.05      0.02      0.03      2019\n",
            "           8       0.06      0.05      0.05      1660\n",
            "           9       0.06      0.04      0.05      1595\n",
            "\n",
            "    accuracy                           0.19     26032\n",
            "   macro avg       0.13      0.14      0.13     26032\n",
            "weighted avg       0.16      0.19      0.16     26032\n",
            "\n"
          ]
        }
      ]
    },
    {
      "cell_type": "code",
      "source": [
        "# Best knn model\n",
        "best_knn_clf = KNeighborsClassifier(algorithm='auto',\n",
        "                                 metric='manhattan',\n",
        "                                 n_neighbors=20,\n",
        "                                 weights='distance')\n",
        "t0 = time.time()\n",
        "best_knn_clf.fit(train_features, train_labels)\n",
        "print(\"Training time:\", time.time()-t0) #Took 0.01 seconds"
      ],
      "metadata": {
        "colab": {
          "base_uri": "https://localhost:8080/"
        },
        "id": "duyNymrw_t5u",
        "outputId": "a0b8e1b1-e5e3-4bd5-bd73-67f6737193d0"
      },
      "execution_count": null,
      "outputs": [
        {
          "output_type": "stream",
          "name": "stdout",
          "text": [
            "Training time: 0.010942935943603516\n"
          ]
        },
        {
          "output_type": "stream",
          "name": "stderr",
          "text": [
            "/usr/local/lib/python3.11/dist-packages/sklearn/neighbors/_classification.py:239: DataConversionWarning: A column-vector y was passed when a 1d array was expected. Please change the shape of y to (n_samples,), for example using ravel().\n",
            "  return self._fit(X, y)\n"
          ]
        }
      ]
    },
    {
      "cell_type": "code",
      "source": [
        "file = open('/content/drive/My Drive/data_asg1/best_knn_clf', 'wb')\n",
        "joblib.dump(best_knn_clf, file)\n",
        "file.close()"
      ],
      "metadata": {
        "id": "G7m4_caT01N0"
      },
      "execution_count": null,
      "outputs": []
    },
    {
      "cell_type": "markdown",
      "metadata": {
        "id": "jxgT4YDnwRz8"
      },
      "source": [
        "### 4.3. Comparison"
      ]
    },
    {
      "cell_type": "markdown",
      "metadata": {
        "id": "5IqId0cGwRz9"
      },
      "source": [
        "After finding the best parameter for each algorithm, we would like to make comparisons between all classifiers using their own best hyperparameters."
      ]
    },
    {
      "cell_type": "markdown",
      "source": [
        "Read in our models"
      ],
      "metadata": {
        "id": "zyr2ju97taSK"
      }
    },
    {
      "cell_type": "code",
      "source": [
        "data_path = '/content/drive/My Drive/data_asg1'"
      ],
      "metadata": {
        "id": "m9I0dBYK0uSU"
      },
      "execution_count": null,
      "outputs": []
    },
    {
      "cell_type": "code",
      "source": [
        "# Function to load a pickled model\n",
        "def load_model(filename):\n",
        "    with open(filename, 'rb') as file:\n",
        "        model = joblib.load(file)\n",
        "    return model\n",
        "\n",
        "# List of pickled model filenames (replace with your actual filenames)\n",
        "model_files = {\n",
        "    \"Random Forest\": \"best_rnd_clf\",\n",
        "    \"XGBoost\": \"best_xgb_clf\",\n",
        "    \"Naive Bayes\": \"best_gnb_clf\",\n",
        "    \"Nearest Neighbours\": \"best_knn_clf\"\n",
        "}"
      ],
      "metadata": {
        "id": "ibQi32t6roau"
      },
      "execution_count": null,
      "outputs": []
    },
    {
      "cell_type": "code",
      "source": [
        "# Function to evaluate a model\n",
        "def evaluate_model(model, X_test, y_test, predicted):\n",
        "\n",
        "    # Compute the metrics\n",
        "    f1 = f1_score(y_test, predicted, average='weighted')\n",
        "    precision = precision_score(y_test, predicted, average='weighted')\n",
        "    recall = recall_score(y_test, predicted, average='weighted')\n",
        "    auc = roc_auc_score(y_test, model.predict_proba(X_test), multi_class='ovr', average='weighted')\n",
        "\n",
        "    return {\n",
        "        \"F1 Score\": f1,\n",
        "        \"Precision\": precision,\n",
        "        \"Recall\": recall,\n",
        "        \"AUC\": auc\n",
        "    }"
      ],
      "metadata": {
        "id": "A6SGEOyeuH4e"
      },
      "execution_count": null,
      "outputs": []
    },
    {
      "cell_type": "code",
      "source": [
        "# Store evaluation results\n",
        "models = {}  # Dictionary to store loaded models\n",
        "results_metrics = []\n",
        "results_confusion_matrices = {}\n",
        "\n",
        "# Loop through pickled models and evaluate each\n",
        "for name, filename in model_files.items():\n",
        "    print(f\"Loading and evaluating {name}...\")\n",
        "    model = load_model(data_path + \"/\" + filename)\n",
        "    models[name] = model  # Store model in dictionary\n",
        "\n",
        "    # Get predicted results for each model\n",
        "    predicted_labels = model.predict(test_features)\n",
        "\n",
        "    # Calculate metrics\n",
        "    metrics = evaluate_model(model, test_features, test_labels, predicted_labels)\n",
        "\n",
        "    # Store metrics in list\n",
        "    results_metrics.append({\n",
        "        \"Model\": name,\n",
        "        **metrics\n",
        "    })\n",
        "\n",
        "    # Compute and store confusion matrix\n",
        "    cm = confusion_matrix(test_labels, predicted_labels)\n",
        "    results_confusion_matrices[name] = cm\n",
        "\n",
        "# Convert results to a DataFrame for easy comparison\n",
        "results_df = pd.DataFrame(results_metrics)\n",
        "\n",
        "# Print results\n",
        "print(\"\\nModel Comparison Results:\")\n",
        "print(results_df)"
      ],
      "metadata": {
        "colab": {
          "base_uri": "https://localhost:8080/"
        },
        "id": "l6ZnRQFVuKqZ",
        "outputId": "d6ec7652-8b16-4770-92fe-cd9a81da398d"
      },
      "execution_count": null,
      "outputs": [
        {
          "output_type": "stream",
          "name": "stdout",
          "text": [
            "Loading and evaluating Random Forest...\n",
            "Loading and evaluating XGBoost...\n",
            "Loading and evaluating Naive Bayes...\n",
            "Loading and evaluating Nearest Neighbours...\n",
            "\n",
            "Model Comparison Results:\n",
            "                Model  F1 Score  Precision    Recall       AUC\n",
            "0       Random Forest  0.168386   0.166904  0.171059  0.566463\n",
            "1             XGBoost  0.169644   0.173094  0.167947  0.562121\n",
            "2         Naive Bayes  0.138389   0.150815  0.170982  0.545313\n",
            "3  Nearest Neighbours  0.164700   0.159926  0.192455  0.564887\n"
          ]
        }
      ]
    },
    {
      "cell_type": "code",
      "source": [
        "# Plot confusion matrices\n",
        "fig, axes = plt.subplots(2, 2, figsize=(12, 10))  # Adjust based on number of models\n",
        "axes = axes.ravel()  # Flatten axes array\n",
        "\n",
        "for i, (name, cm) in enumerate(results_confusion_matrices.items()):\n",
        "    sns.heatmap(cm, annot=True, fmt='d', cmap='Blues', ax=axes[i])\n",
        "    axes[i].set_title(f\"Confusion Matrix - {name}\")\n",
        "    axes[i].set_xlabel(\"Predicted Label\")\n",
        "    axes[i].set_ylabel(\"True Label\")\n",
        "\n",
        "plt.tight_layout()\n",
        "plt.show()"
      ],
      "metadata": {
        "colab": {
          "base_uri": "https://localhost:8080/",
          "height": 663
        },
        "id": "OKcauf4-ArUt",
        "outputId": "b4765682-e5f4-4602-a7a4-45e525eef91f"
      },
      "execution_count": null,
      "outputs": [
        {
          "output_type": "display_data",
          "data": {
            "text/plain": [
              "<Figure size 1200x1000 with 8 Axes>"
            ],
            "image/png": "[encoded data removed]"
          },
          "metadata": {}
        }
      ]
    },
    {
      "cell_type": "markdown",
      "metadata": {
        "id": "dlkJLaZ860Sp"
      },
      "source": [
        "### 4.4. Coding Environment"
      ]
    },
    {
      "cell_type": "markdown",
      "metadata": {
        "id": "NLTvTfhRwRz9"
      },
      "source": [
        "You are required to provide the specifications of software and hardware (e.g., the version of main packages, the information of CPU/GPU/TPU usage, etc.)  "
      ]
    },
    {
      "cell_type": "markdown",
      "source": [
        "\n",
        "*   All code was run using Google Colab using an Apple M1 Macbook Air Laptop with 8GB.\n",
        "*   All code was run using CPU; however for training XGBoost Classifier, T4 GPU was used.\n",
        "\n",
        "\n"
      ],
      "metadata": {
        "id": "M2lebMjX51Gv"
      }
    },
    {
      "cell_type": "code",
      "source": [
        "# Get versions of installed packages\n",
        "import numpy as np\n",
        "import pandas as pd\n",
        "import matplotlib\n",
        "import scipy\n",
        "import sklearn\n",
        "import cv2\n",
        "import seaborn as sns\n",
        "\n",
        "print(\"NumPy version:\", np.__version__)\n",
        "print(\"Pandas version:\", pd.__version__)\n",
        "print(\"Matplotlib version:\", matplotlib.__version__)\n",
        "print(\"SciPy version:\", scipy.__version__)\n",
        "print(\"Scikit-Learn version:\", sklearn.__version__)\n",
        "print(\"OpenCV version:\", cv2.__version__)\n",
        "print(\"Seaborn version:\", sns.__version__)\n"
      ],
      "metadata": {
        "colab": {
          "base_uri": "https://localhost:8080/"
        },
        "id": "SiuqHKmu6JfV",
        "outputId": "f46a71ed-73a3-462d-8e0a-52cab65253e9"
      },
      "execution_count": 3,
      "outputs": [
        {
          "output_type": "stream",
          "name": "stdout",
          "text": [
            "NumPy version: 2.0.2\n",
            "Pandas version: 2.2.2\n",
            "Matplotlib version: 3.10.0\n",
            "SciPy version: 1.14.1\n",
            "Scikit-Learn version: 1.6.1\n",
            "OpenCV version: 4.11.0\n",
            "Seaborn version: 0.13.2\n"
          ]
        }
      ]
    },
    {
      "cell_type": "markdown",
      "metadata": {
        "id": "8SYfY5uqwRz9"
      },
      "source": [
        "### 4.5 Packages/Code not mentioned in lectures"
      ]
    },
    {
      "cell_type": "markdown",
      "source": [
        "**Albumentations Code and Documentation**\n",
        "\n",
        "https://albumentations.ai/docs/api_reference/augmentations/\n",
        "\n",
        "https://medium.com/@nimritakoul01/image-augmentations-with-albumentations-python-library-part1-823f99a3943a\n",
        "\n",
        "**Gray Scaling**\n",
        "\n",
        "https://www.geeksforgeeks.org/python-grayscaling-of-images-using-opencv/\n",
        "\n",
        "**Class Weights**\n",
        "\n",
        "https://datascience.stackexchange.com/questions/13490/how-to-set-class-weights-for-imbalanced-classes-in-keras\n",
        "\n",
        "**Confusion Matrices**\n",
        "https://scikit-learn.org/stable/modules/generated/sklearn.metrics.confusion_matrix.html\n"
      ],
      "metadata": {
        "id": "_cj-sMOX7xQl"
      }
    },
    {
      "cell_type": "code",
      "source": [],
      "metadata": {
        "id": "rFjMHPir85JE"
      },
      "execution_count": null,
      "outputs": []
    },
    {
      "cell_type": "markdown",
      "metadata": {
        "id": "qMIuhhJDwRz9"
      },
      "source": [
        "## 5. Report Guidelines"
      ]
    },
    {
      "cell_type": "markdown",
      "metadata": {
        "id": "mj1Srqf2wRz9"
      },
      "source": [
        "### Your report should follow this structure:"
      ]
    },
    {
      "cell_type": "markdown",
      "metadata": {
        "id": "s5ablxOMwRz9"
      },
      "source": [
        "1. **Introduction**: Introduce the problem that you are attempting to solve, alongside the primary objectives of your project.\n",
        "\n",
        "2. **Methodology**: This section should delve into the various techniques and algorithms that you implemented throughout your project. Discuss aspects like data preprocessing, the reasoning behind your choice of models, and the approach taken to fine-tune hyperparameters.\n",
        "\n",
        "3. **Evaluation and Comparison**: Here, you should present and interpret the results from your models. Compare the performance of different algorithms and explain any observed trends or surprising outcomes. Enhance this section by using tables, charts, or other visual aids to effectively illustrate your findings.\n",
        "\n",
        "4. **Discussion**: This is where you should reflect on and discuss your findings. Consider the following questions: What strategies worked well? Which ones didn't? Were the outcomes as expected or were there any surprises?\n",
        "\n",
        "5. **Conclusion**: Summarize your work, main findings, limitations, and potential avenues for future work.\n",
        "\n",
        "6. **Appendix**: In the appendix section, provide clear instructions detailing how to run your code. Also, mention the hardware and software environment you used during your project.\n",
        "\n",
        "The main report should not exceed 10 pages, excluding the appendix and references. Include your student ID and name in your report as well.\n",
        "\n",
        "Refer to the rubric on Canvas for comprehensive guidance on each section. This report should serve as a clear, concise, and well-organized representation of your project."
      ]
    }
  ],
  "metadata": {
    "anaconda-cloud": {},
    "colab": {
      "provenance": [],
      "toc_visible": true
    },
    "kernelspec": {
      "display_name": "python3.11",
      "language": "python",
      "name": "python3.11"
    },
    "language_info": {
      "codemirror_mode": {
        "name": "ipython",
        "version": 3
      },
      "file_extension": ".py",
      "mimetype": "text/x-python",
      "name": "python",
      "nbconvert_exporter": "python",
      "pygments_lexer": "ipython3",
      "version": "3.11.0"
    },
    "vscode": {
      "interpreter": {
        "hash": "b56e77b82383e2db981da5b6f1580278e91108ad4c2c10115741773f5c95bcd1"
      }
    }
  },
  "nbformat": 4,
  "nbformat_minor": 0
}